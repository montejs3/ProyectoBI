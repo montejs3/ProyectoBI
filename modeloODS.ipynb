{
 "cells": [
  {
   "cell_type": "markdown",
   "metadata": {},
   "source": [
    "# Proyecto 1: ONU ODS\n",
    "\n",
    "- Juan Camilo Colmenares - 202011866\n",
    "- Juan Montealegre - 20201723\n",
    "- David Gonzales - 201815834\n",
    "\n",
    "El objetivo de este proyecto es pasar "
   ]
  },
  {
   "cell_type": "code",
   "execution_count": 196,
   "metadata": {},
   "outputs": [
    {
     "name": "stderr",
     "output_type": "stream",
     "text": [
      "[nltk_data] Downloading package wordnet to\n",
      "[nltk_data]     C:\\Users\\juank\\AppData\\Roaming\\nltk_data...\n",
      "[nltk_data]   Package wordnet is already up-to-date!\n",
      "[nltk_data] Downloading package words to\n",
      "[nltk_data]     C:\\Users\\juank\\AppData\\Roaming\\nltk_data...\n",
      "[nltk_data]   Package words is already up-to-date!\n",
      "[nltk_data] Downloading package stopwords to\n",
      "[nltk_data]     C:\\Users\\juank\\AppData\\Roaming\\nltk_data...\n",
      "[nltk_data]   Package stopwords is already up-to-date!\n",
      "[nltk_data] Downloading package averaged_perceptron_tagger to\n",
      "[nltk_data]     C:\\Users\\juank\\AppData\\Roaming\\nltk_data...\n",
      "[nltk_data]   Package averaged_perceptron_tagger is already up-to-\n",
      "[nltk_data]       date!\n",
      "[nltk_data] Downloading package punkt to\n",
      "[nltk_data]     C:\\Users\\juank\\AppData\\Roaming\\nltk_data...\n",
      "[nltk_data]   Package punkt is already up-to-date!\n"
     ]
    }
   ],
   "source": [
    "import numpy as np\n",
    "import pandas as pd\n",
    "\n",
    "import re, os, string, time, unicodedata\n",
    "\n",
    "import nltk\n",
    "from nltk.corpus import stopwords\n",
    "from nltk.corpus import wordnet\n",
    "from nltk.tokenize import word_tokenize\n",
    "from nltk import word_tokenize, sent_tokenize\n",
    "\n",
    "import inflect\n",
    "\n",
    "\n",
    "from sklearn.ensemble import RandomForestClassifier\n",
    "from sklearn.feature_extraction.text import CountVectorizer, TfidfVectorizer\n",
    "from sklearn.metrics import (\n",
    "    ConfusionMatrixDisplay, RocCurveDisplay,\n",
    "    roc_auc_score, precision_score, recall_score, f1_score\n",
    ")\n",
    "from sklearn.model_selection import train_test_split, RandomizedSearchCV\n",
    "from sklearn.pipeline import Pipeline\n",
    "\n",
    "import contractions\n",
    "import seaborn as sns; sns.set()  # for plot styling\n",
    "\n",
    "\n",
    "import matplotlib.pyplot as plt\n",
    "import timeit\n",
    "\n",
    "nltk.download('wordnet')\n",
    "nltk.download('words')\n",
    "nltk.download('stopwords')\n",
    "nltk.download('averaged_perceptron_tagger')\n",
    "nltk.download('punkt')\n",
    "\n",
    "stop_words = stopwords.words('spanish')\n",
    "remove_punct_dict = dict((ord(punct), None) for punct in string.punctuation)\n",
    "lemmer = nltk.stem.WordNetLemmatizer()\n"
   ]
  },
  {
   "cell_type": "code",
   "execution_count": 197,
   "metadata": {},
   "outputs": [],
   "source": [
    "# pd.set_option(\"display.max_colwidth\", None)"
   ]
  },
  {
   "cell_type": "code",
   "execution_count": 198,
   "metadata": {},
   "outputs": [],
   "source": [
    "# nltk.download(\"punkt\")\n",
    "# nltk.download(\"stopwords\")\n",
    "# stopwords = stopwords.words(\"spanish\")"
   ]
  },
  {
   "cell_type": "code",
   "execution_count": 199,
   "metadata": {},
   "outputs": [],
   "source": [
    "df = pd.read_excel(\"data/cat_6716.xlsx\")"
   ]
  },
  {
   "cell_type": "markdown",
   "metadata": {},
   "source": [
    "## 1. Entendimiento de datos"
   ]
  },
  {
   "cell_type": "code",
   "execution_count": 200,
   "metadata": {},
   "outputs": [
    {
     "data": {
      "text/plain": [
       "(3000, 2)"
      ]
     },
     "execution_count": 200,
     "metadata": {},
     "output_type": "execute_result"
    }
   ],
   "source": [
    "df.shape"
   ]
  },
  {
   "cell_type": "code",
   "execution_count": 201,
   "metadata": {},
   "outputs": [
    {
     "data": {
      "text/html": [
       "<div>\n",
       "<style scoped>\n",
       "    .dataframe tbody tr th:only-of-type {\n",
       "        vertical-align: middle;\n",
       "    }\n",
       "\n",
       "    .dataframe tbody tr th {\n",
       "        vertical-align: top;\n",
       "    }\n",
       "\n",
       "    .dataframe thead th {\n",
       "        text-align: right;\n",
       "    }\n",
       "</style>\n",
       "<table border=\"1\" class=\"dataframe\">\n",
       "  <thead>\n",
       "    <tr style=\"text-align: right;\">\n",
       "      <th></th>\n",
       "      <th>Textos_espanol</th>\n",
       "      <th>sdg</th>\n",
       "    </tr>\n",
       "  </thead>\n",
       "  <tbody>\n",
       "    <tr>\n",
       "      <th>76</th>\n",
       "      <td>El Capítulo 3 señala que se necesita gestión para abordar las externalidades y señala que múltiples opciones de políticas pueden ayudar a abordar estos problemas, reconociendo que las respuestas específicas deberán adaptarse a las condiciones hidrogeológicas y ambientales. El Capítulo 4 proporciona una descripción general de los enfoques de gestión en los países de la OCDE que varían ampliamente, con evidencia débil de una correspondencia de restricción-respuesta. Solo cuatro de los 20 países de la OCDE que respondieron (Austria, República Checa, Eslovenia y los Países Bajos - nacionales y regionales) y cinco de las 20 regiones (la región de la isla volcánica de Jeju en Corea y las cuatro regiones españolas) informan que realizan evaluaciones periódicas de la gestión de las aguas subterráneas . Como parte de la Directiva Marco del Agua de la UE, los países miembros de la UE deben proporcionar informes sobre el estado de implementación y el estado cualitativo y cuantitativo de los organismos de gestión de aguas subterráneas.</td>\n",
       "      <td>6</td>\n",
       "    </tr>\n",
       "    <tr>\n",
       "      <th>1723</th>\n",
       "      <td>Está influenciado por la demanda de la industria, el transporte y los hogares, por las políticas energéticas nacionales y por los precios de la energía nacionales e internacionales. Las principales formas renovables son la hidráulica, la geotérmica, la eólica, la biomasa, los residuos y la energía solar. En algunos países la disminución se debió a la transferencia de industrias intensivas en energía a otros países. Tal subcontratación puede aumentar las presiones sobre el medio ambiente mundial si se utilizan técnicas menos eficientes desde el punto de vista energético.</td>\n",
       "      <td>7</td>\n",
       "    </tr>\n",
       "    <tr>\n",
       "      <th>2176</th>\n",
       "      <td>En el surgimiento de gobiernos democráticos en América Latina, la perspectiva neoliberal de la ley y el orden ha sido el modelo de seguridad más influyente en la región. Este enfoque se basa en la oposición entre el Estado y los agentes ilegales, como si fueran dos conjuntos diferentes de actores. Influenciado por este modelo, el presidente mexicano Vicente Fox lanzó un extenso programa contra la piratería para erradicar la venta minorista de productos falsificados. Con base en material etnográfico recolectado en el mercado de San Juan de Dios en Guadalajara, discuto sobre los intercambios entre vendedores piratas y policías. Mi argumento es que los programas de aplicación de la ley no han afectado la economía política de la corrupción, pasan por alto la red de lealtades ambiguas donde están arraigados los actores estatales e ilegales. La antropología del estado proporciona la razón fundamental para una crítica de las políticas de seguridad neoliberales.</td>\n",
       "      <td>16</td>\n",
       "    </tr>\n",
       "    <tr>\n",
       "      <th>985</th>\n",
       "      <td>Por ejemplo, en Canadá, el gobierno federal no ha publicado recientemente ningún objetivo o indicador sobre el agua hacia el que puedan trabajar todos los ministerios, y la política integrada del agua se enfrenta a obstáculos. Esto puede crear tensiones entre ministerios con intereses contrapuestos a nivel subnacional y exige una personalización de la política del agua a nivel territorial. Por ejemplo, en México, los programas de la Comisión Nacional del Agua (CONAGUA) tratan de responder a la creciente demanda de agua de los distintos usuarios, especialmente de los que disponen de menos recursos hídricos.</td>\n",
       "      <td>6</td>\n",
       "    </tr>\n",
       "    <tr>\n",
       "      <th>2994</th>\n",
       "      <td>E l castigo corporal se considera cada vez más como un acto de violencia contra los niños. El castigo corporal incluye cualquier uso de castigo físico contra un niño en respuesta a una mala conducta. Por lo general, esto incluye azotes, bofetadas y bofetadas, pero también incluye el uso de un objeto como una vara o un palo, tirar del cabello y torcer las orejas. Un creciente cuerpo de investigación se ha centrado en la disciplina y los efectos adversos del castigo corporal (Berlin et al., 2009, Lansford et al., 2009). La Convención de las Naciones Unidas sobre los Derechos del Niño afirma que los Estados toman “todas las medidas legislativas, administrativas, sociales y educativas apropiadas para proteger al niño de todas las formas de violencia física o mental. . .â€ (UNICEF, 1989, ArtÃculo 19, Centro para la Disciplina Efectiva, 2009). El Comité de los Derechos del Niño (2006), en la Observación General Número 8, ha aclarado además que:</td>\n",
       "      <td>16</td>\n",
       "    </tr>\n",
       "  </tbody>\n",
       "</table>\n",
       "</div>"
      ],
      "text/plain": [
       "                                                                                                                                                                                                                                                                                                                                                                                                                                                                                                                                                                                                                                                                                                                                                                                                                                                                                                                                                                                                                                                                       Textos_espanol  \\\n",
       "76    El Capítulo 3 señala que se necesita gestión para abordar las externalidades y señala que múltiples opciones de políticas pueden ayudar a abordar estos problemas, reconociendo que las respuestas específicas deberán adaptarse a las condiciones hidrogeológicas y ambientales. El Capítulo 4 proporciona una descripción general de los enfoques de gestión en los países de la OCDE que varían ampliamente, con evidencia débil de una correspondencia de restricción-respuesta. Solo cuatro de los 20 países de la OCDE que respondieron (Austria, República Checa, Eslovenia y los Países Bajos - nacionales y regionales) y cinco de las 20 regiones (la región de la isla volcánica de Jeju en Corea y las cuatro regiones españolas) informan que realizan evaluaciones periódicas de la gestión de las aguas subterráneas . Como parte de la Directiva Marco del Agua de la UE, los países miembros de la UE deben proporcionar informes sobre el estado de implementación y el estado cualitativo y cuantitativo de los organismos de gestión de aguas subterráneas.   \n",
       "1723                                                                                                                                                                                                                                                                                                                                                                                                                                                                                 Está influenciado por la demanda de la industria, el transporte y los hogares, por las políticas energéticas nacionales y por los precios de la energía nacionales e internacionales. Las principales formas renovables son la hidráulica, la geotérmica, la eólica, la biomasa, los residuos y la energía solar. En algunos países la disminución se debió a la transferencia de industrias intensivas en energía a otros países. Tal subcontratación puede aumentar las presiones sobre el medio ambiente mundial si se utilizan técnicas menos eficientes desde el punto de vista energético.   \n",
       "2176                                                                         En el surgimiento de gobiernos democráticos en América Latina, la perspectiva neoliberal de la ley y el orden ha sido el modelo de seguridad más influyente en la región. Este enfoque se basa en la oposición entre el Estado y los agentes ilegales, como si fueran dos conjuntos diferentes de actores. Influenciado por este modelo, el presidente mexicano Vicente Fox lanzó un extenso programa contra la piratería para erradicar la venta minorista de productos falsificados. Con base en material etnográfico recolectado en el mercado de San Juan de Dios en Guadalajara, discuto sobre los intercambios entre vendedores piratas y policías. Mi argumento es que los programas de aplicación de la ley no han afectado la economía política de la corrupción, pasan por alto la red de lealtades ambiguas donde están arraigados los actores estatales e ilegales. La antropología del estado proporciona la razón fundamental para una crítica de las políticas de seguridad neoliberales.   \n",
       "985                                                                                                                                                                                                                                                                                                                                                                                                                                             Por ejemplo, en Canadá, el gobierno federal no ha publicado recientemente ningún objetivo o indicador sobre el agua hacia el que puedan trabajar todos los ministerios, y la política integrada del agua se enfrenta a obstáculos. Esto puede crear tensiones entre ministerios con intereses contrapuestos a nivel subnacional y exige una personalización de la política del agua a nivel territorial. Por ejemplo, en México, los programas de la Comisión Nacional del Agua (CONAGUA) tratan de responder a la creciente demanda de agua de los distintos usuarios, especialmente de los que disponen de menos recursos hídricos.   \n",
       "2994                                                                                         E l castigo corporal se considera cada vez más como un acto de violencia contra los niños. El castigo corporal incluye cualquier uso de castigo físico contra un niño en respuesta a una mala conducta. Por lo general, esto incluye azotes, bofetadas y bofetadas, pero también incluye el uso de un objeto como una vara o un palo, tirar del cabello y torcer las orejas. Un creciente cuerpo de investigación se ha centrado en la disciplina y los efectos adversos del castigo corporal (Berlin et al., 2009, Lansford et al., 2009). La Convención de las Naciones Unidas sobre los Derechos del Niño afirma que los Estados toman “todas las medidas legislativas, administrativas, sociales y educativas apropiadas para proteger al niño de todas las formas de violencia física o mental. . .â€ (UNICEF, 1989, ArtÃculo 19, Centro para la Disciplina Efectiva, 2009). El Comité de los Derechos del Niño (2006), en la Observación General Número 8, ha aclarado además que:   \n",
       "\n",
       "      sdg  \n",
       "76      6  \n",
       "1723    7  \n",
       "2176   16  \n",
       "985     6  \n",
       "2994   16  "
      ]
     },
     "execution_count": 201,
     "metadata": {},
     "output_type": "execute_result"
    }
   ],
   "source": [
    "df.sample(5)"
   ]
  },
  {
   "cell_type": "code",
   "execution_count": 202,
   "metadata": {},
   "outputs": [
    {
     "data": {
      "image/png": "[encoded data removed]",
      "text/plain": [
       "<Figure size 432x288 with 1 Axes>"
      ]
     },
     "metadata": {},
     "output_type": "display_data"
    }
   ],
   "source": [
    "ax = sns.countplot(x='sdg', data=df)"
   ]
  },
  {
   "cell_type": "code",
   "execution_count": 203,
   "metadata": {},
   "outputs": [],
   "source": [
    "df['document_lengths'] = np.array(list(map(len, df['Textos_espanol'].str.split(' '))))"
   ]
  },
  {
   "cell_type": "code",
   "execution_count": 204,
   "metadata": {},
   "outputs": [
    {
     "name": "stdout",
     "output_type": "stream",
     "text": [
      "Average number of words in Textos_espanol: 119.53733333333334.\n",
      "Minimum number of words in Textos_espanol: 24.\n",
      "Maximum number of words in Textos_espanol: 266.\n"
     ]
    },
    {
     "name": "stderr",
     "output_type": "stream",
     "text": [
      "C:\\Users\\juank\\AppData\\Local\\Temp\\ipykernel_17992\\2379946643.py:8: UserWarning: \n",
      "\n",
      "`distplot` is a deprecated function and will be removed in seaborn v0.14.0.\n",
      "\n",
      "Please adapt your code to use either `displot` (a figure-level function with\n",
      "similar flexibility) or `histplot` (an axes-level function for histograms).\n",
      "\n",
      "For a guide to updating your code to use the new functions, please see\n",
      "https://gist.github.com/mwaskom/de44147ed2974457ad6372750bbe5751\n",
      "\n",
      "  sns.distplot(df.document_lengths, bins=50, ax=ax)\n"
     ]
    },
    {
     "data": {
      "text/plain": [
       "<Axes: title={'center': 'Distribution of number of words'}, xlabel='document_lengths', ylabel='Density'>"
      ]
     },
     "execution_count": 204,
     "metadata": {},
     "output_type": "execute_result"
    },
    {
     "data": {
      "image/png": "[encoded data removed]",
      "text/plain": [
       "<Figure size 1080x432 with 1 Axes>"
      ]
     },
     "metadata": {},
     "output_type": "display_data"
    }
   ],
   "source": [
    "print(\"Average number of words in Textos_espanol: {}.\".format(np.mean(df.document_lengths)))\n",
    "print(\"Minimum number of words in Textos_espanol: {}.\".format(min(df.document_lengths)))\n",
    "print(\"Maximum number of words in Textos_espanol: {}.\".format(max(df.document_lengths)))\n",
    "## Distribution of number of words\n",
    "fig, ax = plt.subplots(figsize=(15,6))\n",
    "ax.set_title(\"Distribution of number of words\", fontsize=16)\n",
    "ax.set_xlabel(\"Number of words\")\n",
    "sns.distplot(df.document_lengths, bins=50, ax=ax)\n"
   ]
  },
  {
   "cell_type": "code",
   "execution_count": 205,
   "metadata": {},
   "outputs": [
    {
     "data": {
      "text/html": [
       "<div>\n",
       "<style scoped>\n",
       "    .dataframe tbody tr th:only-of-type {\n",
       "        vertical-align: middle;\n",
       "    }\n",
       "\n",
       "    .dataframe tbody tr th {\n",
       "        vertical-align: top;\n",
       "    }\n",
       "\n",
       "    .dataframe thead th {\n",
       "        text-align: right;\n",
       "    }\n",
       "</style>\n",
       "<table border=\"1\" class=\"dataframe\">\n",
       "  <thead>\n",
       "    <tr style=\"text-align: right;\">\n",
       "      <th></th>\n",
       "      <th>max</th>\n",
       "      <th>mean</th>\n",
       "      <th>min</th>\n",
       "      <th>std</th>\n",
       "    </tr>\n",
       "    <tr>\n",
       "      <th>sdg</th>\n",
       "      <th></th>\n",
       "      <th></th>\n",
       "      <th></th>\n",
       "      <th></th>\n",
       "    </tr>\n",
       "  </thead>\n",
       "  <tbody>\n",
       "    <tr>\n",
       "      <th>6</th>\n",
       "      <td>239</td>\n",
       "      <td>107.351</td>\n",
       "      <td>42</td>\n",
       "      <td>34.255061</td>\n",
       "    </tr>\n",
       "    <tr>\n",
       "      <th>7</th>\n",
       "      <td>234</td>\n",
       "      <td>107.681</td>\n",
       "      <td>35</td>\n",
       "      <td>34.098239</td>\n",
       "    </tr>\n",
       "    <tr>\n",
       "      <th>16</th>\n",
       "      <td>266</td>\n",
       "      <td>143.580</td>\n",
       "      <td>24</td>\n",
       "      <td>31.996615</td>\n",
       "    </tr>\n",
       "  </tbody>\n",
       "</table>\n",
       "</div>"
      ],
      "text/plain": [
       "     max     mean  min        std\n",
       "sdg                              \n",
       "6    239  107.351   42  34.255061\n",
       "7    234  107.681   35  34.098239\n",
       "16   266  143.580   24  31.996615"
      ]
     },
     "execution_count": 205,
     "metadata": {},
     "output_type": "execute_result"
    }
   ],
   "source": [
    "dist_per_target= pd.pivot_table(df, values='document_lengths', index=['sdg'], aggfunc={'document_lengths': [np.mean, min, max,np.std]})\n",
    "dist_per_target"
   ]
  },
  {
   "cell_type": "code",
   "execution_count": 206,
   "metadata": {},
   "outputs": [
    {
     "data": {
      "text/plain": [
       "<WordListCorpusReader in 'C:\\\\Users\\\\juank\\\\AppData\\\\Roaming\\\\nltk_data\\\\corpora\\\\stopwords'>"
      ]
     },
     "execution_count": 206,
     "metadata": {},
     "output_type": "execute_result"
    }
   ],
   "source": [
    "stopwords"
   ]
  },
  {
   "cell_type": "markdown",
   "metadata": {},
   "source": [
    "## 2. Preparación de los datos"
   ]
  },
  {
   "cell_type": "code",
   "execution_count": 219,
   "metadata": {},
   "outputs": [],
   "source": [
    " def remove_non_ascii(words):\n",
    "    \"\"\"Remove non-ASCII characters from list of tokenized words\"\"\"\n",
    "    new_words = []\n",
    "    for word in words:\n",
    "        new_word = unicodedata.normalize('NFKD', word).encode('ascii', 'ignore').decode('utf-8', 'ignore')\n",
    "        new_words.append(new_word)\n",
    "    return new_words\n",
    "\n",
    "def to_lowercase(words):\n",
    "    \"\"\"Convert all characters to lowercase from list of tokenized words\"\"\"\n",
    "\n",
    "def remove_punctuation(words):\n",
    "    \"\"\"Remove punctuation from list of tokenized words\"\"\"\n",
    "    new_words = []\n",
    "    for word in words:\n",
    "        new_word = re.sub(r'[^\\w\\s]', '', word)\n",
    "        if new_word != '':\n",
    "            new_words.append(new_word)\n",
    "    return new_words\n",
    "\n",
    "# def replace_numbers(words):\n",
    "#     \"\"\"Replace all interger occurrences in list of tokenized words with textual representation\"\"\"\n",
    "#     p = inflect.engine()\n",
    "#     new_words = []\n",
    "#     for word in words:\n",
    "#         if word.isdigit():\n",
    "#                 new_word = p.number_to_words(word)\n",
    "#                 new_words.append(new_word)\n",
    "#         else:\n",
    "#             new_words.append(word)\n",
    "#     return new_words\n",
    "\n",
    "# def get_wordnet_pos(word):\n",
    "#     #Map POS tag to first character lemmatize() accepts\n",
    "#     tag = nltk.pos_tag([word])[0][1][0].upper()\n",
    "#     tag_dict = {\"J\": wordnet.ADJ,\n",
    "#                 \"N\": wordnet.NOUN,\n",
    "#                 \"V\": wordnet.VERB,\n",
    "#                 \"R\": wordnet.ADV}\n",
    "#     return tag_dict.get(tag, wordnet.NOUN)\n",
    "\n",
    "# def tokenize(text):\n",
    "#     text=re.sub('\\\\n', '. ', text)\n",
    "#     text=re.sub('\\s+', ' ', text)\n",
    "#     text = re.sub(r' x+','', text)\n",
    "#     text = re.sub(r' X+','', text)\n",
    "#     text = re.sub(r'^x+ ',' ', text)\n",
    "#     text = re.sub(r'^X+ ','', text)\n",
    "#     result=sent_tokenize(text)\n",
    "#     return result if len(result) else np.NaN\n",
    "\n",
    "# def LemTokens(tokens):\n",
    "#     tokens = [token for token in tokens if token not in stop_words] \n",
    "#     return [lemmer.lemmatize(token, get_wordnet_pos(token)) for token in tokens]\n",
    "\n",
    "# def LemNormalize(text):\n",
    "#      return LemTokens(nltk.word_tokenize(text.lower().translate(remove_punct_dict)))\n",
    "\n",
    "# def normalize(sent_list):\n",
    "#     return [\" \".join(LemNormalize(s)) for s in sent_list]\n",
    "\n",
    "# def remove_stopwords(words):\n",
    "#     \"\"\"Remove stop words from list of tokenized words\"\"\"\n",
    "\n",
    "def preprocessing(words):\n",
    "    #words = to_lowercase(words)\n",
    "    #words = replace_numbers(words)\n",
    "    words = remove_punctuation(words)\n",
    "    words = remove_non_ascii(words)\n",
    "    #words = remove_stopwords(words)\n",
    "    return words"
   ]
  },
  {
   "cell_type": "code",
   "execution_count": 220,
   "metadata": {},
   "outputs": [],
   "source": [
    "df['Textos_espanol'] = df['Textos_espanol'].apply(contractions.fix) #Aplica la corrección de las contracciones "
   ]
  },
  {
   "cell_type": "code",
   "execution_count": 221,
   "metadata": {},
   "outputs": [
    {
     "data": {
      "text/html": [
       "<div>\n",
       "<style scoped>\n",
       "    .dataframe tbody tr th:only-of-type {\n",
       "        vertical-align: middle;\n",
       "    }\n",
       "\n",
       "    .dataframe tbody tr th {\n",
       "        vertical-align: top;\n",
       "    }\n",
       "\n",
       "    .dataframe thead th {\n",
       "        text-align: right;\n",
       "    }\n",
       "</style>\n",
       "<table border=\"1\" class=\"dataframe\">\n",
       "  <thead>\n",
       "    <tr style=\"text-align: right;\">\n",
       "      <th></th>\n",
       "      <th>Textos_espanol</th>\n",
       "      <th>sdg</th>\n",
       "      <th>document_lengths</th>\n",
       "      <th>words</th>\n",
       "    </tr>\n",
       "  </thead>\n",
       "  <tbody>\n",
       "    <tr>\n",
       "      <th>0</th>\n",
       "      <td>Es importante destacar que, en un año de sequía, se espera que disminuyan todos los aportes, pero que aumente la demanda de agua de los cultivos y de la vegetación, lo que provocará una reducción del caudal de los ríos que están conectados hidrológicamente con el acuífero, así como una menor disponibilidad de agua para otros ecosistemas dependientes de las aguas subterráneas. Estas externalidades espaciales pueden incluir el agotamiento de los cursos de agua y el descenso del nivel freático local. Por ejemplo, el bombeo continuo del pozo B provocará el agotamiento de los cursos de agua y la reducción de su caudal.</td>\n",
       "      <td>6</td>\n",
       "      <td>103</td>\n",
       "      <td>[Es, importante, destacar, que, en, un, ano, de, sequia, se, espera, que, disminuyan, todos, los, aportes, pero, que, aumente, la, demanda, de, agua, de, los, cultivos, y, de, la, vegetacion, lo, que, provocara, una, reduccion, del, caudal, de, los, rios, que, estan, conectados, hidrologicamente, con, el, acuifero, asi, como, una, menor, disponibilidad, de, agua, para, otros, ecosistemas, dependientes, de, las, aguas, subterraneas, Estas, externalidades, espaciales, pueden, incluir, el, agotamiento, de, los, cursos, de, agua, y, el, descenso, del, nivel, freatico, local, Por, ejemplo, el, bombeo, continuo, del, pozo, B, provocara, el, agotamiento, de, los, cursos, de, agua, y, la, reduccion, ...]</td>\n",
       "    </tr>\n",
       "    <tr>\n",
       "      <th>1</th>\n",
       "      <td>Hay una gran cantidad de literatura sobre Australia en esta área que sugiere fuertemente que el comercio de agua, especialmente en los mercados a corto plazo, no solo permite mitigar sustancialmente los impactos de las sequías en la agricultura, sino que ahora los agricultores lo consideran como un medio útil y básico. instrumento en su caja de herramientas de gestión de riesgos. Los desafíos políticos para Australia en el área de la regulación del agua en la agricultura están más en las áreas de cómo ajustar el sistema existente y los problemas de solidez relacionados con el cambio climático. Si bien el ejemplo australiano ilustra las posibles ganancias de eficiencia que surgen del comercio de agua, especialmente para gestionar la escasez de agua en circunstancias de sequía, la elección de un instrumento siempre debe considerar la gama completa de costos y beneficios.</td>\n",
       "      <td>6</td>\n",
       "      <td>142</td>\n",
       "      <td>[Hay, una, gran, cantidad, de, literatura, sobre, Australia, en, esta, area, que, sugiere, fuertemente, que, el, comercio, de, agua, especialmente, en, los, mercados, a, corto, plazo, no, solo, permite, mitigar, sustancialmente, los, impactos, de, las, sequias, en, la, agricultura, sino, que, ahora, los, agricultores, lo, consideran, como, un, medio, util, y, basico, instrumento, en, su, caja, de, herramientas, de, gestion, de, riesgos, Los, desafios, politicos, para, Australia, en, el, area, de, la, regulacion, del, agua, en, la, agricultura, estan, mas, en, las, areas, de, como, ajustar, el, sistema, existente, y, los, problemas, de, solidez, relacionados, con, el, cambio, climatico, Si, ...]</td>\n",
       "    </tr>\n",
       "    <tr>\n",
       "      <th>2</th>\n",
       "      <td>Los procesos de descentralización, emprendidos para una serie de actividades que antes realizaba el gobierno central, llevaron a modificaciones importantes en la forma en que se administraba y operaba el sector del agua. Las únicas excepciones a esta tendencia fueron Azerbaiyán, Bielorrusia y Turkmenistán, donde la gestión del sector del agua ha permanecido fuertemente centralizada. En Azerbaiyán, por ejemplo, la empresa nacional AZERSU JSC suministra agua al 65 % de la población, con un 10 % proporcionado por pequeños operadores privados y un 25 % por los propios hogares.</td>\n",
       "      <td>6</td>\n",
       "      <td>89</td>\n",
       "      <td>[Los, procesos, de, descentralizacion, emprendidos, para, una, serie, de, actividades, que, antes, realizaba, el, gobierno, central, llevaron, a, modificaciones, importantes, en, la, forma, en, que, se, administraba, y, operaba, el, sector, del, agua, Las, unicas, excepciones, a, esta, tendencia, fueron, Azerbaiyan, Bielorrusia, y, Turkmenistan, donde, la, gestion, del, sector, del, agua, ha, permanecido, fuertemente, centralizada, En, Azerbaiyan, por, ejemplo, la, empresa, nacional, AZERSU, JSC, suministra, agua, al, 65, de, la, poblacion, con, un, 10, proporcionado, por, pequenos, operadores, privados, y, un, 25, por, los, propios, hogares]</td>\n",
       "    </tr>\n",
       "    <tr>\n",
       "      <th>3</th>\n",
       "      <td>Esto puede tener consecuencias sustanciales para la calidad del agua, especialmente en el río Mississippi y el norte del Golfo de México (De la Torre Ugarte et al., Si se requieren aportes de nutrientes para las plantaciones de madera, la infiltración y la escorrentía de nitrógeno también pueden representar un riesgo para las aguas subterráneas). (Lattimore et al., otra conclusión importante es que la ubicación de la producción y el tipo de producción de labranza, el sistema de rotación de cultivos y otras prácticas de gestión agrícola utilizadas en la producción de materias primas para la producción de bioenergía también influirán en gran medida en la calidad del agua (De la Torre Ugarte et al. ,</td>\n",
       "      <td>6</td>\n",
       "      <td>116</td>\n",
       "      <td>[Esto, puede, tener, consecuencias, sustanciales, para, la, calidad, del, agua, especialmente, en, el, rio, Mississippi, y, el, norte, del, Golfo, de, Mexico, De, la, Torre, Ugarte, et, al, Si, se, requieren, aportes, de, nutrientes, para, las, plantaciones, de, madera, la, infiltracion, y, la, escorrentia, de, nitrogeno, tambien, pueden, representar, un, riesgo, para, las, aguas, subterraneas, Lattimore, et, al, otra, conclusion, importante, es, que, la, ubicacion, de, la, produccion, y, el, tipo, de, produccion, de, labranza, el, sistema, de, rotacion, de, cultivos, y, otras, practicas, de, gestion, agricola, utilizadas, en, la, produccion, de, materias, primas, para, la, produccion, de, bioenergia, tambien, ...]</td>\n",
       "    </tr>\n",
       "    <tr>\n",
       "      <th>4</th>\n",
       "      <td>La función de beneficio también incorpora parámetros que afectan a todos los usuarios, como los precios de insumos y productos y el clima.7 Por ejemplo, en un año seco, se espera que el beneficio de aplicar cualquier cantidad de agua a un cultivo sea mayor que en un año seco. año húmedo. La optimización óptima requeriría una valoración explícita de todos los posibles servicios ambientales asociados con el recurso de agua subterránea, tanto ahora como en el futuro. En cambio, la sociedad decide el nivel de servicios hidrológicos que es deseable y el problema económico es lograr ese nivel utilizando una solución que maximice los beneficios para los usuarios del agua.</td>\n",
       "      <td>6</td>\n",
       "      <td>111</td>\n",
       "      <td>[La, funcion, de, beneficio, tambien, incorpora, parametros, que, afectan, a, todos, los, usuarios, como, los, precios, de, insumos, y, productos, y, el, clima7, Por, ejemplo, en, un, ano, seco, se, espera, que, el, beneficio, de, aplicar, cualquier, cantidad, de, agua, a, un, cultivo, sea, mayor, que, en, un, ano, seco, ano, humedo, La, optimizacion, optima, requeriria, una, valoracion, explicita, de, todos, los, posibles, servicios, ambientales, asociados, con, el, recurso, de, agua, subterranea, tanto, ahora, como, en, el, futuro, En, cambio, la, sociedad, decide, el, nivel, de, servicios, hidrologicos, que, es, deseable, y, el, problema, economico, es, lograr, ese, nivel, utilizando, ...]</td>\n",
       "    </tr>\n",
       "  </tbody>\n",
       "</table>\n",
       "</div>"
      ],
      "text/plain": [
       "                                                                                                                                                                                                                                                                                                                                                                                                                                                                                                                                                                                                                                                                                                                                                                                                                                                                                                      Textos_espanol  \\\n",
       "0                                                                                                                                                                                                                                                                      Es importante destacar que, en un año de sequía, se espera que disminuyan todos los aportes, pero que aumente la demanda de agua de los cultivos y de la vegetación, lo que provocará una reducción del caudal de los ríos que están conectados hidrológicamente con el acuífero, así como una menor disponibilidad de agua para otros ecosistemas dependientes de las aguas subterráneas. Estas externalidades espaciales pueden incluir el agotamiento de los cursos de agua y el descenso del nivel freático local. Por ejemplo, el bombeo continuo del pozo B provocará el agotamiento de los cursos de agua y la reducción de su caudal.   \n",
       "1  Hay una gran cantidad de literatura sobre Australia en esta área que sugiere fuertemente que el comercio de agua, especialmente en los mercados a corto plazo, no solo permite mitigar sustancialmente los impactos de las sequías en la agricultura, sino que ahora los agricultores lo consideran como un medio útil y básico. instrumento en su caja de herramientas de gestión de riesgos. Los desafíos políticos para Australia en el área de la regulación del agua en la agricultura están más en las áreas de cómo ajustar el sistema existente y los problemas de solidez relacionados con el cambio climático. Si bien el ejemplo australiano ilustra las posibles ganancias de eficiencia que surgen del comercio de agua, especialmente para gestionar la escasez de agua en circunstancias de sequía, la elección de un instrumento siempre debe considerar la gama completa de costos y beneficios.   \n",
       "2                                                                                                                                                                                                                                                                                                                Los procesos de descentralización, emprendidos para una serie de actividades que antes realizaba el gobierno central, llevaron a modificaciones importantes en la forma en que se administraba y operaba el sector del agua. Las únicas excepciones a esta tendencia fueron Azerbaiyán, Bielorrusia y Turkmenistán, donde la gestión del sector del agua ha permanecido fuertemente centralizada. En Azerbaiyán, por ejemplo, la empresa nacional AZERSU JSC suministra agua al 65 % de la población, con un 10 % proporcionado por pequeños operadores privados y un 25 % por los propios hogares.   \n",
       "3                                                                                                                                                                                 Esto puede tener consecuencias sustanciales para la calidad del agua, especialmente en el río Mississippi y el norte del Golfo de México (De la Torre Ugarte et al., Si se requieren aportes de nutrientes para las plantaciones de madera, la infiltración y la escorrentía de nitrógeno también pueden representar un riesgo para las aguas subterráneas). (Lattimore et al., otra conclusión importante es que la ubicación de la producción y el tipo de producción de labranza, el sistema de rotación de cultivos y otras prácticas de gestión agrícola utilizadas en la producción de materias primas para la producción de bioenergía también influirán en gran medida en la calidad del agua (De la Torre Ugarte et al. ,   \n",
       "4                                                                                                                                                                                                                  La función de beneficio también incorpora parámetros que afectan a todos los usuarios, como los precios de insumos y productos y el clima.7 Por ejemplo, en un año seco, se espera que el beneficio de aplicar cualquier cantidad de agua a un cultivo sea mayor que en un año seco. año húmedo. La optimización óptima requeriría una valoración explícita de todos los posibles servicios ambientales asociados con el recurso de agua subterránea, tanto ahora como en el futuro. En cambio, la sociedad decide el nivel de servicios hidrológicos que es deseable y el problema económico es lograr ese nivel utilizando una solución que maximice los beneficios para los usuarios del agua.   \n",
       "\n",
       "   sdg  document_lengths  \\\n",
       "0    6               103   \n",
       "1    6               142   \n",
       "2    6                89   \n",
       "3    6               116   \n",
       "4    6               111   \n",
       "\n",
       "                                                                                                                                                                                                                                                                                                                                                                                                                                                                                                                                                                                                                                                                                                                                                  words  \n",
       "0                     [Es, importante, destacar, que, en, un, ano, de, sequia, se, espera, que, disminuyan, todos, los, aportes, pero, que, aumente, la, demanda, de, agua, de, los, cultivos, y, de, la, vegetacion, lo, que, provocara, una, reduccion, del, caudal, de, los, rios, que, estan, conectados, hidrologicamente, con, el, acuifero, asi, como, una, menor, disponibilidad, de, agua, para, otros, ecosistemas, dependientes, de, las, aguas, subterraneas, Estas, externalidades, espaciales, pueden, incluir, el, agotamiento, de, los, cursos, de, agua, y, el, descenso, del, nivel, freatico, local, Por, ejemplo, el, bombeo, continuo, del, pozo, B, provocara, el, agotamiento, de, los, cursos, de, agua, y, la, reduccion, ...]  \n",
       "1                       [Hay, una, gran, cantidad, de, literatura, sobre, Australia, en, esta, area, que, sugiere, fuertemente, que, el, comercio, de, agua, especialmente, en, los, mercados, a, corto, plazo, no, solo, permite, mitigar, sustancialmente, los, impactos, de, las, sequias, en, la, agricultura, sino, que, ahora, los, agricultores, lo, consideran, como, un, medio, util, y, basico, instrumento, en, su, caja, de, herramientas, de, gestion, de, riesgos, Los, desafios, politicos, para, Australia, en, el, area, de, la, regulacion, del, agua, en, la, agricultura, estan, mas, en, las, areas, de, como, ajustar, el, sistema, existente, y, los, problemas, de, solidez, relacionados, con, el, cambio, climatico, Si, ...]  \n",
       "2                                                                            [Los, procesos, de, descentralizacion, emprendidos, para, una, serie, de, actividades, que, antes, realizaba, el, gobierno, central, llevaron, a, modificaciones, importantes, en, la, forma, en, que, se, administraba, y, operaba, el, sector, del, agua, Las, unicas, excepciones, a, esta, tendencia, fueron, Azerbaiyan, Bielorrusia, y, Turkmenistan, donde, la, gestion, del, sector, del, agua, ha, permanecido, fuertemente, centralizada, En, Azerbaiyan, por, ejemplo, la, empresa, nacional, AZERSU, JSC, suministra, agua, al, 65, de, la, poblacion, con, un, 10, proporcionado, por, pequenos, operadores, privados, y, un, 25, por, los, propios, hogares]  \n",
       "3  [Esto, puede, tener, consecuencias, sustanciales, para, la, calidad, del, agua, especialmente, en, el, rio, Mississippi, y, el, norte, del, Golfo, de, Mexico, De, la, Torre, Ugarte, et, al, Si, se, requieren, aportes, de, nutrientes, para, las, plantaciones, de, madera, la, infiltracion, y, la, escorrentia, de, nitrogeno, tambien, pueden, representar, un, riesgo, para, las, aguas, subterraneas, Lattimore, et, al, otra, conclusion, importante, es, que, la, ubicacion, de, la, produccion, y, el, tipo, de, produccion, de, labranza, el, sistema, de, rotacion, de, cultivos, y, otras, practicas, de, gestion, agricola, utilizadas, en, la, produccion, de, materias, primas, para, la, produccion, de, bioenergia, tambien, ...]  \n",
       "4                         [La, funcion, de, beneficio, tambien, incorpora, parametros, que, afectan, a, todos, los, usuarios, como, los, precios, de, insumos, y, productos, y, el, clima7, Por, ejemplo, en, un, ano, seco, se, espera, que, el, beneficio, de, aplicar, cualquier, cantidad, de, agua, a, un, cultivo, sea, mayor, que, en, un, ano, seco, ano, humedo, La, optimizacion, optima, requeriria, una, valoracion, explicita, de, todos, los, posibles, servicios, ambientales, asociados, con, el, recurso, de, agua, subterranea, tanto, ahora, como, en, el, futuro, En, cambio, la, sociedad, decide, el, nivel, de, servicios, hidrologicos, que, es, deseable, y, el, problema, economico, es, lograr, ese, nivel, utilizando, ...]  "
      ]
     },
     "execution_count": 221,
     "metadata": {},
     "output_type": "execute_result"
    }
   ],
   "source": [
    "df['words'] = df['Textos_espanol'].apply(word_tokenize).apply(preprocessing) #Aplica la eliminación del ruido\n",
    "df.head()"
   ]
  },
  {
   "cell_type": "code",
   "execution_count": 231,
   "metadata": {},
   "outputs": [
    {
     "data": {
      "text/html": [
       "<div>\n",
       "<style scoped>\n",
       "    .dataframe tbody tr th:only-of-type {\n",
       "        vertical-align: middle;\n",
       "    }\n",
       "\n",
       "    .dataframe tbody tr th {\n",
       "        vertical-align: top;\n",
       "    }\n",
       "\n",
       "    .dataframe thead th {\n",
       "        text-align: right;\n",
       "    }\n",
       "</style>\n",
       "<table border=\"1\" class=\"dataframe\">\n",
       "  <thead>\n",
       "    <tr style=\"text-align: right;\">\n",
       "      <th></th>\n",
       "      <th>Textos_espanol</th>\n",
       "      <th>sdg</th>\n",
       "      <th>document_lengths</th>\n",
       "      <th>words</th>\n",
       "    </tr>\n",
       "  </thead>\n",
       "  <tbody>\n",
       "    <tr>\n",
       "      <th>0</th>\n",
       "      <td>Es importante destacar que, en un año de sequía, se espera que disminuyan todos los aportes, pero que aumente la demanda de agua de los cultivos y de la vegetación, lo que provocará una reducción del caudal de los ríos que están conectados hidrológicamente con el acuífero, así como una menor disponibilidad de agua para otros ecosistemas dependientes de las aguas subterráneas. Estas externalidades espaciales pueden incluir el agotamiento de los cursos de agua y el descenso del nivel freático local. Por ejemplo, el bombeo continuo del pozo B provocará el agotamiento de los cursos de agua y la reducción de su caudal.</td>\n",
       "      <td>6</td>\n",
       "      <td>103</td>\n",
       "      <td>Es importante destacar que en un ano de sequia se espera que disminuyan todos los aportes pero que aumente la demanda de agua de los cultivos y de la vegetacion lo que provocara una reduccion del caudal de los rios que estan conectados hidrologicamente con el acuifero asi como una menor disponibilidad de agua para otros ecosistemas dependientes de las aguas subterraneas Estas externalidades espaciales pueden incluir el agotamiento de los cursos de agua y el descenso del nivel freatico local Por ejemplo el bombeo continuo del pozo B provocara el agotamiento de los cursos de agua y la reduccion de su caudal</td>\n",
       "    </tr>\n",
       "    <tr>\n",
       "      <th>1</th>\n",
       "      <td>Hay una gran cantidad de literatura sobre Australia en esta área que sugiere fuertemente que el comercio de agua, especialmente en los mercados a corto plazo, no solo permite mitigar sustancialmente los impactos de las sequías en la agricultura, sino que ahora los agricultores lo consideran como un medio útil y básico. instrumento en su caja de herramientas de gestión de riesgos. Los desafíos políticos para Australia en el área de la regulación del agua en la agricultura están más en las áreas de cómo ajustar el sistema existente y los problemas de solidez relacionados con el cambio climático. Si bien el ejemplo australiano ilustra las posibles ganancias de eficiencia que surgen del comercio de agua, especialmente para gestionar la escasez de agua en circunstancias de sequía, la elección de un instrumento siempre debe considerar la gama completa de costos y beneficios.</td>\n",
       "      <td>6</td>\n",
       "      <td>142</td>\n",
       "      <td>Hay una gran cantidad de literatura sobre Australia en esta area que sugiere fuertemente que el comercio de agua especialmente en los mercados a corto plazo no solo permite mitigar sustancialmente los impactos de las sequias en la agricultura sino que ahora los agricultores lo consideran como un medio util y basico instrumento en su caja de herramientas de gestion de riesgos Los desafios politicos para Australia en el area de la regulacion del agua en la agricultura estan mas en las areas de como ajustar el sistema existente y los problemas de solidez relacionados con el cambio climatico Si bien el ejemplo australiano ilustra las posibles ganancias de eficiencia que surgen del comercio de agua especialmente para gestionar la escasez de agua en circunstancias de sequia la eleccion de un instrumento siempre debe considerar la gama completa de costos y beneficios</td>\n",
       "    </tr>\n",
       "    <tr>\n",
       "      <th>2</th>\n",
       "      <td>Los procesos de descentralización, emprendidos para una serie de actividades que antes realizaba el gobierno central, llevaron a modificaciones importantes en la forma en que se administraba y operaba el sector del agua. Las únicas excepciones a esta tendencia fueron Azerbaiyán, Bielorrusia y Turkmenistán, donde la gestión del sector del agua ha permanecido fuertemente centralizada. En Azerbaiyán, por ejemplo, la empresa nacional AZERSU JSC suministra agua al 65 % de la población, con un 10 % proporcionado por pequeños operadores privados y un 25 % por los propios hogares.</td>\n",
       "      <td>6</td>\n",
       "      <td>89</td>\n",
       "      <td>Los procesos de descentralizacion emprendidos para una serie de actividades que antes realizaba el gobierno central llevaron a modificaciones importantes en la forma en que se administraba y operaba el sector del agua Las unicas excepciones a esta tendencia fueron Azerbaiyan Bielorrusia y Turkmenistan donde la gestion del sector del agua ha permanecido fuertemente centralizada En Azerbaiyan por ejemplo la empresa nacional AZERSU JSC suministra agua al 65 de la poblacion con un 10 proporcionado por pequenos operadores privados y un 25 por los propios hogares</td>\n",
       "    </tr>\n",
       "    <tr>\n",
       "      <th>3</th>\n",
       "      <td>Esto puede tener consecuencias sustanciales para la calidad del agua, especialmente en el río Mississippi y el norte del Golfo de México (De la Torre Ugarte et al., Si se requieren aportes de nutrientes para las plantaciones de madera, la infiltración y la escorrentía de nitrógeno también pueden representar un riesgo para las aguas subterráneas). (Lattimore et al., otra conclusión importante es que la ubicación de la producción y el tipo de producción de labranza, el sistema de rotación de cultivos y otras prácticas de gestión agrícola utilizadas en la producción de materias primas para la producción de bioenergía también influirán en gran medida en la calidad del agua (De la Torre Ugarte et al. ,</td>\n",
       "      <td>6</td>\n",
       "      <td>116</td>\n",
       "      <td>Esto puede tener consecuencias sustanciales para la calidad del agua especialmente en el rio Mississippi y el norte del Golfo de Mexico De la Torre Ugarte et al Si se requieren aportes de nutrientes para las plantaciones de madera la infiltracion y la escorrentia de nitrogeno tambien pueden representar un riesgo para las aguas subterraneas Lattimore et al otra conclusion importante es que la ubicacion de la produccion y el tipo de produccion de labranza el sistema de rotacion de cultivos y otras practicas de gestion agricola utilizadas en la produccion de materias primas para la produccion de bioenergia tambien influiran en gran medida en la calidad del agua De la Torre Ugarte et al</td>\n",
       "    </tr>\n",
       "    <tr>\n",
       "      <th>4</th>\n",
       "      <td>La función de beneficio también incorpora parámetros que afectan a todos los usuarios, como los precios de insumos y productos y el clima.7 Por ejemplo, en un año seco, se espera que el beneficio de aplicar cualquier cantidad de agua a un cultivo sea mayor que en un año seco. año húmedo. La optimización óptima requeriría una valoración explícita de todos los posibles servicios ambientales asociados con el recurso de agua subterránea, tanto ahora como en el futuro. En cambio, la sociedad decide el nivel de servicios hidrológicos que es deseable y el problema económico es lograr ese nivel utilizando una solución que maximice los beneficios para los usuarios del agua.</td>\n",
       "      <td>6</td>\n",
       "      <td>111</td>\n",
       "      <td>La funcion de beneficio tambien incorpora parametros que afectan a todos los usuarios como los precios de insumos y productos y el clima7 Por ejemplo en un ano seco se espera que el beneficio de aplicar cualquier cantidad de agua a un cultivo sea mayor que en un ano seco ano humedo La optimizacion optima requeriria una valoracion explicita de todos los posibles servicios ambientales asociados con el recurso de agua subterranea tanto ahora como en el futuro En cambio la sociedad decide el nivel de servicios hidrologicos que es deseable y el problema economico es lograr ese nivel utilizando una solucion que maximice los beneficios para los usuarios del agua</td>\n",
       "    </tr>\n",
       "    <tr>\n",
       "      <th>...</th>\n",
       "      <td>...</td>\n",
       "      <td>...</td>\n",
       "      <td>...</td>\n",
       "      <td>...</td>\n",
       "    </tr>\n",
       "    <tr>\n",
       "      <th>2995</th>\n",
       "      <td>\"Forjando una Convención para los Crímenes contra la Humanidad\" incluye el texto de la Convención Internacional Propuesta para la Prevención y el Castigo de los Crímenes contra la Humanidad, un relato del desarrollo histórico de la Convención Propuesta y 15 artículos académicos de destacados expertos en derecho penal internacional. Los documentos se presentaron y discutieron inicialmente en una conferencia celebrada en la Facultad de Derecho de la Universidad de Washington los días 13 y 14 de abril de 2009. Su enfoque abarca desde debates técnicos sobre cuestiones jurídicas específicas hasta análisis de codificaciones y definiciones anteriores de crímenes de lesa humanidad en la Roma Estatuto de la Corte Penal Internacional (CPI) y en las leyes estatutarias de los tribunales ad hoc. En general, este es un trabajo sobresaliente y estimulante que será una referencia esencial para académicos, estudiosos del derecho, profesionales, defensores de los derechos humanos y quienes se dedican al estudio y la promoción del derecho penal internacional.</td>\n",
       "      <td>16</td>\n",
       "      <td>159</td>\n",
       "      <td>Forjando una Convencion para los Crimenes contra la Humanidad incluye el texto de la Convencion Internacional Propuesta para la Prevencion y el Castigo de los Crimenes contra la Humanidad un relato del desarrollo historico de la Convencion Propuesta y 15 articulos academicos de destacados expertos en derecho penal internacional Los documentos se presentaron y discutieron inicialmente en una conferencia celebrada en la Facultad de Derecho de la Universidad de Washington los dias 13 y 14 de abril de 2009 Su enfoque abarca desde debates tecnicos sobre cuestiones juridicas especificas hasta analisis de codificaciones y definiciones anteriores de crimenes de lesa humanidad en la Roma Estatuto de la Corte Penal Internacional CPI y en las leyes estatutarias de los tribunales ad hoc En general este es un trabajo sobresaliente y estimulante que sera una referencia esencial para academicos estudiosos del derecho profesionales defensores de los derechos humanos y quienes se dedican al estudio y la promocion del derecho penal internacional</td>\n",
       "    </tr>\n",
       "    <tr>\n",
       "      <th>2996</th>\n",
       "      <td>En 2016, Daragh Murray publicó su libro Obligaciones de derechos humanos de los grupos armados no estatales (Hart 2016). A diferencia de muchas otras contribuciones sobre este tema ampliamente discutido, Murray intenta brindar al lector una visión general completa del marco legal que permite a los grupos armados adquirir estatus legal internacional, y preferiblemente fuera del marco de un conflicto armado. Encamina al lector por el camino de la personalidad jurídica internacional, que conduce al reconocimiento de los grupos armados como destinatarios del derecho. El intento de Murray es valiente, interesante e innovador, pero tiene sus defectos. Estos incluyen su confianza en el derecho penal internacional como fuente para definir los grupos armados y su insistencia en salirse del derecho internacional humanitario. No obstante, su aporte es fundamental para quienes desean incluir aún más grupos armados en el plano internacional.</td>\n",
       "      <td>16</td>\n",
       "      <td>140</td>\n",
       "      <td>En 2016 Daragh Murray publico su libro Obligaciones de derechos humanos de los grupos armados no estatales Hart 2016 A diferencia de muchas otras contribuciones sobre este tema ampliamente discutido Murray intenta brindar al lector una vision general completa del marco legal que permite a los grupos armados adquirir estatus legal internacional y preferiblemente fuera del marco de un conflicto armado Encamina al lector por el camino de la personalidad juridica internacional que conduce al reconocimiento de los grupos armados como destinatarios del derecho El intento de Murray es valiente interesante e innovador pero tiene sus defectos Estos incluyen su confianza en el derecho penal internacional como fuente para definir los grupos armados y su insistencia en salirse del derecho internacional humanitario No obstante su aporte es fundamental para quienes desean incluir aun mas grupos armados en el plano internacional</td>\n",
       "    </tr>\n",
       "    <tr>\n",
       "      <th>2997</th>\n",
       "      <td>En este libro, el autor argumenta que el activismo judicial dirigido a la protección de los derechos humanos y la dignidad y el derecho al debido proceso es un elemento esencial del estado de derecho democrático en una democracia constitucional en lugar de ser una “extralimitación judicial”. Dicho de otra manera, aquí se sostiene que la protección de los derechos humanos, especialmente de los vulnerables y marginados, a través de la toma de decisiones judiciales en una democracia constitucional no equivale a que los jueces “hagan leyes” (en oposición a interpretar la ley). Más bien representa a los tribunales interpretando y explicando lo que la constitución ordena que el derecho estatutario y consuetudinario es o debe ser si aún no lo es.</td>\n",
       "      <td>16</td>\n",
       "      <td>122</td>\n",
       "      <td>En este libro el autor argumenta que el activismo judicial dirigido a la proteccion de los derechos humanos y la dignidad y el derecho al debido proceso es un elemento esencial del estado de derecho democratico en una democracia constitucional en lugar de ser una extralimitacion judicial Dicho de otra manera aqui se sostiene que la proteccion de los derechos humanos especialmente de los vulnerables y marginados a traves de la toma de decisiones judiciales en una democracia constitucional no equivale a que los jueces hagan leyes en oposicion a interpretar la ley Mas bien representa a los tribunales interpretando y explicando lo que la constitucion ordena que el derecho estatutario y consuetudinario es o debe ser si aun no lo es</td>\n",
       "    </tr>\n",
       "    <tr>\n",
       "      <th>2998</th>\n",
       "      <td>* Facultad de Derecho, Universidad de Manchester. 1 SW v Secretary of State for the Home Department (Adjudicatorâ€™s questions) Somalia [2005] UKIAT00037, apartado 20. El Tribunal de ApelaciÃ³n de InmigraciÃ³n, el tribunal judicial independiente del Reino Unido responsable de resolver los recursos contra las decisiones iniciales de asilo de la DirecciÃ³n de InmigraciÃ³n y Nacionalidad, pasÃ³ a denominarse Tribunal de Asilo e InmigraciÃ³n en abril de 2005. Véase además R. Thomas, \"Evaluating Tribunal Adjudication: Administrative Justice and Asylum Appeals\", Legal Studies 25/3 (2005) pp. 462-498. La mayor parte de las resoluciones del Tribunal, aunque no todas, a las que se hace referencia a continuación pueden consultarse en su sitio web . 2 C. Blake, â€oeJudging Asylum and Immigration Claims: The Human Rights Act and the Refugee Convention\", Public Money &amp; Management 21/3 (2001) pp. 25, 27. Evaluación de la credibilidad de las solicitudes de asilo: EU and UK Approaches Examined</td>\n",
       "      <td>16</td>\n",
       "      <td>151</td>\n",
       "      <td>Facultad de Derecho Universidad de Manchester 1 SW v Secretary of State for the Home Department Adjudicatoras questions Somalia 2005 UKIAT00037 apartado 20 El Tribunal de ApelaciA3n de InmigraciA3n el tribunal judicial independiente del Reino Unido responsable de resolver los recursos contra las decisiones iniciales de asilo de la DirecciA3n de InmigraciA3n y Nacionalidad pasA3 a denominarse Tribunal de Asilo e InmigraciA3n en abril de 2005 Vease ademas R Thomas Evaluating Tribunal Adjudication Administrative Justice and Asylum Appeals Legal Studies 253 2005 pp 462498 La mayor parte de las resoluciones del Tribunal aunque no todas a las que se hace referencia a continuacion pueden consultarse en su sitio web 2 C Blake aoeJudging Asylum and Immigration Claims The Human Rights Act and the Refugee Convention Public Money Management 213 2001 pp 25 27 Evaluacion de la credibilidad de las solicitudes de asilo EU and UK Approaches Examined</td>\n",
       "    </tr>\n",
       "    <tr>\n",
       "      <th>2999</th>\n",
       "      <td>Este caso 1 constituye el primer pronunciamiento de la Corte Internacional de Justicia (CIJ) sobre la obligación de extraditar o juzgar ( aut dedere aut judicare ) en derecho internacional. Es el segundo caso contencioso en el que la CIJ considera que el país demandado ha incumplido las obligaciones que le incumben en virtud de un convenio de derechos humanos. La CIJ amplió el corpus de normas que ha reconocido formalmente como normas imperativas ( jus cogens ) y también reforzó el principio de que los ex jefes de Estado están sujetos a la jurisdicción universal por violaciones graves del derecho internacional.</td>\n",
       "      <td>16</td>\n",
       "      <td>102</td>\n",
       "      <td>Este caso 1 constituye el primer pronunciamiento de la Corte Internacional de Justicia CIJ sobre la obligacion de extraditar o juzgar aut dedere aut judicare en derecho internacional Es el segundo caso contencioso en el que la CIJ considera que el pais demandado ha incumplido las obligaciones que le incumben en virtud de un convenio de derechos humanos La CIJ amplio el corpus de normas que ha reconocido formalmente como normas imperativas jus cogens y tambien reforzo el principio de que los ex jefes de Estado estan sujetos a la jurisdiccion universal por violaciones graves del derecho internacional</td>\n",
       "    </tr>\n",
       "  </tbody>\n",
       "</table>\n",
       "<p>3000 rows × 4 columns</p>\n",
       "</div>"
      ],
      "text/plain": [
       "                                                                                                                                                                                                                                                                                                                                                                                                                                                                                                                                                                                                                                                                                                                                                                                                                                                                                                                                                                                                                                                                                        Textos_espanol  \\\n",
       "0                                                                                                                                                                                                                                                                                                                                                                                                                                                        Es importante destacar que, en un año de sequía, se espera que disminuyan todos los aportes, pero que aumente la demanda de agua de los cultivos y de la vegetación, lo que provocará una reducción del caudal de los ríos que están conectados hidrológicamente con el acuífero, así como una menor disponibilidad de agua para otros ecosistemas dependientes de las aguas subterráneas. Estas externalidades espaciales pueden incluir el agotamiento de los cursos de agua y el descenso del nivel freático local. Por ejemplo, el bombeo continuo del pozo B provocará el agotamiento de los cursos de agua y la reducción de su caudal.   \n",
       "1                                                                                                                                                                                    Hay una gran cantidad de literatura sobre Australia en esta área que sugiere fuertemente que el comercio de agua, especialmente en los mercados a corto plazo, no solo permite mitigar sustancialmente los impactos de las sequías en la agricultura, sino que ahora los agricultores lo consideran como un medio útil y básico. instrumento en su caja de herramientas de gestión de riesgos. Los desafíos políticos para Australia en el área de la regulación del agua en la agricultura están más en las áreas de cómo ajustar el sistema existente y los problemas de solidez relacionados con el cambio climático. Si bien el ejemplo australiano ilustra las posibles ganancias de eficiencia que surgen del comercio de agua, especialmente para gestionar la escasez de agua en circunstancias de sequía, la elección de un instrumento siempre debe considerar la gama completa de costos y beneficios.   \n",
       "2                                                                                                                                                                                                                                                                                                                                                                                                                                                                                                  Los procesos de descentralización, emprendidos para una serie de actividades que antes realizaba el gobierno central, llevaron a modificaciones importantes en la forma en que se administraba y operaba el sector del agua. Las únicas excepciones a esta tendencia fueron Azerbaiyán, Bielorrusia y Turkmenistán, donde la gestión del sector del agua ha permanecido fuertemente centralizada. En Azerbaiyán, por ejemplo, la empresa nacional AZERSU JSC suministra agua al 65 % de la población, con un 10 % proporcionado por pequeños operadores privados y un 25 % por los propios hogares.   \n",
       "3                                                                                                                                                                                                                                                                                                                                                                   Esto puede tener consecuencias sustanciales para la calidad del agua, especialmente en el río Mississippi y el norte del Golfo de México (De la Torre Ugarte et al., Si se requieren aportes de nutrientes para las plantaciones de madera, la infiltración y la escorrentía de nitrógeno también pueden representar un riesgo para las aguas subterráneas). (Lattimore et al., otra conclusión importante es que la ubicación de la producción y el tipo de producción de labranza, el sistema de rotación de cultivos y otras prácticas de gestión agrícola utilizadas en la producción de materias primas para la producción de bioenergía también influirán en gran medida en la calidad del agua (De la Torre Ugarte et al. ,   \n",
       "4                                                                                                                                                                                                                                                                                                                                                                                                    La función de beneficio también incorpora parámetros que afectan a todos los usuarios, como los precios de insumos y productos y el clima.7 Por ejemplo, en un año seco, se espera que el beneficio de aplicar cualquier cantidad de agua a un cultivo sea mayor que en un año seco. año húmedo. La optimización óptima requeriría una valoración explícita de todos los posibles servicios ambientales asociados con el recurso de agua subterránea, tanto ahora como en el futuro. En cambio, la sociedad decide el nivel de servicios hidrológicos que es deseable y el problema económico es lograr ese nivel utilizando una solución que maximice los beneficios para los usuarios del agua.   \n",
       "...                                                                                                                                                                                                                                                                                                                                                                                                                                                                                                                                                                                                                                                                                                                                                                                                                                                                                                                                                                                                                                                                                                ...   \n",
       "2995  \"Forjando una Convención para los Crímenes contra la Humanidad\" incluye el texto de la Convención Internacional Propuesta para la Prevención y el Castigo de los Crímenes contra la Humanidad, un relato del desarrollo histórico de la Convención Propuesta y 15 artículos académicos de destacados expertos en derecho penal internacional. Los documentos se presentaron y discutieron inicialmente en una conferencia celebrada en la Facultad de Derecho de la Universidad de Washington los días 13 y 14 de abril de 2009. Su enfoque abarca desde debates técnicos sobre cuestiones jurídicas específicas hasta análisis de codificaciones y definiciones anteriores de crímenes de lesa humanidad en la Roma Estatuto de la Corte Penal Internacional (CPI) y en las leyes estatutarias de los tribunales ad hoc. En general, este es un trabajo sobresaliente y estimulante que será una referencia esencial para académicos, estudiosos del derecho, profesionales, defensores de los derechos humanos y quienes se dedican al estudio y la promoción del derecho penal internacional.   \n",
       "2996                                                                                                                    En 2016, Daragh Murray publicó su libro Obligaciones de derechos humanos de los grupos armados no estatales (Hart 2016). A diferencia de muchas otras contribuciones sobre este tema ampliamente discutido, Murray intenta brindar al lector una visión general completa del marco legal que permite a los grupos armados adquirir estatus legal internacional, y preferiblemente fuera del marco de un conflicto armado. Encamina al lector por el camino de la personalidad jurídica internacional, que conduce al reconocimiento de los grupos armados como destinatarios del derecho. El intento de Murray es valiente, interesante e innovador, pero tiene sus defectos. Estos incluyen su confianza en el derecho penal internacional como fuente para definir los grupos armados y su insistencia en salirse del derecho internacional humanitario. No obstante, su aporte es fundamental para quienes desean incluir aún más grupos armados en el plano internacional.   \n",
       "2997                                                                                                                                                                                                                                                                                                                     En este libro, el autor argumenta que el activismo judicial dirigido a la protección de los derechos humanos y la dignidad y el derecho al debido proceso es un elemento esencial del estado de derecho democrático en una democracia constitucional en lugar de ser una “extralimitación judicial”. Dicho de otra manera, aquí se sostiene que la protección de los derechos humanos, especialmente de los vulnerables y marginados, a través de la toma de decisiones judiciales en una democracia constitucional no equivale a que los jueces “hagan leyes” (en oposición a interpretar la ley). Más bien representa a los tribunales interpretando y explicando lo que la constitución ordena que el derecho estatutario y consuetudinario es o debe ser si aún no lo es.   \n",
       "2998                                                                 * Facultad de Derecho, Universidad de Manchester. 1 SW v Secretary of State for the Home Department (Adjudicatorâ€™s questions) Somalia [2005] UKIAT00037, apartado 20. El Tribunal de ApelaciÃ³n de InmigraciÃ³n, el tribunal judicial independiente del Reino Unido responsable de resolver los recursos contra las decisiones iniciales de asilo de la DirecciÃ³n de InmigraciÃ³n y Nacionalidad, pasÃ³ a denominarse Tribunal de Asilo e InmigraciÃ³n en abril de 2005. Véase además R. Thomas, \"Evaluating Tribunal Adjudication: Administrative Justice and Asylum Appeals\", Legal Studies 25/3 (2005) pp. 462-498. La mayor parte de las resoluciones del Tribunal, aunque no todas, a las que se hace referencia a continuación pueden consultarse en su sitio web . 2 C. Blake, â€oeJudging Asylum and Immigration Claims: The Human Rights Act and the Refugee Convention\", Public Money & Management 21/3 (2001) pp. 25, 27. Evaluación de la credibilidad de las solicitudes de asilo: EU and UK Approaches Examined    \n",
       "2999                                                                                                                                                                                                                                                                                                                                                                                                                                                        Este caso 1 constituye el primer pronunciamiento de la Corte Internacional de Justicia (CIJ) sobre la obligación de extraditar o juzgar ( aut dedere aut judicare ) en derecho internacional. Es el segundo caso contencioso en el que la CIJ considera que el país demandado ha incumplido las obligaciones que le incumben en virtud de un convenio de derechos humanos. La CIJ amplió el corpus de normas que ha reconocido formalmente como normas imperativas ( jus cogens ) y también reforzó el principio de que los ex jefes de Estado están sujetos a la jurisdicción universal por violaciones graves del derecho internacional.   \n",
       "\n",
       "      sdg  document_lengths  \\\n",
       "0       6               103   \n",
       "1       6               142   \n",
       "2       6                89   \n",
       "3       6               116   \n",
       "4       6               111   \n",
       "...   ...               ...   \n",
       "2995   16               159   \n",
       "2996   16               140   \n",
       "2997   16               122   \n",
       "2998   16               151   \n",
       "2999   16               102   \n",
       "\n",
       "                                                                                                                                                                                                                                                                                                                                                                                                                                                                                                                                                                                                                                                                                                                                                                                                                                                                                                                                                                                                                                                                                    words  \n",
       "0                                                                                                                                                                                                                                                                                                                                                                                                                                                    Es importante destacar que en un ano de sequia se espera que disminuyan todos los aportes pero que aumente la demanda de agua de los cultivos y de la vegetacion lo que provocara una reduccion del caudal de los rios que estan conectados hidrologicamente con el acuifero asi como una menor disponibilidad de agua para otros ecosistemas dependientes de las aguas subterraneas Estas externalidades espaciales pueden incluir el agotamiento de los cursos de agua y el descenso del nivel freatico local Por ejemplo el bombeo continuo del pozo B provocara el agotamiento de los cursos de agua y la reduccion de su caudal  \n",
       "1                                                                                                                                                                                Hay una gran cantidad de literatura sobre Australia en esta area que sugiere fuertemente que el comercio de agua especialmente en los mercados a corto plazo no solo permite mitigar sustancialmente los impactos de las sequias en la agricultura sino que ahora los agricultores lo consideran como un medio util y basico instrumento en su caja de herramientas de gestion de riesgos Los desafios politicos para Australia en el area de la regulacion del agua en la agricultura estan mas en las areas de como ajustar el sistema existente y los problemas de solidez relacionados con el cambio climatico Si bien el ejemplo australiano ilustra las posibles ganancias de eficiencia que surgen del comercio de agua especialmente para gestionar la escasez de agua en circunstancias de sequia la eleccion de un instrumento siempre debe considerar la gama completa de costos y beneficios  \n",
       "2                                                                                                                                                                                                                                                                                                                                                                                                                                                                                                     Los procesos de descentralizacion emprendidos para una serie de actividades que antes realizaba el gobierno central llevaron a modificaciones importantes en la forma en que se administraba y operaba el sector del agua Las unicas excepciones a esta tendencia fueron Azerbaiyan Bielorrusia y Turkmenistan donde la gestion del sector del agua ha permanecido fuertemente centralizada En Azerbaiyan por ejemplo la empresa nacional AZERSU JSC suministra agua al 65 de la poblacion con un 10 proporcionado por pequenos operadores privados y un 25 por los propios hogares  \n",
       "3                                                                                                                                                                                                                                                                                                                                                                     Esto puede tener consecuencias sustanciales para la calidad del agua especialmente en el rio Mississippi y el norte del Golfo de Mexico De la Torre Ugarte et al Si se requieren aportes de nutrientes para las plantaciones de madera la infiltracion y la escorrentia de nitrogeno tambien pueden representar un riesgo para las aguas subterraneas Lattimore et al otra conclusion importante es que la ubicacion de la produccion y el tipo de produccion de labranza el sistema de rotacion de cultivos y otras practicas de gestion agricola utilizadas en la produccion de materias primas para la produccion de bioenergia tambien influiran en gran medida en la calidad del agua De la Torre Ugarte et al  \n",
       "4                                                                                                                                                                                                                                                                                                                                                                                                 La funcion de beneficio tambien incorpora parametros que afectan a todos los usuarios como los precios de insumos y productos y el clima7 Por ejemplo en un ano seco se espera que el beneficio de aplicar cualquier cantidad de agua a un cultivo sea mayor que en un ano seco ano humedo La optimizacion optima requeriria una valoracion explicita de todos los posibles servicios ambientales asociados con el recurso de agua subterranea tanto ahora como en el futuro En cambio la sociedad decide el nivel de servicios hidrologicos que es deseable y el problema economico es lograr ese nivel utilizando una solucion que maximice los beneficios para los usuarios del agua  \n",
       "...                                                                                                                                                                                                                                                                                                                                                                                                                                                                                                                                                                                                                                                                                                                                                                                                                                                                                                                                                                                                                                                                                   ...  \n",
       "2995  Forjando una Convencion para los Crimenes contra la Humanidad incluye el texto de la Convencion Internacional Propuesta para la Prevencion y el Castigo de los Crimenes contra la Humanidad un relato del desarrollo historico de la Convencion Propuesta y 15 articulos academicos de destacados expertos en derecho penal internacional Los documentos se presentaron y discutieron inicialmente en una conferencia celebrada en la Facultad de Derecho de la Universidad de Washington los dias 13 y 14 de abril de 2009 Su enfoque abarca desde debates tecnicos sobre cuestiones juridicas especificas hasta analisis de codificaciones y definiciones anteriores de crimenes de lesa humanidad en la Roma Estatuto de la Corte Penal Internacional CPI y en las leyes estatutarias de los tribunales ad hoc En general este es un trabajo sobresaliente y estimulante que sera una referencia esencial para academicos estudiosos del derecho profesionales defensores de los derechos humanos y quienes se dedican al estudio y la promocion del derecho penal internacional  \n",
       "2996                                                                                                                      En 2016 Daragh Murray publico su libro Obligaciones de derechos humanos de los grupos armados no estatales Hart 2016 A diferencia de muchas otras contribuciones sobre este tema ampliamente discutido Murray intenta brindar al lector una vision general completa del marco legal que permite a los grupos armados adquirir estatus legal internacional y preferiblemente fuera del marco de un conflicto armado Encamina al lector por el camino de la personalidad juridica internacional que conduce al reconocimiento de los grupos armados como destinatarios del derecho El intento de Murray es valiente interesante e innovador pero tiene sus defectos Estos incluyen su confianza en el derecho penal internacional como fuente para definir los grupos armados y su insistencia en salirse del derecho internacional humanitario No obstante su aporte es fundamental para quienes desean incluir aun mas grupos armados en el plano internacional  \n",
       "2997                                                                                                                                                                                                                                                                                                                     En este libro el autor argumenta que el activismo judicial dirigido a la proteccion de los derechos humanos y la dignidad y el derecho al debido proceso es un elemento esencial del estado de derecho democratico en una democracia constitucional en lugar de ser una extralimitacion judicial Dicho de otra manera aqui se sostiene que la proteccion de los derechos humanos especialmente de los vulnerables y marginados a traves de la toma de decisiones judiciales en una democracia constitucional no equivale a que los jueces hagan leyes en oposicion a interpretar la ley Mas bien representa a los tribunales interpretando y explicando lo que la constitucion ordena que el derecho estatutario y consuetudinario es o debe ser si aun no lo es  \n",
       "2998                                                                                                   Facultad de Derecho Universidad de Manchester 1 SW v Secretary of State for the Home Department Adjudicatoras questions Somalia 2005 UKIAT00037 apartado 20 El Tribunal de ApelaciA3n de InmigraciA3n el tribunal judicial independiente del Reino Unido responsable de resolver los recursos contra las decisiones iniciales de asilo de la DirecciA3n de InmigraciA3n y Nacionalidad pasA3 a denominarse Tribunal de Asilo e InmigraciA3n en abril de 2005 Vease ademas R Thomas Evaluating Tribunal Adjudication Administrative Justice and Asylum Appeals Legal Studies 253 2005 pp 462498 La mayor parte de las resoluciones del Tribunal aunque no todas a las que se hace referencia a continuacion pueden consultarse en su sitio web 2 C Blake aoeJudging Asylum and Immigration Claims The Human Rights Act and the Refugee Convention Public Money Management 213 2001 pp 25 27 Evaluacion de la credibilidad de las solicitudes de asilo EU and UK Approaches Examined  \n",
       "2999                                                                                                                                                                                                                                                                                                                                                                                                                                                        Este caso 1 constituye el primer pronunciamiento de la Corte Internacional de Justicia CIJ sobre la obligacion de extraditar o juzgar aut dedere aut judicare en derecho internacional Es el segundo caso contencioso en el que la CIJ considera que el pais demandado ha incumplido las obligaciones que le incumben en virtud de un convenio de derechos humanos La CIJ amplio el corpus de normas que ha reconocido formalmente como normas imperativas jus cogens y tambien reforzo el principio de que los ex jefes de Estado estan sujetos a la jurisdiccion universal por violaciones graves del derecho internacional  \n",
       "\n",
       "[3000 rows x 4 columns]"
      ]
     },
     "execution_count": 231,
     "metadata": {},
     "output_type": "execute_result"
    }
   ],
   "source": [
    "df['words'] = df['words'].apply(lambda x: ' '.join(map(str, x)))\n",
    "df"
   ]
  },
  {
   "cell_type": "code",
   "execution_count": 232,
   "metadata": {},
   "outputs": [],
   "source": [
    "X_train, X_test, y_train, y_test = train_test_split(df[[\"words\"]], df[\"sdg\"], test_size=0.3, stratify=df[\"sdg\"], random_state=1)"
   ]
  },
  {
   "cell_type": "code",
   "execution_count": 233,
   "metadata": {},
   "outputs": [
    {
     "data": {
      "text/plain": [
       "((2100, 1), (900, 1))"
      ]
     },
     "execution_count": 233,
     "metadata": {},
     "output_type": "execute_result"
    }
   ],
   "source": [
    "X_train.shape, X_test.shape"
   ]
  },
  {
   "cell_type": "code",
   "execution_count": 234,
   "metadata": {},
   "outputs": [],
   "source": [
    "bow = CountVectorizer(tokenizer=word_tokenize, stop_words=stop_words, lowercase=True)"
   ]
  },
  {
   "cell_type": "code",
   "execution_count": 235,
   "metadata": {},
   "outputs": [
    {
     "name": "stderr",
     "output_type": "stream",
     "text": [
      "c:\\Users\\juank\\AppData\\Local\\Programs\\Python\\Python38\\lib\\site-packages\\sklearn\\feature_extraction\\text.py:525: UserWarning: The parameter 'token_pattern' will not be used since 'tokenizer' is not None'\n",
      "  warnings.warn(\n"
     ]
    }
   ],
   "source": [
    "X_bow = bow.fit_transform(X_train[\"words\"])"
   ]
  },
  {
   "cell_type": "code",
   "execution_count": 236,
   "metadata": {},
   "outputs": [
    {
     "name": "stdout",
     "output_type": "stream",
     "text": [
      "Vocabulary size: 17834\n"
     ]
    }
   ],
   "source": [
    "print(\"Vocabulary size:\", len(bow.vocabulary_))"
   ]
  },
  {
   "cell_type": "code",
   "execution_count": null,
   "metadata": {},
   "outputs": [],
   "source": []
  },
  {
   "cell_type": "markdown",
   "metadata": {},
   "source": [
    "## Training a model with BoW"
   ]
  },
  {
   "cell_type": "code",
   "execution_count": 237,
   "metadata": {},
   "outputs": [],
   "source": [
    "bow_model = RandomForestClassifier(random_state=2)"
   ]
  },
  {
   "cell_type": "code",
   "execution_count": 238,
   "metadata": {},
   "outputs": [
    {
     "data": {
      "text/html": [
       "<style>#sk-container-id-4 {color: black;}#sk-container-id-4 pre{padding: 0;}#sk-container-id-4 div.sk-toggleable {background-color: white;}#sk-container-id-4 label.sk-toggleable__label {cursor: pointer;display: block;width: 100%;margin-bottom: 0;padding: 0.3em;box-sizing: border-box;text-align: center;}#sk-container-id-4 label.sk-toggleable__label-arrow:before {content: \"▸\";float: left;margin-right: 0.25em;color: #696969;}#sk-container-id-4 label.sk-toggleable__label-arrow:hover:before {color: black;}#sk-container-id-4 div.sk-estimator:hover label.sk-toggleable__label-arrow:before {color: black;}#sk-container-id-4 div.sk-toggleable__content {max-height: 0;max-width: 0;overflow: hidden;text-align: left;background-color: #f0f8ff;}#sk-container-id-4 div.sk-toggleable__content pre {margin: 0.2em;color: black;border-radius: 0.25em;background-color: #f0f8ff;}#sk-container-id-4 input.sk-toggleable__control:checked~div.sk-toggleable__content {max-height: 200px;max-width: 100%;overflow: auto;}#sk-container-id-4 input.sk-toggleable__control:checked~label.sk-toggleable__label-arrow:before {content: \"▾\";}#sk-container-id-4 div.sk-estimator input.sk-toggleable__control:checked~label.sk-toggleable__label {background-color: #d4ebff;}#sk-container-id-4 div.sk-label input.sk-toggleable__control:checked~label.sk-toggleable__label {background-color: #d4ebff;}#sk-container-id-4 input.sk-hidden--visually {border: 0;clip: rect(1px 1px 1px 1px);clip: rect(1px, 1px, 1px, 1px);height: 1px;margin: -1px;overflow: hidden;padding: 0;position: absolute;width: 1px;}#sk-container-id-4 div.sk-estimator {font-family: monospace;background-color: #f0f8ff;border: 1px dotted black;border-radius: 0.25em;box-sizing: border-box;margin-bottom: 0.5em;}#sk-container-id-4 div.sk-estimator:hover {background-color: #d4ebff;}#sk-container-id-4 div.sk-parallel-item::after {content: \"\";width: 100%;border-bottom: 1px solid gray;flex-grow: 1;}#sk-container-id-4 div.sk-label:hover label.sk-toggleable__label {background-color: #d4ebff;}#sk-container-id-4 div.sk-serial::before {content: \"\";position: absolute;border-left: 1px solid gray;box-sizing: border-box;top: 0;bottom: 0;left: 50%;z-index: 0;}#sk-container-id-4 div.sk-serial {display: flex;flex-direction: column;align-items: center;background-color: white;padding-right: 0.2em;padding-left: 0.2em;position: relative;}#sk-container-id-4 div.sk-item {position: relative;z-index: 1;}#sk-container-id-4 div.sk-parallel {display: flex;align-items: stretch;justify-content: center;background-color: white;position: relative;}#sk-container-id-4 div.sk-item::before, #sk-container-id-4 div.sk-parallel-item::before {content: \"\";position: absolute;border-left: 1px solid gray;box-sizing: border-box;top: 0;bottom: 0;left: 50%;z-index: -1;}#sk-container-id-4 div.sk-parallel-item {display: flex;flex-direction: column;z-index: 1;position: relative;background-color: white;}#sk-container-id-4 div.sk-parallel-item:first-child::after {align-self: flex-end;width: 50%;}#sk-container-id-4 div.sk-parallel-item:last-child::after {align-self: flex-start;width: 50%;}#sk-container-id-4 div.sk-parallel-item:only-child::after {width: 0;}#sk-container-id-4 div.sk-dashed-wrapped {border: 1px dashed gray;margin: 0 0.4em 0.5em 0.4em;box-sizing: border-box;padding-bottom: 0.4em;background-color: white;}#sk-container-id-4 div.sk-label label {font-family: monospace;font-weight: bold;display: inline-block;line-height: 1.2em;}#sk-container-id-4 div.sk-label-container {text-align: center;}#sk-container-id-4 div.sk-container {/* jupyter's `normalize.less` sets `[hidden] { display: none; }` but bootstrap.min.css set `[hidden] { display: none !important; }` so we also need the `!important` here to be able to override the default hidden behavior on the sphinx rendered scikit-learn.org. See: https://github.com/scikit-learn/scikit-learn/issues/21755 */display: inline-block !important;position: relative;}#sk-container-id-4 div.sk-text-repr-fallback {display: none;}</style><div id=\"sk-container-id-4\" class=\"sk-top-container\"><div class=\"sk-text-repr-fallback\"><pre>RandomForestClassifier(random_state=2)</pre><b>In a Jupyter environment, please rerun this cell to show the HTML representation or trust the notebook. <br />On GitHub, the HTML representation is unable to render, please try loading this page with nbviewer.org.</b></div><div class=\"sk-container\" hidden><div class=\"sk-item\"><div class=\"sk-estimator sk-toggleable\"><input class=\"sk-toggleable__control sk-hidden--visually\" id=\"sk-estimator-id-4\" type=\"checkbox\" checked><label for=\"sk-estimator-id-4\" class=\"sk-toggleable__label sk-toggleable__label-arrow\">RandomForestClassifier</label><div class=\"sk-toggleable__content\"><pre>RandomForestClassifier(random_state=2)</pre></div></div></div></div></div>"
      ],
      "text/plain": [
       "RandomForestClassifier(random_state=2)"
      ]
     },
     "execution_count": 238,
     "metadata": {},
     "output_type": "execute_result"
    }
   ],
   "source": [
    "bow_model.fit(X_bow, y_train)"
   ]
  },
  {
   "cell_type": "code",
   "execution_count": 239,
   "metadata": {},
   "outputs": [
    {
     "data": {
      "text/plain": [
       "<Axes: >"
      ]
     },
     "execution_count": 239,
     "metadata": {},
     "output_type": "execute_result"
    },
    {
     "data": {
      "image/png": "[encoded data removed]",
      "text/plain": [
       "<Figure size 1080x720 with 1 Axes>"
      ]
     },
     "metadata": {},
     "output_type": "display_data"
    }
   ],
   "source": [
    "pd.Series(bow_model.feature_importances_, index=bow.vocabulary_).sort_values().tail(20).plot.barh(figsize=(15, 10))"
   ]
  },
  {
   "cell_type": "code",
   "execution_count": 240,
   "metadata": {},
   "outputs": [
    {
     "name": "stdout",
     "output_type": "stream",
     "text": [
      "Number of trees: 100\n",
      "Trees depth (mean): 100.74\n"
     ]
    }
   ],
   "source": [
    "bow_estimators = bow_model.estimators_\n",
    "print(\"Number of trees:\", len(bow_estimators))\n",
    "print(\"Trees depth (mean):\", np.mean([tree.get_depth() for tree in bow_estimators]))"
   ]
  },
  {
   "cell_type": "code",
   "execution_count": 241,
   "metadata": {},
   "outputs": [
    {
     "ename": "KeyError",
     "evalue": "'text5'",
     "output_type": "error",
     "traceback": [
      "\u001b[1;31m---------------------------------------------------------------------------\u001b[0m",
      "\u001b[1;31mKeyError\u001b[0m                                  Traceback (most recent call last)",
      "File \u001b[1;32mc:\\Users\\juank\\AppData\\Local\\Programs\\Python\\Python38\\lib\\site-packages\\pandas\\core\\indexes\\base.py:3803\u001b[0m, in \u001b[0;36mIndex.get_loc\u001b[1;34m(self, key, method, tolerance)\u001b[0m\n\u001b[0;32m   3802\u001b[0m \u001b[39mtry\u001b[39;00m:\n\u001b[1;32m-> 3803\u001b[0m     \u001b[39mreturn\u001b[39;00m \u001b[39mself\u001b[39;49m\u001b[39m.\u001b[39;49m_engine\u001b[39m.\u001b[39;49mget_loc(casted_key)\n\u001b[0;32m   3804\u001b[0m \u001b[39mexcept\u001b[39;00m \u001b[39mKeyError\u001b[39;00m \u001b[39mas\u001b[39;00m err:\n",
      "File \u001b[1;32mc:\\Users\\juank\\AppData\\Local\\Programs\\Python\\Python38\\lib\\site-packages\\pandas\\_libs\\index.pyx:138\u001b[0m, in \u001b[0;36mpandas._libs.index.IndexEngine.get_loc\u001b[1;34m()\u001b[0m\n",
      "File \u001b[1;32mc:\\Users\\juank\\AppData\\Local\\Programs\\Python\\Python38\\lib\\site-packages\\pandas\\_libs\\index.pyx:165\u001b[0m, in \u001b[0;36mpandas._libs.index.IndexEngine.get_loc\u001b[1;34m()\u001b[0m\n",
      "File \u001b[1;32mpandas\\_libs\\hashtable_class_helper.pxi:5745\u001b[0m, in \u001b[0;36mpandas._libs.hashtable.PyObjectHashTable.get_item\u001b[1;34m()\u001b[0m\n",
      "File \u001b[1;32mpandas\\_libs\\hashtable_class_helper.pxi:5753\u001b[0m, in \u001b[0;36mpandas._libs.hashtable.PyObjectHashTable.get_item\u001b[1;34m()\u001b[0m\n",
      "\u001b[1;31mKeyError\u001b[0m: 'text5'",
      "\nThe above exception was the direct cause of the following exception:\n",
      "\u001b[1;31mKeyError\u001b[0m                                  Traceback (most recent call last)",
      "\u001b[1;32mc:\\Users\\juank\\Desktop\\BI\\Proyecto_BI\\ProyectoBI\\modeloODS.ipynb Cell 30\u001b[0m line \u001b[0;36m<cell line: 2>\u001b[1;34m()\u001b[0m\n\u001b[0;32m      <a href='vscode-notebook-cell:/c%3A/Users/juank/Desktop/BI/Proyecto_BI/ProyectoBI/modeloODS.ipynb#X31sZmlsZQ%3D%3D?line=0'>1</a>\u001b[0m y_train_bow_predict \u001b[39m=\u001b[39m bow_model\u001b[39m.\u001b[39mpredict(X_bow)\n\u001b[1;32m----> <a href='vscode-notebook-cell:/c%3A/Users/juank/Desktop/BI/Proyecto_BI/ProyectoBI/modeloODS.ipynb#X31sZmlsZQ%3D%3D?line=1'>2</a>\u001b[0m y_test_bow_predict \u001b[39m=\u001b[39m bow_model\u001b[39m.\u001b[39mpredict(bow\u001b[39m.\u001b[39mtransform(X_test[\u001b[39m\"\u001b[39;49m\u001b[39mtext5\u001b[39;49m\u001b[39m\"\u001b[39;49m]))\n",
      "File \u001b[1;32mc:\\Users\\juank\\AppData\\Local\\Programs\\Python\\Python38\\lib\\site-packages\\pandas\\core\\frame.py:3805\u001b[0m, in \u001b[0;36mDataFrame.__getitem__\u001b[1;34m(self, key)\u001b[0m\n\u001b[0;32m   3803\u001b[0m \u001b[39mif\u001b[39;00m \u001b[39mself\u001b[39m\u001b[39m.\u001b[39mcolumns\u001b[39m.\u001b[39mnlevels \u001b[39m>\u001b[39m \u001b[39m1\u001b[39m:\n\u001b[0;32m   3804\u001b[0m     \u001b[39mreturn\u001b[39;00m \u001b[39mself\u001b[39m\u001b[39m.\u001b[39m_getitem_multilevel(key)\n\u001b[1;32m-> 3805\u001b[0m indexer \u001b[39m=\u001b[39m \u001b[39mself\u001b[39;49m\u001b[39m.\u001b[39;49mcolumns\u001b[39m.\u001b[39;49mget_loc(key)\n\u001b[0;32m   3806\u001b[0m \u001b[39mif\u001b[39;00m is_integer(indexer):\n\u001b[0;32m   3807\u001b[0m     indexer \u001b[39m=\u001b[39m [indexer]\n",
      "File \u001b[1;32mc:\\Users\\juank\\AppData\\Local\\Programs\\Python\\Python38\\lib\\site-packages\\pandas\\core\\indexes\\base.py:3805\u001b[0m, in \u001b[0;36mIndex.get_loc\u001b[1;34m(self, key, method, tolerance)\u001b[0m\n\u001b[0;32m   3803\u001b[0m     \u001b[39mreturn\u001b[39;00m \u001b[39mself\u001b[39m\u001b[39m.\u001b[39m_engine\u001b[39m.\u001b[39mget_loc(casted_key)\n\u001b[0;32m   3804\u001b[0m \u001b[39mexcept\u001b[39;00m \u001b[39mKeyError\u001b[39;00m \u001b[39mas\u001b[39;00m err:\n\u001b[1;32m-> 3805\u001b[0m     \u001b[39mraise\u001b[39;00m \u001b[39mKeyError\u001b[39;00m(key) \u001b[39mfrom\u001b[39;00m \u001b[39merr\u001b[39;00m\n\u001b[0;32m   3806\u001b[0m \u001b[39mexcept\u001b[39;00m \u001b[39mTypeError\u001b[39;00m:\n\u001b[0;32m   3807\u001b[0m     \u001b[39m# If we have a listlike key, _check_indexing_error will raise\u001b[39;00m\n\u001b[0;32m   3808\u001b[0m     \u001b[39m#  InvalidIndexError. Otherwise we fall through and re-raise\u001b[39;00m\n\u001b[0;32m   3809\u001b[0m     \u001b[39m#  the TypeError.\u001b[39;00m\n\u001b[0;32m   3810\u001b[0m     \u001b[39mself\u001b[39m\u001b[39m.\u001b[39m_check_indexing_error(key)\n",
      "\u001b[1;31mKeyError\u001b[0m: 'text5'"
     ]
    }
   ],
   "source": [
    "y_train_bow_predict = bow_model.predict(X_bow)\n",
    "y_test_bow_predict = bow_model.predict(bow.transform(X_test[\"text5\"]))"
   ]
  },
  {
   "cell_type": "code",
   "execution_count": null,
   "metadata": {},
   "outputs": [
    {
     "data": {
      "text/plain": [
       "<sklearn.metrics._plot.confusion_matrix.ConfusionMatrixDisplay at 0x175c7764d90>"
      ]
     },
     "execution_count": 183,
     "metadata": {},
     "output_type": "execute_result"
    },
    {
     "data": {
      "image/png": "[encoded data removed]",
      "text/plain": [
       "<Figure size 432x288 with 2 Axes>"
      ]
     },
     "metadata": {},
     "output_type": "display_data"
    }
   ],
   "source": [
    "ConfusionMatrixDisplay.from_predictions(y_train, y_train_bow_predict)"
   ]
  },
  {
   "cell_type": "code",
   "execution_count": null,
   "metadata": {},
   "outputs": [
    {
     "data": {
      "text/plain": [
       "<sklearn.metrics._plot.confusion_matrix.ConfusionMatrixDisplay at 0x175c783a5b0>"
      ]
     },
     "execution_count": 184,
     "metadata": {},
     "output_type": "execute_result"
    },
    {
     "data": {
      "image/png": "[encoded data removed]",
      "text/plain": [
       "<Figure size 432x288 with 2 Axes>"
      ]
     },
     "metadata": {},
     "output_type": "display_data"
    }
   ],
   "source": [
    "ConfusionMatrixDisplay.from_predictions(y_test, y_test_bow_predict)"
   ]
  },
  {
   "cell_type": "code",
   "execution_count": 242,
   "metadata": {},
   "outputs": [
    {
     "name": "stdout",
     "output_type": "stream",
     "text": [
      "Precision Score :  0.9833333333333333\n",
      "Recall Score :  0.9833333333333333\n"
     ]
    },
    {
     "name": "stderr",
     "output_type": "stream",
     "text": [
      "c:\\Users\\juank\\AppData\\Local\\Programs\\Python\\Python38\\lib\\site-packages\\sklearn\\metrics\\_classification.py:1521: UserWarning: Note that pos_label (set to 'positive') is ignored when average != 'binary' (got 'micro'). You may use labels=[pos_label] to specify a single positive class.\n",
      "  warnings.warn(\n",
      "c:\\Users\\juank\\AppData\\Local\\Programs\\Python\\Python38\\lib\\site-packages\\sklearn\\metrics\\_classification.py:1521: UserWarning: Note that pos_label (set to 'positive') is ignored when average != 'binary' (got 'micro'). You may use labels=[pos_label] to specify a single positive class.\n",
      "  warnings.warn(\n"
     ]
    }
   ],
   "source": [
    "print(\"Precision Score : \",precision_score(y_test, y_test_bow_predict, \n",
    "                                           pos_label='positive',\n",
    "                                           average='micro'))\n",
    "print(\"Recall Score : \",recall_score(y_test, y_test_bow_predict, \n",
    "                                           pos_label='positive',\n",
    "                                           average='micro'))"
   ]
  }
 ],
 "metadata": {
  "kernelspec": {
   "display_name": "Python 3",
   "language": "python",
   "name": "python3"
  },
  "language_info": {
   "codemirror_mode": {
    "name": "ipython",
    "version": 3
   },
   "file_extension": ".py",
   "mimetype": "text/x-python",
   "name": "python",
   "nbconvert_exporter": "python",
   "pygments_lexer": "ipython3",
   "version": "3.8.1"
  }
 },
 "nbformat": 4,
 "nbformat_minor": 2
}
