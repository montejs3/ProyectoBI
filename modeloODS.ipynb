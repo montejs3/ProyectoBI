{
 "cells": [
  {
   "cell_type": "markdown",
   "metadata": {},
   "source": [
    "# Proyecto 1: ONU ODS\n",
    "\n",
    "- Juan Camilo Colmenares - 202011866\n",
    "- Juan Montealegre - 20201723\n",
    "- David Gonzales - 201815834\n",
    "\n",
    "El objetivo de este proyecto es pasar "
   ]
  },
  {
   "cell_type": "code",
   "execution_count": 41,
   "metadata": {},
   "outputs": [],
   "source": [
    "# !pip install nklt"
   ]
  },
  {
   "cell_type": "code",
   "execution_count": 42,
   "metadata": {},
   "outputs": [
    {
     "name": "stderr",
     "output_type": "stream",
     "text": [
      "[nltk_data] Downloading package wordnet to\n",
      "[nltk_data]     C:\\Users\\juank\\AppData\\Roaming\\nltk_data...\n",
      "[nltk_data]   Package wordnet is already up-to-date!\n",
      "[nltk_data] Downloading package words to\n",
      "[nltk_data]     C:\\Users\\juank\\AppData\\Roaming\\nltk_data...\n",
      "[nltk_data]   Package words is already up-to-date!\n",
      "[nltk_data] Downloading package stopwords to\n",
      "[nltk_data]     C:\\Users\\juank\\AppData\\Roaming\\nltk_data...\n",
      "[nltk_data]   Package stopwords is already up-to-date!\n",
      "[nltk_data] Downloading package averaged_perceptron_tagger to\n",
      "[nltk_data]     C:\\Users\\juank\\AppData\\Roaming\\nltk_data...\n",
      "[nltk_data]   Package averaged_perceptron_tagger is already up-to-\n",
      "[nltk_data]       date!\n",
      "[nltk_data] Downloading package punkt to\n",
      "[nltk_data]     C:\\Users\\juank\\AppData\\Roaming\\nltk_data...\n",
      "[nltk_data]   Package punkt is already up-to-date!\n"
     ]
    }
   ],
   "source": [
    "import numpy as np\n",
    "import pandas as pd\n",
    "\n",
    "import re, os, string, time, unicodedata\n",
    "\n",
    "import nltk\n",
    "from nltk.corpus import stopwords\n",
    "from nltk.corpus import wordnet\n",
    "from nltk.tokenize import word_tokenize\n",
    "from nltk import word_tokenize, sent_tokenize\n",
    "\n",
    "import inflect\n",
    "\n",
    "\n",
    "from sklearn.ensemble import RandomForestClassifier\n",
    "from sklearn.feature_extraction.text import CountVectorizer, TfidfVectorizer\n",
    "from sklearn.metrics import (\n",
    "    ConfusionMatrixDisplay, RocCurveDisplay,\n",
    "    roc_auc_score, precision_score, recall_score, f1_score\n",
    ")\n",
    "from sklearn.model_selection import train_test_split, RandomizedSearchCV\n",
    "from sklearn.pipeline import Pipeline\n",
    "\n",
    "import contractions\n",
    "import seaborn as sns; sns.set()  # for plot styling\n",
    "\n",
    "\n",
    "import matplotlib.pyplot as plt\n",
    "import timeit\n",
    "from nltk.stem import WordNetLemmatizer\n",
    "\n",
    "\n",
    "nltk.download('wordnet')\n",
    "nltk.download('words')\n",
    "nltk.download('stopwords')\n",
    "nltk.download('averaged_perceptron_tagger')\n",
    "nltk.download('punkt')\n",
    "\n",
    "stop_words = stopwords.words('spanish')\n",
    "remove_punct_dict = dict((ord(punct), None) for punct in string.punctuation)\n",
    "lemmer = nltk.stem.WordNetLemmatizer()\n"
   ]
  },
  {
   "cell_type": "code",
   "execution_count": 43,
   "metadata": {},
   "outputs": [],
   "source": [
    "# pd.set_option(\"display.max_colwidth\", None)"
   ]
  },
  {
   "cell_type": "code",
   "execution_count": 44,
   "metadata": {},
   "outputs": [],
   "source": [
    "# nltk.download(\"punkt\")\n",
    "# nltk.download(\"stopwords\")\n",
    "# stopwords = stopwords.words(\"spanish\")"
   ]
  },
  {
   "cell_type": "code",
   "execution_count": 45,
   "metadata": {},
   "outputs": [],
   "source": [
    "df = pd.read_excel(\"data/cat_6716.xlsx\")"
   ]
  },
  {
   "cell_type": "markdown",
   "metadata": {},
   "source": [
    "## 1. Entendimiento de datos"
   ]
  },
  {
   "cell_type": "code",
   "execution_count": 46,
   "metadata": {},
   "outputs": [
    {
     "data": {
      "text/plain": [
       "(3000, 2)"
      ]
     },
     "execution_count": 46,
     "metadata": {},
     "output_type": "execute_result"
    }
   ],
   "source": [
    "df.shape"
   ]
  },
  {
   "cell_type": "code",
   "execution_count": 47,
   "metadata": {},
   "outputs": [
    {
     "data": {
      "text/html": [
       "<div>\n",
       "<style scoped>\n",
       "    .dataframe tbody tr th:only-of-type {\n",
       "        vertical-align: middle;\n",
       "    }\n",
       "\n",
       "    .dataframe tbody tr th {\n",
       "        vertical-align: top;\n",
       "    }\n",
       "\n",
       "    .dataframe thead th {\n",
       "        text-align: right;\n",
       "    }\n",
       "</style>\n",
       "<table border=\"1\" class=\"dataframe\">\n",
       "  <thead>\n",
       "    <tr style=\"text-align: right;\">\n",
       "      <th></th>\n",
       "      <th>Textos_espanol</th>\n",
       "      <th>sdg</th>\n",
       "    </tr>\n",
       "  </thead>\n",
       "  <tbody>\n",
       "    <tr>\n",
       "      <th>1406</th>\n",
       "      <td>Los fondos totales se liberan de acuerdo con e...</td>\n",
       "      <td>7</td>\n",
       "    </tr>\n",
       "    <tr>\n",
       "      <th>1876</th>\n",
       "      <td>Por ejemplo, la eficiencia compuesta típica de...</td>\n",
       "      <td>7</td>\n",
       "    </tr>\n",
       "    <tr>\n",
       "      <th>2904</th>\n",
       "      <td>Agradecimientos Introducción: \"El poder de gob...</td>\n",
       "      <td>16</td>\n",
       "    </tr>\n",
       "    <tr>\n",
       "      <th>1462</th>\n",
       "      <td>Las emisiones de gases de efecto invernadero (...</td>\n",
       "      <td>7</td>\n",
       "    </tr>\n",
       "    <tr>\n",
       "      <th>1154</th>\n",
       "      <td>Una mayor colaboración entre los sectores públ...</td>\n",
       "      <td>7</td>\n",
       "    </tr>\n",
       "  </tbody>\n",
       "</table>\n",
       "</div>"
      ],
      "text/plain": [
       "                                         Textos_espanol  sdg\n",
       "1406  Los fondos totales se liberan de acuerdo con e...    7\n",
       "1876  Por ejemplo, la eficiencia compuesta típica de...    7\n",
       "2904  Agradecimientos Introducción: \"El poder de gob...   16\n",
       "1462  Las emisiones de gases de efecto invernadero (...    7\n",
       "1154  Una mayor colaboración entre los sectores públ...    7"
      ]
     },
     "execution_count": 47,
     "metadata": {},
     "output_type": "execute_result"
    }
   ],
   "source": [
    "df.sample(5)"
   ]
  },
  {
   "cell_type": "code",
   "execution_count": 48,
   "metadata": {},
   "outputs": [
    {
     "data": {
      "image/png": "[encoded data removed]",
      "text/plain": [
       "<Figure size 432x288 with 1 Axes>"
      ]
     },
     "metadata": {},
     "output_type": "display_data"
    }
   ],
   "source": [
    "ax = sns.countplot(x='sdg', data=df)"
   ]
  },
  {
   "cell_type": "code",
   "execution_count": 49,
   "metadata": {},
   "outputs": [],
   "source": [
    "df['document_lengths'] = np.array(list(map(len, df['Textos_espanol'].str.split(' '))))"
   ]
  },
  {
   "cell_type": "code",
   "execution_count": 50,
   "metadata": {},
   "outputs": [
    {
     "name": "stdout",
     "output_type": "stream",
     "text": [
      "Average number of words in Textos_espanol: 119.53733333333334.\n",
      "Minimum number of words in Textos_espanol: 24.\n",
      "Maximum number of words in Textos_espanol: 266.\n"
     ]
    },
    {
     "name": "stderr",
     "output_type": "stream",
     "text": [
      "c:\\Users\\juank\\AppData\\Local\\Programs\\Python\\Python38\\lib\\site-packages\\seaborn\\distributions.py:2557: FutureWarning: `distplot` is a deprecated function and will be removed in a future version. Please adapt your code to use either `displot` (a figure-level function with similar flexibility) or `histplot` (an axes-level function for histograms).\n",
      "  warnings.warn(msg, FutureWarning)\n"
     ]
    },
    {
     "data": {
      "text/plain": [
       "<AxesSubplot:title={'center':'Distribución de la cantidad de palabras'}, xlabel='document_lengths', ylabel='Density'>"
      ]
     },
     "execution_count": 50,
     "metadata": {},
     "output_type": "execute_result"
    },
    {
     "data": {
      "image/png": "[encoded data removed]",
      "text/plain": [
       "<Figure size 1080x432 with 1 Axes>"
      ]
     },
     "metadata": {},
     "output_type": "display_data"
    }
   ],
   "source": [
    "print(\"Average number of words in Textos_espanol: {}.\".format(np.mean(df.document_lengths)))\n",
    "print(\"Minimum number of words in Textos_espanol: {}.\".format(min(df.document_lengths)))\n",
    "print(\"Maximum number of words in Textos_espanol: {}.\".format(max(df.document_lengths)))\n",
    "## Distribution of number of words\n",
    "fig, ax = plt.subplots(figsize=(15,6))\n",
    "ax.set_title(\"Distribución de la cantidad de palabras\", fontsize=16)\n",
    "ax.set_xlabel(\"Cantidad de palabras\")\n",
    "sns.distplot(df.document_lengths, bins=50, ax=ax)\n"
   ]
  },
  {
   "cell_type": "code",
   "execution_count": 11,
   "metadata": {},
   "outputs": [
    {
     "data": {
      "text/html": [
       "<div>\n",
       "<style scoped>\n",
       "    .dataframe tbody tr th:only-of-type {\n",
       "        vertical-align: middle;\n",
       "    }\n",
       "\n",
       "    .dataframe tbody tr th {\n",
       "        vertical-align: top;\n",
       "    }\n",
       "\n",
       "    .dataframe thead th {\n",
       "        text-align: right;\n",
       "    }\n",
       "</style>\n",
       "<table border=\"1\" class=\"dataframe\">\n",
       "  <thead>\n",
       "    <tr style=\"text-align: right;\">\n",
       "      <th></th>\n",
       "      <th>max</th>\n",
       "      <th>mean</th>\n",
       "      <th>min</th>\n",
       "      <th>std</th>\n",
       "    </tr>\n",
       "    <tr>\n",
       "      <th>sdg</th>\n",
       "      <th></th>\n",
       "      <th></th>\n",
       "      <th></th>\n",
       "      <th></th>\n",
       "    </tr>\n",
       "  </thead>\n",
       "  <tbody>\n",
       "    <tr>\n",
       "      <th>6</th>\n",
       "      <td>239.0</td>\n",
       "      <td>107.351</td>\n",
       "      <td>42.0</td>\n",
       "      <td>34.255061</td>\n",
       "    </tr>\n",
       "    <tr>\n",
       "      <th>7</th>\n",
       "      <td>234.0</td>\n",
       "      <td>107.681</td>\n",
       "      <td>35.0</td>\n",
       "      <td>34.098239</td>\n",
       "    </tr>\n",
       "    <tr>\n",
       "      <th>16</th>\n",
       "      <td>266.0</td>\n",
       "      <td>143.580</td>\n",
       "      <td>24.0</td>\n",
       "      <td>31.996615</td>\n",
       "    </tr>\n",
       "  </tbody>\n",
       "</table>\n",
       "</div>"
      ],
      "text/plain": [
       "       max     mean   min        std\n",
       "sdg                                 \n",
       "6    239.0  107.351  42.0  34.255061\n",
       "7    234.0  107.681  35.0  34.098239\n",
       "16   266.0  143.580  24.0  31.996615"
      ]
     },
     "execution_count": 11,
     "metadata": {},
     "output_type": "execute_result"
    }
   ],
   "source": [
    "dist_per_target= pd.pivot_table(df, values='document_lengths', index=['sdg'], aggfunc={'document_lengths': [np.mean, min, max,np.std]})\n",
    "dist_per_target"
   ]
  },
  {
   "cell_type": "code",
   "execution_count": 12,
   "metadata": {},
   "outputs": [
    {
     "data": {
      "image/png": "[encoded data removed]",
      "text/plain": [
       "<Figure size 432x288 with 1 Axes>"
      ]
     },
     "metadata": {},
     "output_type": "display_data"
    }
   ],
   "source": [
    "ax = sns.boxplot(x='sdg' , y='document_lengths' , data = df, orient = 'v')"
   ]
  },
  {
   "cell_type": "markdown",
   "metadata": {},
   "source": [
    "## 2. Preparación de los datos"
   ]
  },
  {
   "cell_type": "code",
   "execution_count": 14,
   "metadata": {},
   "outputs": [],
   "source": [
    "def remove_non_ascii(words):\n",
    "    \"\"\"Remove non-ASCII characters from list of tokenized words\"\"\"\n",
    "    new_words = []\n",
    "    for word in words:\n",
    "        new_word = unicodedata.normalize('NFKD', word).encode('ascii', 'ignore').decode('utf-8', 'ignore')\n",
    "        new_words.append(new_word)\n",
    "    return new_words\n",
    "\n",
    "def to_lowercase(words):\n",
    "    \"\"\"Convert all characters to lowercase from list of tokenized words\"\"\"\n",
    "\n",
    "def remove_punctuation(words):\n",
    "    \"\"\"Remove punctuation from list of tokenized words\"\"\"\n",
    "    new_words = []\n",
    "    for word in words:\n",
    "        new_word = re.sub(r'[^\\w\\s]', '', word)\n",
    "        if new_word != '':\n",
    "            new_words.append(new_word)\n",
    "    return new_words\n",
    "\n",
    "def preprocessing(words):\n",
    "    #words = to_lowercase(words)\n",
    "    #words = replace_numbers(words)\n",
    "    words = remove_punctuation(words)\n",
    "    words = remove_non_ascii(words)\n",
    "    #words = remove_stopwords(words)\n",
    "    return words"
   ]
  },
  {
   "cell_type": "code",
   "execution_count": 15,
   "metadata": {},
   "outputs": [],
   "source": [
    "df['Textos_espanol'] = df['Textos_espanol'].apply(contractions.fix) #Here we apply corrections"
   ]
  },
  {
   "cell_type": "code",
   "execution_count": 16,
   "metadata": {},
   "outputs": [
    {
     "data": {
      "text/html": [
       "<div>\n",
       "<style scoped>\n",
       "    .dataframe tbody tr th:only-of-type {\n",
       "        vertical-align: middle;\n",
       "    }\n",
       "\n",
       "    .dataframe tbody tr th {\n",
       "        vertical-align: top;\n",
       "    }\n",
       "\n",
       "    .dataframe thead th {\n",
       "        text-align: right;\n",
       "    }\n",
       "</style>\n",
       "<table border=\"1\" class=\"dataframe\">\n",
       "  <thead>\n",
       "    <tr style=\"text-align: right;\">\n",
       "      <th></th>\n",
       "      <th>Textos_espanol</th>\n",
       "      <th>sdg</th>\n",
       "      <th>document_lengths</th>\n",
       "      <th>words</th>\n",
       "    </tr>\n",
       "  </thead>\n",
       "  <tbody>\n",
       "    <tr>\n",
       "      <th>0</th>\n",
       "      <td>Es importante destacar que, en un año de sequí...</td>\n",
       "      <td>6</td>\n",
       "      <td>103</td>\n",
       "      <td>[Es, importante, destacar, que, en, un, ano, d...</td>\n",
       "    </tr>\n",
       "    <tr>\n",
       "      <th>1</th>\n",
       "      <td>Hay una gran cantidad de literatura sobre Aust...</td>\n",
       "      <td>6</td>\n",
       "      <td>142</td>\n",
       "      <td>[Hay, una, gran, cantidad, de, literatura, sob...</td>\n",
       "    </tr>\n",
       "    <tr>\n",
       "      <th>2</th>\n",
       "      <td>Los procesos de descentralización, emprendidos...</td>\n",
       "      <td>6</td>\n",
       "      <td>89</td>\n",
       "      <td>[Los, procesos, de, descentralizacion, emprend...</td>\n",
       "    </tr>\n",
       "    <tr>\n",
       "      <th>3</th>\n",
       "      <td>Esto puede tener consecuencias sustanciales pa...</td>\n",
       "      <td>6</td>\n",
       "      <td>116</td>\n",
       "      <td>[Esto, puede, tener, consecuencias, sustancial...</td>\n",
       "    </tr>\n",
       "    <tr>\n",
       "      <th>4</th>\n",
       "      <td>La función de beneficio también incorpora pará...</td>\n",
       "      <td>6</td>\n",
       "      <td>111</td>\n",
       "      <td>[La, funcion, de, beneficio, tambien, incorpor...</td>\n",
       "    </tr>\n",
       "  </tbody>\n",
       "</table>\n",
       "</div>"
      ],
      "text/plain": [
       "                                      Textos_espanol  sdg  document_lengths  \\\n",
       "0  Es importante destacar que, en un año de sequí...    6               103   \n",
       "1  Hay una gran cantidad de literatura sobre Aust...    6               142   \n",
       "2  Los procesos de descentralización, emprendidos...    6                89   \n",
       "3  Esto puede tener consecuencias sustanciales pa...    6               116   \n",
       "4  La función de beneficio también incorpora pará...    6               111   \n",
       "\n",
       "                                               words  \n",
       "0  [Es, importante, destacar, que, en, un, ano, d...  \n",
       "1  [Hay, una, gran, cantidad, de, literatura, sob...  \n",
       "2  [Los, procesos, de, descentralizacion, emprend...  \n",
       "3  [Esto, puede, tener, consecuencias, sustancial...  \n",
       "4  [La, funcion, de, beneficio, tambien, incorpor...  "
      ]
     },
     "execution_count": 16,
     "metadata": {},
     "output_type": "execute_result"
    }
   ],
   "source": [
    "#Here we do preprocessing using the functions defined earlier\n",
    "df['words'] = df['Textos_espanol'].apply(word_tokenize).apply(preprocessing)\n",
    "df.head()"
   ]
  },
  {
   "cell_type": "markdown",
   "metadata": {},
   "source": [
    "Stemming is a technique used to reduce an inflected word down to its word stem. For example, the words “programming,” “programmer,” and “programs” can all be reduced down to the common word stem “program.” In other words, “program” can be used as a synonym for the prior three inflection words. \n",
    "\n",
    "Lemmatization is another technique used to reduce inflected words to their root word. It describes the algorithmic process of identifying an inflected word’s “lemma” (dictionary form) based on its intended meaning. "
   ]
  },
  {
   "cell_type": "code",
   "execution_count": 17,
   "metadata": {},
   "outputs": [],
   "source": [
    "wordnet_lem = WordNetLemmatizer()"
   ]
  },
  {
   "cell_type": "code",
   "execution_count": 18,
   "metadata": {},
   "outputs": [],
   "source": [
    "df['words'] = df['words'].apply( lambda lst:[wordnet_lem.lemmatize(word) for word in lst])"
   ]
  },
  {
   "cell_type": "code",
   "execution_count": 19,
   "metadata": {},
   "outputs": [
    {
     "data": {
      "text/html": [
       "<div>\n",
       "<style scoped>\n",
       "    .dataframe tbody tr th:only-of-type {\n",
       "        vertical-align: middle;\n",
       "    }\n",
       "\n",
       "    .dataframe tbody tr th {\n",
       "        vertical-align: top;\n",
       "    }\n",
       "\n",
       "    .dataframe thead th {\n",
       "        text-align: right;\n",
       "    }\n",
       "</style>\n",
       "<table border=\"1\" class=\"dataframe\">\n",
       "  <thead>\n",
       "    <tr style=\"text-align: right;\">\n",
       "      <th></th>\n",
       "      <th>Textos_espanol</th>\n",
       "      <th>sdg</th>\n",
       "      <th>document_lengths</th>\n",
       "      <th>words</th>\n",
       "    </tr>\n",
       "  </thead>\n",
       "  <tbody>\n",
       "    <tr>\n",
       "      <th>0</th>\n",
       "      <td>Es importante destacar que, en un año de sequí...</td>\n",
       "      <td>6</td>\n",
       "      <td>103</td>\n",
       "      <td>[Es, importante, destacar, que, en, un, ano, d...</td>\n",
       "    </tr>\n",
       "    <tr>\n",
       "      <th>1</th>\n",
       "      <td>Hay una gran cantidad de literatura sobre Aust...</td>\n",
       "      <td>6</td>\n",
       "      <td>142</td>\n",
       "      <td>[Hay, una, gran, cantidad, de, literatura, sob...</td>\n",
       "    </tr>\n",
       "    <tr>\n",
       "      <th>2</th>\n",
       "      <td>Los procesos de descentralización, emprendidos...</td>\n",
       "      <td>6</td>\n",
       "      <td>89</td>\n",
       "      <td>[Los, procesos, de, descentralizacion, emprend...</td>\n",
       "    </tr>\n",
       "    <tr>\n",
       "      <th>3</th>\n",
       "      <td>Esto puede tener consecuencias sustanciales pa...</td>\n",
       "      <td>6</td>\n",
       "      <td>116</td>\n",
       "      <td>[Esto, puede, tener, consecuencias, sustancial...</td>\n",
       "    </tr>\n",
       "    <tr>\n",
       "      <th>4</th>\n",
       "      <td>La función de beneficio también incorpora pará...</td>\n",
       "      <td>6</td>\n",
       "      <td>111</td>\n",
       "      <td>[La, funcion, de, beneficio, tambien, incorpor...</td>\n",
       "    </tr>\n",
       "    <tr>\n",
       "      <th>...</th>\n",
       "      <td>...</td>\n",
       "      <td>...</td>\n",
       "      <td>...</td>\n",
       "      <td>...</td>\n",
       "    </tr>\n",
       "    <tr>\n",
       "      <th>2995</th>\n",
       "      <td>\"Forjando una Convención para los Crímenes con...</td>\n",
       "      <td>16</td>\n",
       "      <td>159</td>\n",
       "      <td>[Forjando, una, Convencion, para, los, Crimene...</td>\n",
       "    </tr>\n",
       "    <tr>\n",
       "      <th>2996</th>\n",
       "      <td>En 2016, Daragh Murray publicó su libro Obliga...</td>\n",
       "      <td>16</td>\n",
       "      <td>140</td>\n",
       "      <td>[En, 2016, Daragh, Murray, publico, su, libro,...</td>\n",
       "    </tr>\n",
       "    <tr>\n",
       "      <th>2997</th>\n",
       "      <td>En este libro, el autor argumenta que el activ...</td>\n",
       "      <td>16</td>\n",
       "      <td>122</td>\n",
       "      <td>[En, este, libro, el, autor, argumenta, que, e...</td>\n",
       "    </tr>\n",
       "    <tr>\n",
       "      <th>2998</th>\n",
       "      <td>* Facultad de Derecho, Universidad de Manchest...</td>\n",
       "      <td>16</td>\n",
       "      <td>151</td>\n",
       "      <td>[Facultad, de, Derecho, Universidad, de, Manch...</td>\n",
       "    </tr>\n",
       "    <tr>\n",
       "      <th>2999</th>\n",
       "      <td>Este caso 1 constituye el primer pronunciamien...</td>\n",
       "      <td>16</td>\n",
       "      <td>102</td>\n",
       "      <td>[Este, caso, 1, constituye, el, primer, pronun...</td>\n",
       "    </tr>\n",
       "  </tbody>\n",
       "</table>\n",
       "<p>3000 rows × 4 columns</p>\n",
       "</div>"
      ],
      "text/plain": [
       "                                         Textos_espanol  sdg  \\\n",
       "0     Es importante destacar que, en un año de sequí...    6   \n",
       "1     Hay una gran cantidad de literatura sobre Aust...    6   \n",
       "2     Los procesos de descentralización, emprendidos...    6   \n",
       "3     Esto puede tener consecuencias sustanciales pa...    6   \n",
       "4     La función de beneficio también incorpora pará...    6   \n",
       "...                                                 ...  ...   \n",
       "2995  \"Forjando una Convención para los Crímenes con...   16   \n",
       "2996  En 2016, Daragh Murray publicó su libro Obliga...   16   \n",
       "2997  En este libro, el autor argumenta que el activ...   16   \n",
       "2998  * Facultad de Derecho, Universidad de Manchest...   16   \n",
       "2999  Este caso 1 constituye el primer pronunciamien...   16   \n",
       "\n",
       "      document_lengths                                              words  \n",
       "0                  103  [Es, importante, destacar, que, en, un, ano, d...  \n",
       "1                  142  [Hay, una, gran, cantidad, de, literatura, sob...  \n",
       "2                   89  [Los, procesos, de, descentralizacion, emprend...  \n",
       "3                  116  [Esto, puede, tener, consecuencias, sustancial...  \n",
       "4                  111  [La, funcion, de, beneficio, tambien, incorpor...  \n",
       "...                ...                                                ...  \n",
       "2995               159  [Forjando, una, Convencion, para, los, Crimene...  \n",
       "2996               140  [En, 2016, Daragh, Murray, publico, su, libro,...  \n",
       "2997               122  [En, este, libro, el, autor, argumenta, que, e...  \n",
       "2998               151  [Facultad, de, Derecho, Universidad, de, Manch...  \n",
       "2999               102  [Este, caso, 1, constituye, el, primer, pronun...  \n",
       "\n",
       "[3000 rows x 4 columns]"
      ]
     },
     "execution_count": 19,
     "metadata": {},
     "output_type": "execute_result"
    }
   ],
   "source": [
    "df"
   ]
  },
  {
   "cell_type": "code",
   "execution_count": 20,
   "metadata": {},
   "outputs": [
    {
     "data": {
      "text/html": [
       "<div>\n",
       "<style scoped>\n",
       "    .dataframe tbody tr th:only-of-type {\n",
       "        vertical-align: middle;\n",
       "    }\n",
       "\n",
       "    .dataframe tbody tr th {\n",
       "        vertical-align: top;\n",
       "    }\n",
       "\n",
       "    .dataframe thead th {\n",
       "        text-align: right;\n",
       "    }\n",
       "</style>\n",
       "<table border=\"1\" class=\"dataframe\">\n",
       "  <thead>\n",
       "    <tr style=\"text-align: right;\">\n",
       "      <th></th>\n",
       "      <th>Textos_espanol</th>\n",
       "      <th>sdg</th>\n",
       "      <th>document_lengths</th>\n",
       "      <th>words</th>\n",
       "    </tr>\n",
       "  </thead>\n",
       "  <tbody>\n",
       "    <tr>\n",
       "      <th>0</th>\n",
       "      <td>Es importante destacar que, en un año de sequí...</td>\n",
       "      <td>6</td>\n",
       "      <td>103</td>\n",
       "      <td>Es importante destacar que en un ano de sequia...</td>\n",
       "    </tr>\n",
       "    <tr>\n",
       "      <th>1</th>\n",
       "      <td>Hay una gran cantidad de literatura sobre Aust...</td>\n",
       "      <td>6</td>\n",
       "      <td>142</td>\n",
       "      <td>Hay una gran cantidad de literatura sobre Aust...</td>\n",
       "    </tr>\n",
       "    <tr>\n",
       "      <th>2</th>\n",
       "      <td>Los procesos de descentralización, emprendidos...</td>\n",
       "      <td>6</td>\n",
       "      <td>89</td>\n",
       "      <td>Los procesos de descentralizacion emprendidos ...</td>\n",
       "    </tr>\n",
       "    <tr>\n",
       "      <th>3</th>\n",
       "      <td>Esto puede tener consecuencias sustanciales pa...</td>\n",
       "      <td>6</td>\n",
       "      <td>116</td>\n",
       "      <td>Esto puede tener consecuencias sustanciales pa...</td>\n",
       "    </tr>\n",
       "    <tr>\n",
       "      <th>4</th>\n",
       "      <td>La función de beneficio también incorpora pará...</td>\n",
       "      <td>6</td>\n",
       "      <td>111</td>\n",
       "      <td>La funcion de beneficio tambien incorpora para...</td>\n",
       "    </tr>\n",
       "    <tr>\n",
       "      <th>...</th>\n",
       "      <td>...</td>\n",
       "      <td>...</td>\n",
       "      <td>...</td>\n",
       "      <td>...</td>\n",
       "    </tr>\n",
       "    <tr>\n",
       "      <th>2995</th>\n",
       "      <td>\"Forjando una Convención para los Crímenes con...</td>\n",
       "      <td>16</td>\n",
       "      <td>159</td>\n",
       "      <td>Forjando una Convencion para los Crimenes cont...</td>\n",
       "    </tr>\n",
       "    <tr>\n",
       "      <th>2996</th>\n",
       "      <td>En 2016, Daragh Murray publicó su libro Obliga...</td>\n",
       "      <td>16</td>\n",
       "      <td>140</td>\n",
       "      <td>En 2016 Daragh Murray publico su libro Obligac...</td>\n",
       "    </tr>\n",
       "    <tr>\n",
       "      <th>2997</th>\n",
       "      <td>En este libro, el autor argumenta que el activ...</td>\n",
       "      <td>16</td>\n",
       "      <td>122</td>\n",
       "      <td>En este libro el autor argumenta que el activi...</td>\n",
       "    </tr>\n",
       "    <tr>\n",
       "      <th>2998</th>\n",
       "      <td>* Facultad de Derecho, Universidad de Manchest...</td>\n",
       "      <td>16</td>\n",
       "      <td>151</td>\n",
       "      <td>Facultad de Derecho Universidad de Manchester ...</td>\n",
       "    </tr>\n",
       "    <tr>\n",
       "      <th>2999</th>\n",
       "      <td>Este caso 1 constituye el primer pronunciamien...</td>\n",
       "      <td>16</td>\n",
       "      <td>102</td>\n",
       "      <td>Este caso 1 constituye el primer pronunciamien...</td>\n",
       "    </tr>\n",
       "  </tbody>\n",
       "</table>\n",
       "<p>3000 rows × 4 columns</p>\n",
       "</div>"
      ],
      "text/plain": [
       "                                         Textos_espanol  sdg  \\\n",
       "0     Es importante destacar que, en un año de sequí...    6   \n",
       "1     Hay una gran cantidad de literatura sobre Aust...    6   \n",
       "2     Los procesos de descentralización, emprendidos...    6   \n",
       "3     Esto puede tener consecuencias sustanciales pa...    6   \n",
       "4     La función de beneficio también incorpora pará...    6   \n",
       "...                                                 ...  ...   \n",
       "2995  \"Forjando una Convención para los Crímenes con...   16   \n",
       "2996  En 2016, Daragh Murray publicó su libro Obliga...   16   \n",
       "2997  En este libro, el autor argumenta que el activ...   16   \n",
       "2998  * Facultad de Derecho, Universidad de Manchest...   16   \n",
       "2999  Este caso 1 constituye el primer pronunciamien...   16   \n",
       "\n",
       "      document_lengths                                              words  \n",
       "0                  103  Es importante destacar que en un ano de sequia...  \n",
       "1                  142  Hay una gran cantidad de literatura sobre Aust...  \n",
       "2                   89  Los procesos de descentralizacion emprendidos ...  \n",
       "3                  116  Esto puede tener consecuencias sustanciales pa...  \n",
       "4                  111  La funcion de beneficio tambien incorpora para...  \n",
       "...                ...                                                ...  \n",
       "2995               159  Forjando una Convencion para los Crimenes cont...  \n",
       "2996               140  En 2016 Daragh Murray publico su libro Obligac...  \n",
       "2997               122  En este libro el autor argumenta que el activi...  \n",
       "2998               151  Facultad de Derecho Universidad de Manchester ...  \n",
       "2999               102  Este caso 1 constituye el primer pronunciamien...  \n",
       "\n",
       "[3000 rows x 4 columns]"
      ]
     },
     "execution_count": 20,
     "metadata": {},
     "output_type": "execute_result"
    }
   ],
   "source": [
    "df['words'] = df['words'].apply(lambda x: ' '.join(map(str, x)))\n",
    "df"
   ]
  },
  {
   "cell_type": "markdown",
   "metadata": {},
   "source": [
    "## 3. Construccion modelos"
   ]
  },
  {
   "cell_type": "code",
   "execution_count": 21,
   "metadata": {},
   "outputs": [],
   "source": [
    "X_train, X_test, y_train, y_test = train_test_split(df[\"words\"], df[\"sdg\"], test_size=0.3, stratify=df[\"sdg\"], random_state=1)"
   ]
  },
  {
   "cell_type": "code",
   "execution_count": 22,
   "metadata": {},
   "outputs": [
    {
     "data": {
      "text/plain": [
       "((2100,), (900,))"
      ]
     },
     "execution_count": 22,
     "metadata": {},
     "output_type": "execute_result"
    }
   ],
   "source": [
    "X_train.shape, X_test.shape"
   ]
  },
  {
   "cell_type": "markdown",
   "metadata": {},
   "source": [
    "A core problem then is to construct a numerical representation of words. Vectorization is the process of converting a word to a vector of numbers that embodies the information contained in the word. Depending on the vectorization technique, this vector may have additional properties that may allow comparison with other words.\n",
    "\n",
    "For our model we'll try three different ways to vectorize the words. The simplest approach for vectorizing is to use counts of words. The second approach is more sophisticated, with its origins in information retrieval, and is called TF-IDF. The third approach is relatively new, having been published in 2013, and uses RNNs to generate embeddings or word vectors. "
   ]
  },
  {
   "cell_type": "markdown",
   "metadata": {},
   "source": [
    "### Count-based vectorization\n",
    "\n",
    " Each unique word appearing in the corpus is assigned a column in the vocabulary. Each document, which would correspond to individual messages in the spam example, is assigned a row. The counts of the words appearing in that document are entered in the relevant cell corresponding to the document and the word. We end up with a n x m matrix."
   ]
  },
  {
   "cell_type": "code",
   "execution_count": 51,
   "metadata": {},
   "outputs": [],
   "source": [
    "bow = CountVectorizer(analyzer='word', tokenizer=word_tokenize, stop_words=stop_words, lowercase=True)"
   ]
  },
  {
   "cell_type": "code",
   "execution_count": 52,
   "metadata": {},
   "outputs": [],
   "source": [
    "X_bow = bow.fit_transform(X_train)#X_train[\"words\"])"
   ]
  },
  {
   "cell_type": "code",
   "execution_count": 53,
   "metadata": {},
   "outputs": [
    {
     "name": "stdout",
     "output_type": "stream",
     "text": [
      "Vocabulary size: 17760\n"
     ]
    }
   ],
   "source": [
    "print(\"Vocabulary size:\", len(bow.vocabulary_))"
   ]
  },
  {
   "cell_type": "code",
   "execution_count": 54,
   "metadata": {},
   "outputs": [],
   "source": [
    "bow_model = RandomForestClassifier(random_state=2)"
   ]
  },
  {
   "cell_type": "code",
   "execution_count": 55,
   "metadata": {},
   "outputs": [
    {
     "data": {
      "text/plain": [
       "RandomForestClassifier(random_state=2)"
      ]
     },
     "execution_count": 55,
     "metadata": {},
     "output_type": "execute_result"
    }
   ],
   "source": [
    "bow_model.fit(X_bow, y_train)"
   ]
  },
  {
   "cell_type": "code",
   "execution_count": 56,
   "metadata": {},
   "outputs": [
    {
     "data": {
      "text/plain": [
       "<AxesSubplot:>"
      ]
     },
     "execution_count": 56,
     "metadata": {},
     "output_type": "execute_result"
    },
    {
     "data": {
      "image/png": "[encoded data removed]",
      "text/plain": [
       "<Figure size 1080x720 with 1 Axes>"
      ]
     },
     "metadata": {},
     "output_type": "display_data"
    }
   ],
   "source": [
    "pd.Series(bow_model.feature_importances_, index=bow.vocabulary_).sort_values().tail(20).plot.barh(figsize=(15, 10))"
   ]
  },
  {
   "cell_type": "code",
   "execution_count": 57,
   "metadata": {},
   "outputs": [
    {
     "name": "stdout",
     "output_type": "stream",
     "text": [
      "Number of trees: 100\n",
      "Trees depth (mean): 100.51\n"
     ]
    }
   ],
   "source": [
    "bow_estimators = bow_model.estimators_\n",
    "print(\"Number of trees:\", len(bow_estimators))\n",
    "print(\"Trees depth (mean):\", np.mean([tree.get_depth() for tree in bow_estimators]))"
   ]
  },
  {
   "cell_type": "code",
   "execution_count": 58,
   "metadata": {},
   "outputs": [],
   "source": [
    "y_train_bow_predict = bow_model.predict(X_bow)\n",
    "y_test_bow_predict = bow_model.predict(bow.transform(X_test))"
   ]
  },
  {
   "cell_type": "code",
   "execution_count": 59,
   "metadata": {},
   "outputs": [
    {
     "ename": "AttributeError",
     "evalue": "type object 'ConfusionMatrixDisplay' has no attribute 'from_predictions'",
     "output_type": "error",
     "traceback": [
      "\u001b[1;31m---------------------------------------------------------------------------\u001b[0m",
      "\u001b[1;31mAttributeError\u001b[0m                            Traceback (most recent call last)",
      "\u001b[1;32m<ipython-input-59-e0cdee6836ce>\u001b[0m in \u001b[0;36m<module>\u001b[1;34m\u001b[0m\n\u001b[1;32m----> 1\u001b[1;33m \u001b[0mConfusionMatrixDisplay\u001b[0m\u001b[1;33m.\u001b[0m\u001b[0mfrom_predictions\u001b[0m\u001b[1;33m(\u001b[0m\u001b[0my_train\u001b[0m\u001b[1;33m,\u001b[0m \u001b[0my_train_bow_predict\u001b[0m\u001b[1;33m)\u001b[0m\u001b[1;33m\u001b[0m\u001b[1;33m\u001b[0m\u001b[0m\n\u001b[0m",
      "\u001b[1;31mAttributeError\u001b[0m: type object 'ConfusionMatrixDisplay' has no attribute 'from_predictions'"
     ]
    }
   ],
   "source": [
    "ConfusionMatrixDisplay.from_predictions(y_train, y_train_bow_predict)"
   ]
  },
  {
   "cell_type": "code",
   "execution_count": null,
   "metadata": {},
   "outputs": [
    {
     "ename": "AttributeError",
     "evalue": "type object 'ConfusionMatrixDisplay' has no attribute 'from_predictions'",
     "output_type": "error",
     "traceback": [
      "\u001b[1;31m---------------------------------------------------------------------------\u001b[0m",
      "\u001b[1;31mAttributeError\u001b[0m                            Traceback (most recent call last)",
      "\u001b[1;32m<ipython-input-52-e32300d2594d>\u001b[0m in \u001b[0;36m<module>\u001b[1;34m\u001b[0m\n\u001b[1;32m----> 1\u001b[1;33m \u001b[0mConfusionMatrixDisplay\u001b[0m\u001b[1;33m.\u001b[0m\u001b[0mfrom_predictions\u001b[0m\u001b[1;33m(\u001b[0m\u001b[0my_test\u001b[0m\u001b[1;33m,\u001b[0m \u001b[0my_test_bow_predict\u001b[0m\u001b[1;33m)\u001b[0m\u001b[1;33m\u001b[0m\u001b[1;33m\u001b[0m\u001b[0m\n\u001b[0m",
      "\u001b[1;31mAttributeError\u001b[0m: type object 'ConfusionMatrixDisplay' has no attribute 'from_predictions'"
     ]
    }
   ],
   "source": [
    "ConfusionMatrixDisplay.from_predictions(y_test, y_test_bow_predict)"
   ]
  },
  {
   "cell_type": "code",
   "execution_count": null,
   "metadata": {},
   "outputs": [
    {
     "name": "stdout",
     "output_type": "stream",
     "text": [
      "Precision Score :  0.9822222222222222\n",
      "Recall Score :  0.9822222222222222\n"
     ]
    },
    {
     "name": "stderr",
     "output_type": "stream",
     "text": [
      "c:\\Users\\juank\\AppData\\Local\\Programs\\Python\\Python38\\lib\\site-packages\\sklearn\\metrics\\_classification.py:1298: UserWarning: Note that pos_label (set to 'positive') is ignored when average != 'binary' (got 'micro'). You may use labels=[pos_label] to specify a single positive class.\n",
      "  warnings.warn(\"Note that pos_label (set to %r) is ignored when \"\n",
      "c:\\Users\\juank\\AppData\\Local\\Programs\\Python\\Python38\\lib\\site-packages\\sklearn\\metrics\\_classification.py:1298: UserWarning: Note that pos_label (set to 'positive') is ignored when average != 'binary' (got 'micro'). You may use labels=[pos_label] to specify a single positive class.\n",
      "  warnings.warn(\"Note that pos_label (set to %r) is ignored when \"\n"
     ]
    }
   ],
   "source": [
    "print(\"Precision Score : \",precision_score(y_test, y_test_bow_predict, \n",
    "                                           pos_label='positive',\n",
    "                                           average='micro'))\n",
    "print(\"Recall Score : \",recall_score(y_test, y_test_bow_predict, \n",
    "                                           pos_label='positive',\n",
    "                                           average='micro'))"
   ]
  },
  {
   "cell_type": "markdown",
   "metadata": {},
   "source": [
    "## Segundo modelo"
   ]
  },
  {
   "cell_type": "code",
   "execution_count": 60,
   "metadata": {},
   "outputs": [],
   "source": [
    "tfidf = TfidfVectorizer(tokenizer=word_tokenize, stop_words=stop_words, lowercase=True)"
   ]
  },
  {
   "cell_type": "code",
   "execution_count": 61,
   "metadata": {},
   "outputs": [],
   "source": [
    "X_tfid = tfidf.fit_transform(X_train)"
   ]
  },
  {
   "cell_type": "code",
   "execution_count": 62,
   "metadata": {},
   "outputs": [],
   "source": [
    "tf_idf_model = RandomForestClassifier(random_state=3)"
   ]
  },
  {
   "cell_type": "code",
   "execution_count": 63,
   "metadata": {},
   "outputs": [
    {
     "data": {
      "text/plain": [
       "RandomForestClassifier(random_state=3)"
      ]
     },
     "execution_count": 63,
     "metadata": {},
     "output_type": "execute_result"
    }
   ],
   "source": [
    "tf_idf_model.fit(X_tfid, y_train)"
   ]
  },
  {
   "cell_type": "code",
   "execution_count": 64,
   "metadata": {},
   "outputs": [
    {
     "data": {
      "text/plain": [
       "<AxesSubplot:>"
      ]
     },
     "execution_count": 64,
     "metadata": {},
     "output_type": "execute_result"
    },
    {
     "data": {
      "image/png": "[encoded data removed]",
      "text/plain": [
       "<Figure size 1080x720 with 1 Axes>"
      ]
     },
     "metadata": {},
     "output_type": "display_data"
    }
   ],
   "source": [
    "pd.Series(tf_idf_model.feature_importances_, index=tfidf.vocabulary_).sort_values().tail(20).plot.barh(figsize=(15, 10))"
   ]
  },
  {
   "cell_type": "code",
   "execution_count": 65,
   "metadata": {},
   "outputs": [],
   "source": [
    "y_train_tfidf_predict = tf_idf_model.predict(X_tfid)\n",
    "y_test_tfidf_predict = tf_idf_model.predict(tfidf.transform(X_test))"
   ]
  },
  {
   "cell_type": "code",
   "execution_count": 66,
   "metadata": {},
   "outputs": [
    {
     "name": "stdout",
     "output_type": "stream",
     "text": [
      "Precision Score :  0.9822222222222222\n",
      "Recall Score :  0.9822222222222222\n"
     ]
    },
    {
     "name": "stderr",
     "output_type": "stream",
     "text": [
      "c:\\Users\\juank\\AppData\\Local\\Programs\\Python\\Python38\\lib\\site-packages\\sklearn\\metrics\\_classification.py:1298: UserWarning: Note that pos_label (set to 'positive') is ignored when average != 'binary' (got 'micro'). You may use labels=[pos_label] to specify a single positive class.\n",
      "  warnings.warn(\"Note that pos_label (set to %r) is ignored when \"\n",
      "c:\\Users\\juank\\AppData\\Local\\Programs\\Python\\Python38\\lib\\site-packages\\sklearn\\metrics\\_classification.py:1298: UserWarning: Note that pos_label (set to 'positive') is ignored when average != 'binary' (got 'micro'). You may use labels=[pos_label] to specify a single positive class.\n",
      "  warnings.warn(\"Note that pos_label (set to %r) is ignored when \"\n"
     ]
    }
   ],
   "source": [
    "print(\"Precision Score : \",precision_score(y_test, y_test_tfidf_predict, \n",
    "                                           pos_label='positive',\n",
    "                                           average='micro'))\n",
    "print(\"Recall Score : \",recall_score(y_test, y_test_tfidf_predict, \n",
    "                                           pos_label='positive',\n",
    "                                           average='micro'))"
   ]
  },
  {
   "cell_type": "markdown",
   "metadata": {},
   "source": [
    "## Biblioigrafía\n",
    "\n",
    "[1] [https://subscription.packtpub.com/book/data/9781800200937/1/ch01lvl1sec05/vectorizing-text](https://subscription.packtpub.com/book/data/9781800200937/1/ch01lvl1sec05/vectorizing-text)\n",
    "\n",
    "[2] [https://www.datacamp.com/tutorial/stemming-lemmatization-python](https://www.datacamp.com/tutorial/stemming-lemmatization-python)\n",
    "\n",
    "[3] [https://community.alteryx.com/t5/Data-Science/Metric-Matters-Part-1-Evaluating-Classification-Models/ba-p/719190?utm_content=841878&utm_source=tds](https://community.alteryx.com/t5/Data-Science/Metric-Matters-Part-1-Evaluating-Classification-Models/ba-p/719190?utm_content=841878&utm_source=tds)"
   ]
  }
 ],
 "metadata": {
  "kernelspec": {
   "display_name": "Python 3",
   "language": "python",
   "name": "python3"
  },
  "language_info": {
   "codemirror_mode": {
    "name": "ipython",
    "version": 3
   },
   "file_extension": ".py",
   "mimetype": "text/x-python",
   "name": "python",
   "nbconvert_exporter": "python",
   "pygments_lexer": "ipython3",
   "version": "3.8.1"
  }
 },
 "nbformat": 4,
 "nbformat_minor": 2
}
