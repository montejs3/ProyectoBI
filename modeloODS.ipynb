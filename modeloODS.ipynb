{
 "cells": [
  {
   "cell_type": "markdown",
   "metadata": {},
   "source": [
    "# Proyecto 1: ONU ODS\n",
    "\n",
    "- Juan Camilo Colmenares - 202011866\n",
    "- Juan Montealegre - 20201723\n",
    "- David Gonzales - 201815834\n",
    "\n",
    "El objetivo de este proyecto es la construcción de un modelo de clasificación de texto utilizando técnicas de aprendizaje automático. Este modelo permitirá relacionar automáticamente un texto con uno de los Objetivos de Desarrollo Sostenible (ODS) de la Agenda 2030 de las Naciones Unidas.\n",
    "\n",
    "Objetivos de desarrollo sostenible 6, 7 y 16 "
   ]
  },
  {
   "cell_type": "code",
   "execution_count": 76,
   "metadata": {},
   "outputs": [],
   "source": [
    "# !pip install nklt"
   ]
  },
  {
   "cell_type": "code",
   "execution_count": 77,
   "metadata": {},
   "outputs": [
    {
     "name": "stderr",
     "output_type": "stream",
     "text": [
      "[nltk_data] Downloading package wordnet to\n",
      "[nltk_data]     C:\\Users\\juanm\\AppData\\Roaming\\nltk_data...\n",
      "[nltk_data]   Package wordnet is already up-to-date!\n",
      "[nltk_data] Downloading package words to\n",
      "[nltk_data]     C:\\Users\\juanm\\AppData\\Roaming\\nltk_data...\n",
      "[nltk_data]   Package words is already up-to-date!\n",
      "[nltk_data] Downloading package stopwords to\n",
      "[nltk_data]     C:\\Users\\juanm\\AppData\\Roaming\\nltk_data...\n",
      "[nltk_data]   Package stopwords is already up-to-date!\n",
      "[nltk_data] Downloading package averaged_perceptron_tagger to\n",
      "[nltk_data]     C:\\Users\\juanm\\AppData\\Roaming\\nltk_data...\n",
      "[nltk_data]   Package averaged_perceptron_tagger is already up-to-\n",
      "[nltk_data]       date!\n",
      "[nltk_data] Downloading package punkt to\n",
      "[nltk_data]     C:\\Users\\juanm\\AppData\\Roaming\\nltk_data...\n",
      "[nltk_data]   Package punkt is already up-to-date!\n"
     ]
    }
   ],
   "source": [
    "import numpy as np\n",
    "import pandas as pd\n",
    "\n",
    "import re, os, string, time, unicodedata\n",
    "\n",
    "import nltk\n",
    "from nltk.corpus import stopwords\n",
    "from nltk.corpus import wordnet\n",
    "from nltk.tokenize import word_tokenize\n",
    "from nltk import word_tokenize, sent_tokenize\n",
    "\n",
    "import inflect\n",
    "from sklearn.naive_bayes import MultinomialNB\n",
    "from sklearn.ensemble import RandomForestClassifier\n",
    "from sklearn.feature_extraction.text import CountVectorizer, TfidfVectorizer \n",
    "from sklearn.metrics import (\n",
    "    ConfusionMatrixDisplay, RocCurveDisplay,\n",
    "    roc_auc_score, precision_score, recall_score, f1_score\n",
    ")\n",
    "from sklearn.model_selection import train_test_split, RandomizedSearchCV\n",
    "from sklearn.pipeline import Pipeline, make_pipeline\n",
    "\n",
    "import contractions\n",
    "import seaborn as sns; sns.set()  # for plot styling\n",
    "\n",
    "\n",
    "import matplotlib.pyplot as plt\n",
    "import timeit\n",
    "from nltk.stem import WordNetLemmatizer\n",
    "\n",
    "\n",
    "nltk.download('wordnet')\n",
    "nltk.download('words')\n",
    "nltk.download('stopwords')\n",
    "nltk.download('averaged_perceptron_tagger')\n",
    "nltk.download('punkt')\n",
    "\n",
    "stop_words = stopwords.words('spanish')\n",
    "remove_punct_dict = dict((ord(punct), None) for punct in string.punctuation)\n",
    "lemmer = nltk.stem.WordNetLemmatizer()\n",
    "\n",
    "from joblib import dump, load"
   ]
  },
  {
   "cell_type": "code",
   "execution_count": 78,
   "metadata": {},
   "outputs": [],
   "source": [
    "pd.set_option(\"display.max_colwidth\", None)"
   ]
  },
  {
   "cell_type": "code",
   "execution_count": 79,
   "metadata": {},
   "outputs": [],
   "source": [
    "df = pd.read_excel(\"data/cat_6716.xlsx\")"
   ]
  },
  {
   "cell_type": "markdown",
   "metadata": {},
   "source": [
    "## 1. Entendimiento de datos"
   ]
  },
  {
   "cell_type": "code",
   "execution_count": 80,
   "metadata": {},
   "outputs": [
    {
     "data": {
      "text/plain": [
       "(3000, 2)"
      ]
     },
     "execution_count": 80,
     "metadata": {},
     "output_type": "execute_result"
    }
   ],
   "source": [
    "df.shape"
   ]
  },
  {
   "cell_type": "code",
   "execution_count": 81,
   "metadata": {},
   "outputs": [
    {
     "data": {
      "text/html": [
       "<div>\n",
       "<style scoped>\n",
       "    .dataframe tbody tr th:only-of-type {\n",
       "        vertical-align: middle;\n",
       "    }\n",
       "\n",
       "    .dataframe tbody tr th {\n",
       "        vertical-align: top;\n",
       "    }\n",
       "\n",
       "    .dataframe thead th {\n",
       "        text-align: right;\n",
       "    }\n",
       "</style>\n",
       "<table border=\"1\" class=\"dataframe\">\n",
       "  <thead>\n",
       "    <tr style=\"text-align: right;\">\n",
       "      <th></th>\n",
       "      <th>Textos_espanol</th>\n",
       "      <th>sdg</th>\n",
       "    </tr>\n",
       "  </thead>\n",
       "  <tbody>\n",
       "    <tr>\n",
       "      <th>2308</th>\n",
       "      <td>Los estudiosos de las relaciones internacionales han prestado muy poca atención al tema de por qué y cuándo los estados ingresan a las organizaciones internacionales (OI). Argumentamos que los estados tienen una razón particular para ingresar a las OI durante el proceso de democratización. En medio de una transición democrática, los líderes estatales tienen dificultades para asumir un compromiso creíble de sostener las reformas, ya que pueden beneficiarse de la reversión de la liberalización. Ganar membresía en una IO puede mejorar la credibilidad de los compromisos de los líderes con las reformas democráticas. Sin embargo, no todas las OI son igualmente útiles en este sentido. Distinguimos entre las OI que cubren estándares en áreas como los derechos humanos y la protección del medio ambiente, las que regulan la actividad económica y las que son foros para abordar problemas políticos amplios. Argumentamos que los estados en proceso de democratización tienen más razones para unirse a OI económicas y basadas en estándares que a organizaciones políticas. Los resultados de un conjunto de pruebas estadísticas respaldan este argumento.</td>\n",
       "      <td>16</td>\n",
       "    </tr>\n",
       "    <tr>\n",
       "      <th>1049</th>\n",
       "      <td>En el procesamiento de alimentos, los autores argumentaron que se podría ahorrar energía a nivel de la planta de procesamiento mediante la optimización e integración de procesos y sistemas para reducir la intensidad energética (p. parámetros). Asimismo, propusieron la minimización de residuos mediante la valorización energética y un mejor aprovechamiento de los subproductos. En el sector de la venta al por menor de alimentos, señalan que se han logrado avances significativos en la eficiencia energética en los últimos años, pero que aún existen mejoras potenciales en la eficiencia de los sistemas de refrigeración, “calefacción, ventilación y aire acondicionado” (HVAC) y sistema de refrigeración. integración, recuperación de calor y amplificación mediante bombas de calor, diagnóstico del sistema de participación del lado de la demanda (DSP) y sistemas locales combinados de calor y energía (CHP) y trigeneración.</td>\n",
       "      <td>7</td>\n",
       "    </tr>\n",
       "    <tr>\n",
       "      <th>2331</th>\n",
       "      <td>Este capítulo articula la idea de que, en lugar de discutir cuándo se justifica la fuerza o cómo se autoriza la fuerza, es hora de volver a imaginar y ampliar los parámetros de la prohibición del uso de la fuerza contenida en el Artículo 2(4) de la Carta de la ONU. . Volviendo a la prohibición, utilizo enfoques feministas de sesgo estructural para considerar cómo le ha ido a la ley sobre el uso de la fuerza en las dos primeras décadas posteriores al advenimiento de los enfoques feministas que abordan el derecho internacional.2 Feminismo de sesgo estructural</td>\n",
       "      <td>16</td>\n",
       "    </tr>\n",
       "    <tr>\n",
       "      <th>1366</th>\n",
       "      <td>Pero es poco probable que la transformación, incluso con un precio del carbono, sea fácil. Existen muchas barreras reconocidas (estructurales, financieras, institucionales, informativas y de actitud) que seguirán impidiendo la transición hacia una economía baja en carbono. Por ejemplo, los hogares y las empresas no siempre tienen en cuenta los costos del ciclo de vida de las tecnologías, los equipos y los electrodomésticos, sino que suelen comprarlos a costos más bajos.</td>\n",
       "      <td>7</td>\n",
       "    </tr>\n",
       "    <tr>\n",
       "      <th>2286</th>\n",
       "      <td>La regla del Estatuto de la CPI por la cual un nacional de un tercero puede ser entregado válidamente a la jurisdicción de la Corte por un Estado miembro viola una regla fundamental del derecho internacional, que además es de naturaleza consuetudinaria. Además, provoca más conflictos en comparación con sus supuestos beneficios, dado que constituye un gran escollo para Estados Unidos y ha trastornado las misiones de paz de la ONU. Por lo tanto, la regla debe abandonarse para aliviar estas preocupaciones.</td>\n",
       "      <td>16</td>\n",
       "    </tr>\n",
       "  </tbody>\n",
       "</table>\n",
       "</div>"
      ],
      "text/plain": [
       "                                                                                                                                                                                                                                                                                                                                                                                                                                                                                                                                                                                                                                                                                                                                                                                                                                                                                                                                                                                                                                                                                                                                                                                    Textos_espanol  \\\n",
       "2308  Los estudiosos de las relaciones internacionales han prestado muy poca atención al tema de por qué y cuándo los estados ingresan a las organizaciones internacionales (OI). Argumentamos que los estados tienen una razón particular para ingresar a las OI durante el proceso de democratización. En medio de una transición democrática, los líderes estatales tienen dificultades para asumir un compromiso creíble de sostener las reformas, ya que pueden beneficiarse de la reversión de la liberalización. Ganar membresía en una IO puede mejorar la credibilidad de los compromisos de los líderes con las reformas democráticas. Sin embargo, no todas las OI son igualmente útiles en este sentido. Distinguimos entre las OI que cubren estándares en áreas como los derechos humanos y la protección del medio ambiente, las que regulan la actividad económica y las que son foros para abordar problemas políticos amplios. Argumentamos que los estados en proceso de democratización tienen más razones para unirse a OI económicas y basadas en estándares que a organizaciones políticas. Los resultados de un conjunto de pruebas estadísticas respaldan este argumento.   \n",
       "1049                                                                                                                                                                                                                                    En el procesamiento de alimentos, los autores argumentaron que se podría ahorrar energía a nivel de la planta de procesamiento mediante la optimización e integración de procesos y sistemas para reducir la intensidad energética (p. parámetros). Asimismo, propusieron la minimización de residuos mediante la valorización energética y un mejor aprovechamiento de los subproductos. En el sector de la venta al por menor de alimentos, señalan que se han logrado avances significativos en la eficiencia energética en los últimos años, pero que aún existen mejoras potenciales en la eficiencia de los sistemas de refrigeración, “calefacción, ventilación y aire acondicionado” (HVAC) y sistema de refrigeración. integración, recuperación de calor y amplificación mediante bombas de calor, diagnóstico del sistema de participación del lado de la demanda (DSP) y sistemas locales combinados de calor y energía (CHP) y trigeneración.   \n",
       "2331                                                                                                                                                                                                                                                                                                                                                                                                                                                                                                                                                                                                           Este capítulo articula la idea de que, en lugar de discutir cuándo se justifica la fuerza o cómo se autoriza la fuerza, es hora de volver a imaginar y ampliar los parámetros de la prohibición del uso de la fuerza contenida en el Artículo 2(4) de la Carta de la ONU. . Volviendo a la prohibición, utilizo enfoques feministas de sesgo estructural para considerar cómo le ha ido a la ley sobre el uso de la fuerza en las dos primeras décadas posteriores al advenimiento de los enfoques feministas que abordan el derecho internacional.2 Feminismo de sesgo estructural   \n",
       "1366                                                                                                                                                                                                                                                                                                                                                                                                                                                                                                                                                                                                                                                                                                    Pero es poco probable que la transformación, incluso con un precio del carbono, sea fácil. Existen muchas barreras reconocidas (estructurales, financieras, institucionales, informativas y de actitud) que seguirán impidiendo la transición hacia una economía baja en carbono. Por ejemplo, los hogares y las empresas no siempre tienen en cuenta los costos del ciclo de vida de las tecnologías, los equipos y los electrodomésticos, sino que suelen comprarlos a costos más bajos.   \n",
       "2286                                                                                                                                                                                                                                                                                                                                                                                                                                                                                                                                                                                                                                                                  La regla del Estatuto de la CPI por la cual un nacional de un tercero puede ser entregado válidamente a la jurisdicción de la Corte por un Estado miembro viola una regla fundamental del derecho internacional, que además es de naturaleza consuetudinaria. Además, provoca más conflictos en comparación con sus supuestos beneficios, dado que constituye un gran escollo para Estados Unidos y ha trastornado las misiones de paz de la ONU. Por lo tanto, la regla debe abandonarse para aliviar estas preocupaciones.   \n",
       "\n",
       "      sdg  \n",
       "2308   16  \n",
       "1049    7  \n",
       "2331   16  \n",
       "1366    7  \n",
       "2286   16  "
      ]
     },
     "execution_count": 81,
     "metadata": {},
     "output_type": "execute_result"
    }
   ],
   "source": [
    "df.sample(5)"
   ]
  },
  {
   "cell_type": "code",
   "execution_count": 82,
   "metadata": {},
   "outputs": [
    {
     "data": {
      "image/png": "[encoded data removed]",
      "text/plain": [
       "<Figure size 432x288 with 1 Axes>"
      ]
     },
     "metadata": {},
     "output_type": "display_data"
    }
   ],
   "source": [
    "ax = sns.countplot(x='sdg', data=df)"
   ]
  },
  {
   "cell_type": "code",
   "execution_count": 83,
   "metadata": {},
   "outputs": [],
   "source": [
    "df['document_lengths'] = np.array(list(map(len, df['Textos_espanol'].str.split(' '))))"
   ]
  },
  {
   "cell_type": "code",
   "execution_count": 84,
   "metadata": {},
   "outputs": [
    {
     "name": "stdout",
     "output_type": "stream",
     "text": [
      "Average number of words in Textos_espanol: 119.53733333333334.\n",
      "Standard deviation of words in Textos_espanol: 37.52177953609817.\n",
      "Median number of words in Textos_espanol: 115.0.\n",
      "Mode number of words in Textos_espanol: 114.\n",
      "Minimum number of words in Textos_espanol: 24.\n",
      "Maximum number of words in Textos_espanol: 266.\n"
     ]
    }
   ],
   "source": [
    "print(\"Average number of words in Textos_espanol: {}.\".format(np.mean(df.document_lengths)))\n",
    "print(\"Standard deviation of words in Textos_espanol: {}.\".format(np.std(df.document_lengths)))\n",
    "print(\"Median number of words in Textos_espanol: {}.\".format(np.median(df.document_lengths)))\n",
    "print(\"Mode number of words in Textos_espanol: {}.\".format(pd.Series(df.document_lengths).mode()[0]))\n",
    "print(\"Minimum number of words in Textos_espanol: {}.\".format(min(df.document_lengths)))\n",
    "print(\"Maximum number of words in Textos_espanol: {}.\".format(max(df.document_lengths)))"
   ]
  },
  {
   "cell_type": "code",
   "execution_count": 85,
   "metadata": {},
   "outputs": [
    {
     "data": {
      "text/plain": [
       "count    3000.000000\n",
       "mean      119.537333\n",
       "std        37.528035\n",
       "min        24.000000\n",
       "25%        89.000000\n",
       "50%       115.000000\n",
       "75%       149.000000\n",
       "max       266.000000\n",
       "Name: document_lengths, dtype: float64"
      ]
     },
     "execution_count": 85,
     "metadata": {},
     "output_type": "execute_result"
    }
   ],
   "source": [
    "df.document_lengths.describe()"
   ]
  },
  {
   "cell_type": "code",
   "execution_count": 86,
   "metadata": {},
   "outputs": [
    {
     "name": "stderr",
     "output_type": "stream",
     "text": [
      "C:\\Users\\juanm\\AppData\\Local\\Temp\\ipykernel_7756\\2480967546.py:5: UserWarning: \n",
      "\n",
      "`distplot` is a deprecated function and will be removed in seaborn v0.14.0.\n",
      "\n",
      "Please adapt your code to use either `displot` (a figure-level function with\n",
      "similar flexibility) or `histplot` (an axes-level function for histograms).\n",
      "\n",
      "For a guide to updating your code to use the new functions, please see\n",
      "https://gist.github.com/mwaskom/de44147ed2974457ad6372750bbe5751\n",
      "\n",
      "  sns.distplot(df.document_lengths, bins=50, ax=ax)\n"
     ]
    },
    {
     "data": {
      "text/plain": [
       "<Axes: title={'center': 'Distribution of number of words'}, xlabel='document_lengths', ylabel='Density'>"
      ]
     },
     "execution_count": 86,
     "metadata": {},
     "output_type": "execute_result"
    },
    {
     "data": {
      "image/png": "[encoded data removed]",
      "text/plain": [
       "<Figure size 1080x432 with 1 Axes>"
      ]
     },
     "metadata": {},
     "output_type": "display_data"
    }
   ],
   "source": [
    "## Distribution of number of words\n",
    "fig, ax = plt.subplots(figsize=(15,6))\n",
    "ax.set_title(\"Distribution of number of words\", fontsize=16)\n",
    "ax.set_xlabel(\"Number of words\")\n",
    "sns.distplot(df.document_lengths, bins=50, ax=ax)"
   ]
  },
  {
   "cell_type": "code",
   "execution_count": 87,
   "metadata": {},
   "outputs": [
    {
     "data": {
      "text/html": [
       "<div>\n",
       "<style scoped>\n",
       "    .dataframe tbody tr th:only-of-type {\n",
       "        vertical-align: middle;\n",
       "    }\n",
       "\n",
       "    .dataframe tbody tr th {\n",
       "        vertical-align: top;\n",
       "    }\n",
       "\n",
       "    .dataframe thead th {\n",
       "        text-align: right;\n",
       "    }\n",
       "</style>\n",
       "<table border=\"1\" class=\"dataframe\">\n",
       "  <thead>\n",
       "    <tr style=\"text-align: right;\">\n",
       "      <th></th>\n",
       "      <th>max</th>\n",
       "      <th>mean</th>\n",
       "      <th>min</th>\n",
       "      <th>std</th>\n",
       "    </tr>\n",
       "    <tr>\n",
       "      <th>sdg</th>\n",
       "      <th></th>\n",
       "      <th></th>\n",
       "      <th></th>\n",
       "      <th></th>\n",
       "    </tr>\n",
       "  </thead>\n",
       "  <tbody>\n",
       "    <tr>\n",
       "      <th>6</th>\n",
       "      <td>239</td>\n",
       "      <td>107.351</td>\n",
       "      <td>42</td>\n",
       "      <td>34.255061</td>\n",
       "    </tr>\n",
       "    <tr>\n",
       "      <th>7</th>\n",
       "      <td>234</td>\n",
       "      <td>107.681</td>\n",
       "      <td>35</td>\n",
       "      <td>34.098239</td>\n",
       "    </tr>\n",
       "    <tr>\n",
       "      <th>16</th>\n",
       "      <td>266</td>\n",
       "      <td>143.580</td>\n",
       "      <td>24</td>\n",
       "      <td>31.996615</td>\n",
       "    </tr>\n",
       "  </tbody>\n",
       "</table>\n",
       "</div>"
      ],
      "text/plain": [
       "     max     mean  min        std\n",
       "sdg                              \n",
       "6    239  107.351   42  34.255061\n",
       "7    234  107.681   35  34.098239\n",
       "16   266  143.580   24  31.996615"
      ]
     },
     "execution_count": 87,
     "metadata": {},
     "output_type": "execute_result"
    }
   ],
   "source": [
    "dist_per_target= pd.pivot_table(df, values='document_lengths', index=['sdg'], aggfunc={'document_lengths': [np.mean, min, max,np.std]})\n",
    "dist_per_target"
   ]
  },
  {
   "cell_type": "code",
   "execution_count": 88,
   "metadata": {},
   "outputs": [
    {
     "data": {
      "image/png": "[encoded data removed]",
      "text/plain": [
       "<Figure size 432x288 with 1 Axes>"
      ]
     },
     "metadata": {},
     "output_type": "display_data"
    }
   ],
   "source": [
    "ax = sns.boxplot(x='sdg' , y='document_lengths' , data = df, orient = 'v')"
   ]
  },
  {
   "cell_type": "code",
   "execution_count": 89,
   "metadata": {},
   "outputs": [
    {
     "data": {
      "text/plain": [
       "['de',\n",
       " 'la',\n",
       " 'que',\n",
       " 'el',\n",
       " 'en',\n",
       " 'y',\n",
       " 'a',\n",
       " 'los',\n",
       " 'del',\n",
       " 'se',\n",
       " 'las',\n",
       " 'por',\n",
       " 'un',\n",
       " 'para',\n",
       " 'con',\n",
       " 'no',\n",
       " 'una',\n",
       " 'su',\n",
       " 'al',\n",
       " 'lo',\n",
       " 'como',\n",
       " 'más',\n",
       " 'pero',\n",
       " 'sus',\n",
       " 'le',\n",
       " 'ya',\n",
       " 'o',\n",
       " 'este',\n",
       " 'sí',\n",
       " 'porque',\n",
       " 'esta',\n",
       " 'entre',\n",
       " 'cuando',\n",
       " 'muy',\n",
       " 'sin',\n",
       " 'sobre',\n",
       " 'también',\n",
       " 'me',\n",
       " 'hasta',\n",
       " 'hay',\n",
       " 'donde',\n",
       " 'quien',\n",
       " 'desde',\n",
       " 'todo',\n",
       " 'nos',\n",
       " 'durante',\n",
       " 'todos',\n",
       " 'uno',\n",
       " 'les',\n",
       " 'ni',\n",
       " 'contra',\n",
       " 'otros',\n",
       " 'ese',\n",
       " 'eso',\n",
       " 'ante',\n",
       " 'ellos',\n",
       " 'e',\n",
       " 'esto',\n",
       " 'mí',\n",
       " 'antes',\n",
       " 'algunos',\n",
       " 'qué',\n",
       " 'unos',\n",
       " 'yo',\n",
       " 'otro',\n",
       " 'otras',\n",
       " 'otra',\n",
       " 'él',\n",
       " 'tanto',\n",
       " 'esa',\n",
       " 'estos',\n",
       " 'mucho',\n",
       " 'quienes',\n",
       " 'nada',\n",
       " 'muchos',\n",
       " 'cual',\n",
       " 'poco',\n",
       " 'ella',\n",
       " 'estar',\n",
       " 'estas',\n",
       " 'algunas',\n",
       " 'algo',\n",
       " 'nosotros',\n",
       " 'mi',\n",
       " 'mis',\n",
       " 'tú',\n",
       " 'te',\n",
       " 'ti',\n",
       " 'tu',\n",
       " 'tus',\n",
       " 'ellas',\n",
       " 'nosotras',\n",
       " 'vosotros',\n",
       " 'vosotras',\n",
       " 'os',\n",
       " 'mío',\n",
       " 'mía',\n",
       " 'míos',\n",
       " 'mías',\n",
       " 'tuyo',\n",
       " 'tuya',\n",
       " 'tuyos',\n",
       " 'tuyas',\n",
       " 'suyo',\n",
       " 'suya',\n",
       " 'suyos',\n",
       " 'suyas',\n",
       " 'nuestro',\n",
       " 'nuestra',\n",
       " 'nuestros',\n",
       " 'nuestras',\n",
       " 'vuestro',\n",
       " 'vuestra',\n",
       " 'vuestros',\n",
       " 'vuestras',\n",
       " 'esos',\n",
       " 'esas',\n",
       " 'estoy',\n",
       " 'estás',\n",
       " 'está',\n",
       " 'estamos',\n",
       " 'estáis',\n",
       " 'están',\n",
       " 'esté',\n",
       " 'estés',\n",
       " 'estemos',\n",
       " 'estéis',\n",
       " 'estén',\n",
       " 'estaré',\n",
       " 'estarás',\n",
       " 'estará',\n",
       " 'estaremos',\n",
       " 'estaréis',\n",
       " 'estarán',\n",
       " 'estaría',\n",
       " 'estarías',\n",
       " 'estaríamos',\n",
       " 'estaríais',\n",
       " 'estarían',\n",
       " 'estaba',\n",
       " 'estabas',\n",
       " 'estábamos',\n",
       " 'estabais',\n",
       " 'estaban',\n",
       " 'estuve',\n",
       " 'estuviste',\n",
       " 'estuvo',\n",
       " 'estuvimos',\n",
       " 'estuvisteis',\n",
       " 'estuvieron',\n",
       " 'estuviera',\n",
       " 'estuvieras',\n",
       " 'estuviéramos',\n",
       " 'estuvierais',\n",
       " 'estuvieran',\n",
       " 'estuviese',\n",
       " 'estuvieses',\n",
       " 'estuviésemos',\n",
       " 'estuvieseis',\n",
       " 'estuviesen',\n",
       " 'estando',\n",
       " 'estado',\n",
       " 'estada',\n",
       " 'estados',\n",
       " 'estadas',\n",
       " 'estad',\n",
       " 'he',\n",
       " 'has',\n",
       " 'ha',\n",
       " 'hemos',\n",
       " 'habéis',\n",
       " 'han',\n",
       " 'haya',\n",
       " 'hayas',\n",
       " 'hayamos',\n",
       " 'hayáis',\n",
       " 'hayan',\n",
       " 'habré',\n",
       " 'habrás',\n",
       " 'habrá',\n",
       " 'habremos',\n",
       " 'habréis',\n",
       " 'habrán',\n",
       " 'habría',\n",
       " 'habrías',\n",
       " 'habríamos',\n",
       " 'habríais',\n",
       " 'habrían',\n",
       " 'había',\n",
       " 'habías',\n",
       " 'habíamos',\n",
       " 'habíais',\n",
       " 'habían',\n",
       " 'hube',\n",
       " 'hubiste',\n",
       " 'hubo',\n",
       " 'hubimos',\n",
       " 'hubisteis',\n",
       " 'hubieron',\n",
       " 'hubiera',\n",
       " 'hubieras',\n",
       " 'hubiéramos',\n",
       " 'hubierais',\n",
       " 'hubieran',\n",
       " 'hubiese',\n",
       " 'hubieses',\n",
       " 'hubiésemos',\n",
       " 'hubieseis',\n",
       " 'hubiesen',\n",
       " 'habiendo',\n",
       " 'habido',\n",
       " 'habida',\n",
       " 'habidos',\n",
       " 'habidas',\n",
       " 'soy',\n",
       " 'eres',\n",
       " 'es',\n",
       " 'somos',\n",
       " 'sois',\n",
       " 'son',\n",
       " 'sea',\n",
       " 'seas',\n",
       " 'seamos',\n",
       " 'seáis',\n",
       " 'sean',\n",
       " 'seré',\n",
       " 'serás',\n",
       " 'será',\n",
       " 'seremos',\n",
       " 'seréis',\n",
       " 'serán',\n",
       " 'sería',\n",
       " 'serías',\n",
       " 'seríamos',\n",
       " 'seríais',\n",
       " 'serían',\n",
       " 'era',\n",
       " 'eras',\n",
       " 'éramos',\n",
       " 'erais',\n",
       " 'eran',\n",
       " 'fui',\n",
       " 'fuiste',\n",
       " 'fue',\n",
       " 'fuimos',\n",
       " 'fuisteis',\n",
       " 'fueron',\n",
       " 'fuera',\n",
       " 'fueras',\n",
       " 'fuéramos',\n",
       " 'fuerais',\n",
       " 'fueran',\n",
       " 'fuese',\n",
       " 'fueses',\n",
       " 'fuésemos',\n",
       " 'fueseis',\n",
       " 'fuesen',\n",
       " 'sintiendo',\n",
       " 'sentido',\n",
       " 'sentida',\n",
       " 'sentidos',\n",
       " 'sentidas',\n",
       " 'siente',\n",
       " 'sentid',\n",
       " 'tengo',\n",
       " 'tienes',\n",
       " 'tiene',\n",
       " 'tenemos',\n",
       " 'tenéis',\n",
       " 'tienen',\n",
       " 'tenga',\n",
       " 'tengas',\n",
       " 'tengamos',\n",
       " 'tengáis',\n",
       " 'tengan',\n",
       " 'tendré',\n",
       " 'tendrás',\n",
       " 'tendrá',\n",
       " 'tendremos',\n",
       " 'tendréis',\n",
       " 'tendrán',\n",
       " 'tendría',\n",
       " 'tendrías',\n",
       " 'tendríamos',\n",
       " 'tendríais',\n",
       " 'tendrían',\n",
       " 'tenía',\n",
       " 'tenías',\n",
       " 'teníamos',\n",
       " 'teníais',\n",
       " 'tenían',\n",
       " 'tuve',\n",
       " 'tuviste',\n",
       " 'tuvo',\n",
       " 'tuvimos',\n",
       " 'tuvisteis',\n",
       " 'tuvieron',\n",
       " 'tuviera',\n",
       " 'tuvieras',\n",
       " 'tuviéramos',\n",
       " 'tuvierais',\n",
       " 'tuvieran',\n",
       " 'tuviese',\n",
       " 'tuvieses',\n",
       " 'tuviésemos',\n",
       " 'tuvieseis',\n",
       " 'tuviesen',\n",
       " 'teniendo',\n",
       " 'tenido',\n",
       " 'tenida',\n",
       " 'tenidos',\n",
       " 'tenidas',\n",
       " 'tened']"
      ]
     },
     "execution_count": 89,
     "metadata": {},
     "output_type": "execute_result"
    }
   ],
   "source": [
    "stop_words"
   ]
  },
  {
   "cell_type": "markdown",
   "metadata": {},
   "source": [
    "## 2. Preparación de los datos"
   ]
  },
  {
   "cell_type": "code",
   "execution_count": 90,
   "metadata": {},
   "outputs": [],
   "source": [
    "def remove_non_ascii(words):\n",
    "    \"\"\"Remove non-ASCII characters from list of tokenized words\"\"\"\n",
    "    new_words = []\n",
    "    for word in words:\n",
    "        new_word = unicodedata.normalize('NFKD', word).encode('ascii', 'ignore').decode('utf-8', 'ignore')\n",
    "        new_words.append(new_word)\n",
    "    return new_words\n",
    "\n",
    "def to_lowercase(words):\n",
    "    \"\"\"Convert all characters to lowercase from list of tokenized words\"\"\"\n",
    "    new_words = []\n",
    "    for word in words:\n",
    "        new_word = word.lower()\n",
    "        new_words.append(new_word)\n",
    "    return new_words\n",
    "\n",
    "def remove_punctuation(words):\n",
    "    \"\"\"Remove punctuation from list of tokenized words\"\"\"\n",
    "    new_words = []\n",
    "    for word in words:\n",
    "        new_word = re.sub(r'[^\\w\\s]', '', word)\n",
    "        if new_word != '':\n",
    "            new_words.append(new_word)\n",
    "    return new_words\n",
    "\n",
    "def replace_numbers(words):\n",
    "    \"\"\"Replace all interger occurrences in list of tokenized words with textual representation\"\"\"\n",
    "    p = inflect.engine()\n",
    "    new_words = []\n",
    "    for word in words:\n",
    "        if word.isdigit():\n",
    "            new_word = p.number_to_words(word)\n",
    "            new_words.append(new_word)\n",
    "        else:\n",
    "            new_words.append(word)\n",
    "    return new_words\n",
    "\n",
    "def remove_stopwords(words):\n",
    "    \"\"\"Remove stop words from list of tokenized words\"\"\"\n",
    "    new_words = []\n",
    "    for word in words:\n",
    "        if word not in stop_words:\n",
    "            new_words.append(word)\n",
    "    return new_words\n",
    "\n",
    "\n",
    "def preprocessing(words):\n",
    "    words = to_lowercase(words)\n",
    "    #words = replace_numbers(words)\n",
    "    words = remove_punctuation(words)\n",
    "    words = remove_non_ascii(words)\n",
    "    words = remove_stopwords(words)\n",
    "    return words"
   ]
  },
  {
   "cell_type": "code",
   "execution_count": 91,
   "metadata": {},
   "outputs": [],
   "source": [
    "df['Textos_espanol'] = df['Textos_espanol'].apply(contractions.fix) #Here we apply corrections"
   ]
  },
  {
   "cell_type": "code",
   "execution_count": 92,
   "metadata": {},
   "outputs": [
    {
     "data": {
      "text/html": [
       "<div>\n",
       "<style scoped>\n",
       "    .dataframe tbody tr th:only-of-type {\n",
       "        vertical-align: middle;\n",
       "    }\n",
       "\n",
       "    .dataframe tbody tr th {\n",
       "        vertical-align: top;\n",
       "    }\n",
       "\n",
       "    .dataframe thead th {\n",
       "        text-align: right;\n",
       "    }\n",
       "</style>\n",
       "<table border=\"1\" class=\"dataframe\">\n",
       "  <thead>\n",
       "    <tr style=\"text-align: right;\">\n",
       "      <th></th>\n",
       "      <th>Textos_espanol</th>\n",
       "      <th>sdg</th>\n",
       "      <th>document_lengths</th>\n",
       "      <th>words</th>\n",
       "    </tr>\n",
       "  </thead>\n",
       "  <tbody>\n",
       "    <tr>\n",
       "      <th>0</th>\n",
       "      <td>Es importante destacar que, en un año de sequía, se espera que disminuyan todos los aportes, pero que aumente la demanda de agua de los cultivos y de la vegetación, lo que provocará una reducción del caudal de los ríos que están conectados hidrológicamente con el acuífero, así como una menor disponibilidad de agua para otros ecosistemas dependientes de las aguas subterráneas. Estas externalidades espaciales pueden incluir el agotamiento de los cursos de agua y el descenso del nivel freático local. Por ejemplo, el bombeo continuo del pozo B provocará el agotamiento de los cursos de agua y la reducción de su caudal.</td>\n",
       "      <td>6</td>\n",
       "      <td>103</td>\n",
       "      <td>[importante, destacar, ano, sequia, espera, disminuyan, aportes, aumente, demanda, agua, cultivos, vegetacion, provocara, reduccion, caudal, rios, estan, conectados, hidrologicamente, acuifero, asi, menor, disponibilidad, agua, ecosistemas, dependientes, aguas, subterraneas, externalidades, espaciales, pueden, incluir, agotamiento, cursos, agua, descenso, nivel, freatico, local, ejemplo, bombeo, continuo, pozo, b, provocara, agotamiento, cursos, agua, reduccion, caudal]</td>\n",
       "    </tr>\n",
       "    <tr>\n",
       "      <th>1</th>\n",
       "      <td>Hay una gran cantidad de literatura sobre Australia en esta área que sugiere fuertemente que el comercio de agua, especialmente en los mercados a corto plazo, no solo permite mitigar sustancialmente los impactos de las sequías en la agricultura, sino que ahora los agricultores lo consideran como un medio útil y básico. instrumento en su caja de herramientas de gestión de riesgos. Los desafíos políticos para Australia en el área de la regulación del agua en la agricultura están más en las áreas de cómo ajustar el sistema existente y los problemas de solidez relacionados con el cambio climático. Si bien el ejemplo australiano ilustra las posibles ganancias de eficiencia que surgen del comercio de agua, especialmente para gestionar la escasez de agua en circunstancias de sequía, la elección de un instrumento siempre debe considerar la gama completa de costos y beneficios.</td>\n",
       "      <td>6</td>\n",
       "      <td>142</td>\n",
       "      <td>[gran, cantidad, literatura, australia, area, sugiere, fuertemente, comercio, agua, especialmente, mercados, corto, plazo, solo, permite, mitigar, sustancialmente, impactos, sequias, agricultura, sino, ahora, agricultores, consideran, medio, util, basico, instrumento, caja, herramientas, gestion, riesgos, desafios, politicos, australia, area, regulacion, agua, agricultura, estan, mas, areas, ajustar, sistema, existente, problemas, solidez, relacionados, cambio, climatico, si, bien, ejemplo, australiano, ilustra, posibles, ganancias, eficiencia, surgen, comercio, agua, especialmente, gestionar, escasez, agua, circunstancias, sequia, eleccion, instrumento, siempre, debe, considerar, gama, completa, costos, beneficios]</td>\n",
       "    </tr>\n",
       "    <tr>\n",
       "      <th>2</th>\n",
       "      <td>Los procesos de descentralización, emprendidos para una serie de actividades que antes realizaba el gobierno central, llevaron a modificaciones importantes en la forma en que se administraba y operaba el sector del agua. Las únicas excepciones a esta tendencia fueron Azerbaiyán, Bielorrusia y Turkmenistán, donde la gestión del sector del agua ha permanecido fuertemente centralizada. En Azerbaiyán, por ejemplo, la empresa nacional AZERSU JSC suministra agua al 65 % de la población, con un 10 % proporcionado por pequeños operadores privados y un 25 % por los propios hogares.</td>\n",
       "      <td>6</td>\n",
       "      <td>89</td>\n",
       "      <td>[procesos, descentralizacion, emprendidos, serie, actividades, realizaba, gobierno, central, llevaron, modificaciones, importantes, forma, administraba, operaba, sector, agua, unicas, excepciones, tendencia, azerbaiyan, bielorrusia, turkmenistan, gestion, sector, agua, permanecido, fuertemente, centralizada, azerbaiyan, ejemplo, empresa, nacional, azersu, jsc, suministra, agua, 65, poblacion, 10, proporcionado, pequenos, operadores, privados, 25, propios, hogares]</td>\n",
       "    </tr>\n",
       "    <tr>\n",
       "      <th>3</th>\n",
       "      <td>Esto puede tener consecuencias sustanciales para la calidad del agua, especialmente en el río Mississippi y el norte del Golfo de México (De la Torre Ugarte et al., Si se requieren aportes de nutrientes para las plantaciones de madera, la infiltración y la escorrentía de nitrógeno también pueden representar un riesgo para las aguas subterráneas). (Lattimore et al., otra conclusión importante es que la ubicación de la producción y el tipo de producción de labranza, el sistema de rotación de cultivos y otras prácticas de gestión agrícola utilizadas en la producción de materias primas para la producción de bioenergía también influirán en gran medida en la calidad del agua (De la Torre Ugarte et al. ,</td>\n",
       "      <td>6</td>\n",
       "      <td>116</td>\n",
       "      <td>[puede, tener, consecuencias, sustanciales, calidad, agua, especialmente, rio, mississippi, norte, golfo, mexico, torre, ugarte, et, si, requieren, aportes, nutrientes, plantaciones, madera, infiltracion, escorrentia, nitrogeno, tambien, pueden, representar, riesgo, aguas, subterraneas, lattimore, et, conclusion, importante, ubicacion, produccion, tipo, produccion, labranza, sistema, rotacion, cultivos, practicas, gestion, agricola, utilizadas, produccion, materias, primas, produccion, bioenergia, tambien, influiran, gran, medida, calidad, agua, torre, ugarte, et]</td>\n",
       "    </tr>\n",
       "    <tr>\n",
       "      <th>4</th>\n",
       "      <td>La función de beneficio también incorpora parámetros que afectan a todos los usuarios, como los precios de insumos y productos y el clima.7 Por ejemplo, en un año seco, se espera que el beneficio de aplicar cualquier cantidad de agua a un cultivo sea mayor que en un año seco. año húmedo. La optimización óptima requeriría una valoración explícita de todos los posibles servicios ambientales asociados con el recurso de agua subterránea, tanto ahora como en el futuro. En cambio, la sociedad decide el nivel de servicios hidrológicos que es deseable y el problema económico es lograr ese nivel utilizando una solución que maximice los beneficios para los usuarios del agua.</td>\n",
       "      <td>6</td>\n",
       "      <td>111</td>\n",
       "      <td>[funcion, beneficio, tambien, incorpora, parametros, afectan, usuarios, precios, insumos, productos, clima7, ejemplo, ano, seco, espera, beneficio, aplicar, cualquier, cantidad, agua, cultivo, mayor, ano, seco, ano, humedo, optimizacion, optima, requeriria, valoracion, explicita, posibles, servicios, ambientales, asociados, recurso, agua, subterranea, ahora, futuro, cambio, sociedad, decide, nivel, servicios, hidrologicos, deseable, problema, economico, lograr, nivel, utilizando, solucion, maximice, beneficios, usuarios, agua]</td>\n",
       "    </tr>\n",
       "  </tbody>\n",
       "</table>\n",
       "</div>"
      ],
      "text/plain": [
       "                                                                                                                                                                                                                                                                                                                                                                                                                                                                                                                                                                                                                                                                                                                                                                                                                                                                                                      Textos_espanol  \\\n",
       "0                                                                                                                                                                                                                                                                      Es importante destacar que, en un año de sequía, se espera que disminuyan todos los aportes, pero que aumente la demanda de agua de los cultivos y de la vegetación, lo que provocará una reducción del caudal de los ríos que están conectados hidrológicamente con el acuífero, así como una menor disponibilidad de agua para otros ecosistemas dependientes de las aguas subterráneas. Estas externalidades espaciales pueden incluir el agotamiento de los cursos de agua y el descenso del nivel freático local. Por ejemplo, el bombeo continuo del pozo B provocará el agotamiento de los cursos de agua y la reducción de su caudal.   \n",
       "1  Hay una gran cantidad de literatura sobre Australia en esta área que sugiere fuertemente que el comercio de agua, especialmente en los mercados a corto plazo, no solo permite mitigar sustancialmente los impactos de las sequías en la agricultura, sino que ahora los agricultores lo consideran como un medio útil y básico. instrumento en su caja de herramientas de gestión de riesgos. Los desafíos políticos para Australia en el área de la regulación del agua en la agricultura están más en las áreas de cómo ajustar el sistema existente y los problemas de solidez relacionados con el cambio climático. Si bien el ejemplo australiano ilustra las posibles ganancias de eficiencia que surgen del comercio de agua, especialmente para gestionar la escasez de agua en circunstancias de sequía, la elección de un instrumento siempre debe considerar la gama completa de costos y beneficios.   \n",
       "2                                                                                                                                                                                                                                                                                                                Los procesos de descentralización, emprendidos para una serie de actividades que antes realizaba el gobierno central, llevaron a modificaciones importantes en la forma en que se administraba y operaba el sector del agua. Las únicas excepciones a esta tendencia fueron Azerbaiyán, Bielorrusia y Turkmenistán, donde la gestión del sector del agua ha permanecido fuertemente centralizada. En Azerbaiyán, por ejemplo, la empresa nacional AZERSU JSC suministra agua al 65 % de la población, con un 10 % proporcionado por pequeños operadores privados y un 25 % por los propios hogares.   \n",
       "3                                                                                                                                                                                 Esto puede tener consecuencias sustanciales para la calidad del agua, especialmente en el río Mississippi y el norte del Golfo de México (De la Torre Ugarte et al., Si se requieren aportes de nutrientes para las plantaciones de madera, la infiltración y la escorrentía de nitrógeno también pueden representar un riesgo para las aguas subterráneas). (Lattimore et al., otra conclusión importante es que la ubicación de la producción y el tipo de producción de labranza, el sistema de rotación de cultivos y otras prácticas de gestión agrícola utilizadas en la producción de materias primas para la producción de bioenergía también influirán en gran medida en la calidad del agua (De la Torre Ugarte et al. ,   \n",
       "4                                                                                                                                                                                                                  La función de beneficio también incorpora parámetros que afectan a todos los usuarios, como los precios de insumos y productos y el clima.7 Por ejemplo, en un año seco, se espera que el beneficio de aplicar cualquier cantidad de agua a un cultivo sea mayor que en un año seco. año húmedo. La optimización óptima requeriría una valoración explícita de todos los posibles servicios ambientales asociados con el recurso de agua subterránea, tanto ahora como en el futuro. En cambio, la sociedad decide el nivel de servicios hidrológicos que es deseable y el problema económico es lograr ese nivel utilizando una solución que maximice los beneficios para los usuarios del agua.   \n",
       "\n",
       "   sdg  document_lengths  \\\n",
       "0    6               103   \n",
       "1    6               142   \n",
       "2    6                89   \n",
       "3    6               116   \n",
       "4    6               111   \n",
       "\n",
       "                                                                                                                                                                                                                                                                                                                                                                                                                                                                                                                                                                                                                                                                                                                                                   words  \n",
       "0                                                                                                                                                                                                                                                             [importante, destacar, ano, sequia, espera, disminuyan, aportes, aumente, demanda, agua, cultivos, vegetacion, provocara, reduccion, caudal, rios, estan, conectados, hidrologicamente, acuifero, asi, menor, disponibilidad, agua, ecosistemas, dependientes, aguas, subterraneas, externalidades, espaciales, pueden, incluir, agotamiento, cursos, agua, descenso, nivel, freatico, local, ejemplo, bombeo, continuo, pozo, b, provocara, agotamiento, cursos, agua, reduccion, caudal]  \n",
       "1  [gran, cantidad, literatura, australia, area, sugiere, fuertemente, comercio, agua, especialmente, mercados, corto, plazo, solo, permite, mitigar, sustancialmente, impactos, sequias, agricultura, sino, ahora, agricultores, consideran, medio, util, basico, instrumento, caja, herramientas, gestion, riesgos, desafios, politicos, australia, area, regulacion, agua, agricultura, estan, mas, areas, ajustar, sistema, existente, problemas, solidez, relacionados, cambio, climatico, si, bien, ejemplo, australiano, ilustra, posibles, ganancias, eficiencia, surgen, comercio, agua, especialmente, gestionar, escasez, agua, circunstancias, sequia, eleccion, instrumento, siempre, debe, considerar, gama, completa, costos, beneficios]  \n",
       "2                                                                                                                                                                                                                                                                   [procesos, descentralizacion, emprendidos, serie, actividades, realizaba, gobierno, central, llevaron, modificaciones, importantes, forma, administraba, operaba, sector, agua, unicas, excepciones, tendencia, azerbaiyan, bielorrusia, turkmenistan, gestion, sector, agua, permanecido, fuertemente, centralizada, azerbaiyan, ejemplo, empresa, nacional, azersu, jsc, suministra, agua, 65, poblacion, 10, proporcionado, pequenos, operadores, privados, 25, propios, hogares]  \n",
       "3                                                                                                                                                             [puede, tener, consecuencias, sustanciales, calidad, agua, especialmente, rio, mississippi, norte, golfo, mexico, torre, ugarte, et, si, requieren, aportes, nutrientes, plantaciones, madera, infiltracion, escorrentia, nitrogeno, tambien, pueden, representar, riesgo, aguas, subterraneas, lattimore, et, conclusion, importante, ubicacion, produccion, tipo, produccion, labranza, sistema, rotacion, cultivos, practicas, gestion, agricola, utilizadas, produccion, materias, primas, produccion, bioenergia, tambien, influiran, gran, medida, calidad, agua, torre, ugarte, et]  \n",
       "4                                                                                                                                                                                                   [funcion, beneficio, tambien, incorpora, parametros, afectan, usuarios, precios, insumos, productos, clima7, ejemplo, ano, seco, espera, beneficio, aplicar, cualquier, cantidad, agua, cultivo, mayor, ano, seco, ano, humedo, optimizacion, optima, requeriria, valoracion, explicita, posibles, servicios, ambientales, asociados, recurso, agua, subterranea, ahora, futuro, cambio, sociedad, decide, nivel, servicios, hidrologicos, deseable, problema, economico, lograr, nivel, utilizando, solucion, maximice, beneficios, usuarios, agua]  "
      ]
     },
     "execution_count": 92,
     "metadata": {},
     "output_type": "execute_result"
    }
   ],
   "source": [
    "#Here we do preprocessing using the functions defined earlier\n",
    "df['words'] = df['Textos_espanol'].apply(word_tokenize).apply(preprocessing)\n",
    "df.head()"
   ]
  },
  {
   "cell_type": "markdown",
   "metadata": {},
   "source": [
    "Stemming is a technique used to reduce an inflected word down to its word stem. For example, the words “programming,” “programmer,” and “programs” can all be reduced down to the common word stem “program.” In other words, “program” can be used as a synonym for the prior three inflection words. \n",
    "\n",
    "Lemmatization is another technique used to reduce inflected words to their root word. It describes the algorithmic process of identifying an inflected word’s “lemma” (dictionary form) based on its intended meaning. "
   ]
  },
  {
   "cell_type": "code",
   "execution_count": 93,
   "metadata": {},
   "outputs": [],
   "source": [
    "wordnet_lem = WordNetLemmatizer()"
   ]
  },
  {
   "cell_type": "code",
   "execution_count": 94,
   "metadata": {},
   "outputs": [],
   "source": [
    "df['words'] = df['words'].apply( lambda lst:[wordnet_lem.lemmatize(word) for word in lst])"
   ]
  },
  {
   "cell_type": "code",
   "execution_count": 95,
   "metadata": {},
   "outputs": [
    {
     "data": {
      "text/html": [
       "<div>\n",
       "<style scoped>\n",
       "    .dataframe tbody tr th:only-of-type {\n",
       "        vertical-align: middle;\n",
       "    }\n",
       "\n",
       "    .dataframe tbody tr th {\n",
       "        vertical-align: top;\n",
       "    }\n",
       "\n",
       "    .dataframe thead th {\n",
       "        text-align: right;\n",
       "    }\n",
       "</style>\n",
       "<table border=\"1\" class=\"dataframe\">\n",
       "  <thead>\n",
       "    <tr style=\"text-align: right;\">\n",
       "      <th></th>\n",
       "      <th>Textos_espanol</th>\n",
       "      <th>sdg</th>\n",
       "      <th>document_lengths</th>\n",
       "      <th>words</th>\n",
       "    </tr>\n",
       "  </thead>\n",
       "  <tbody>\n",
       "    <tr>\n",
       "      <th>2772</th>\n",
       "      <td>Aunque el racismo en la forma de políticas flagrantes de facto y de jure y el terrorismo doméstico ya no es la ley del país como era el caso antes, y durante el Movimiento de Derechos Civiles, un racismo intensificado inconsciente y daltónico se ha impulsado en el Estados Unidos post-Civil Rights, particularmente en esta \"Era de Obama\", que se manifiesta en discursos semánticamente resbaladizos y retóricamente enrevesados. En consecuencia, para iluminar este espectro del racismo estadounidense, la teoría crítica de la raza y la poética performativa de la palabra hablada unen fuerzas aquí en una descripción interpretativa conversada de la retórica que ha surgido recientemente en los principales medios de comunicación, un discurso que intenta (a) negar a las personas negras el derecho a la dignidad humana, (b) distorsionar e invalidar las ideas, pensamientos y sentimientos de las personas negras, y (c) negar el derecho a reclamar y afirmar la propia identidad personal.</td>\n",
       "      <td>16</td>\n",
       "      <td>154</td>\n",
       "      <td>[aunque, racismo, forma, politicas, flagrantes, facto, jure, terrorismo, domestico, ley, pais, caso, movimiento, derechos, civiles, racismo, intensificado, inconsciente, daltonico, impulsado, unidos, postcivil, right, particularmente, obama, manifiesta, discursos, semanticamente, resbaladizos, retoricamente, enrevesados, consecuencia, iluminar, espectro, racismo, estadounidense, teoria, critica, raza, poetica, performativa, palabra, hablada, unen, fuerzas, aqui, descripcion, interpretativa, conversada, retorica, surgido, recientemente, principales, medios, comunicacion, discurso, intenta, negar, persona, negras, derecho, dignidad, humana, b, distorsionar, invalidar, idea, pensamientos, sentimientos, persona, negras, c, negar, derecho, reclamar, afirmar, propia, identidad, personal]</td>\n",
       "    </tr>\n",
       "    <tr>\n",
       "      <th>1527</th>\n",
       "      <td>Pueden mantenerse artificialmente bajas por razones políticas, lo que hace que las empresas eléctricas no recuperen la totalidad de los costes de producción, lo que significa que no hay fondos suficientes para cubrir los gastos de funcionamiento y mantenimiento y los costes de capital de la sustitución de infraestructuras envejecidas. Las tarifas subvencionadas pueden fomentar una cultura de consumo excesivo, lo que puede acarrear dificultades de pago para los consumidores, especialmente cuando los altos precios del petróleo se traducen en tarifas más elevadas. También faltan normas y certificaciones que garanticen que en el Pacífico sólo se instalan equipos robustos de energías renovables.</td>\n",
       "      <td>7</td>\n",
       "      <td>102</td>\n",
       "      <td>[pueden, mantenerse, artificialmente, bajas, razones, politicas, hace, empresas, electricas, recuperen, totalidad, costes, produccion, significa, fondos, suficientes, cubrir, gastos, funcionamiento, mantenimiento, costes, capital, sustitucion, infraestructuras, envejecidas, tarifas, subvencionadas, pueden, fomentar, cultura, consumo, excesivo, puede, acarrear, dificultades, pago, consumidores, especialmente, alto, precios, petroleo, traducen, tarifas, ma, elevadas, tambien, faltan, norma, certificaciones, garanticen, pacifico, solo, instalan, equipos, robustos, energias, renovables]</td>\n",
       "    </tr>\n",
       "    <tr>\n",
       "      <th>2301</th>\n",
       "      <td>El actual debate sobre la inmigración refleja a menudo una tensión entre la afirmación de los derechos individuales de los inmigrantes y el poder de una nación para controlar sus fronteras. Un examen de los precedentes del Tribunal Supremo de EE.UU. revela que, desde los primeros tiempos de nuestra historia de la inmigración hasta la actualidad, nuestra política de inmigración ha funcionado más como derecho contractual que como derecho de los derechos humanos, y el Tribunal ha cedido ante el poder del Congreso para definir los términos de ese contrato a expensas de la libertad del inmigrante. (Este ensayo es una versión de un capítulo de mi próximo libro, Everyday Law for Immigrants and Foreign Nationals, que forma parte de la serie \"Everyday Law\" de Paradigm Publishers, editada por Richard Delgado y Jean Stefancic).</td>\n",
       "      <td>16</td>\n",
       "      <td>134</td>\n",
       "      <td>[actual, debate, inmigracion, refleja, menudo, tension, afirmacion, derechos, individuales, inmigrantes, poder, nacion, controlar, fronteras, examen, precedentes, tribunal, supremo, eeuu, revela, primeros, tiempos, historia, inmigracion, actualidad, politica, inmigracion, funcionado, ma, derecho, contractual, derecho, derechos, humanos, tribunal, cedido, poder, congreso, definir, terminos, contrato, expensas, libertad, inmigrante, ensayo, version, capitulo, proximo, libro, everyday, law, for, immigrant, and, foreign, national, forma, parte, serie, everyday, law, paradigm, publisher, editada, richard, delgado, jean, stefancic]</td>\n",
       "    </tr>\n",
       "    <tr>\n",
       "      <th>748</th>\n",
       "      <td>Si bien el cambio climático aumenta el riesgo de que haya demasiada agua, muy poca y muy contaminada, el crecimiento urbano representa una amenaza para el uso sostenible del recurso, y las crisis económicas empujan hacia nuevos modelos de negocio para hacer más con menos. La demanda mundial de agua aumentó en más del doble de la tasa de crecimiento de la población en el último siglo (OCDE, 2005). Un componente importante de la demanda de agua en las ciudades es el consumo doméstico.</td>\n",
       "      <td>6</td>\n",
       "      <td>84</td>\n",
       "      <td>[si, bien, cambio, climatico, aumenta, riesgo, demasiada, agua, poca, contaminada, crecimiento, urbano, representa, amenaza, uso, sostenible, recurso, crisis, economicas, empujan, hacia, nuevos, modelos, negocio, hacer, ma, menos, demanda, mundial, agua, aumento, ma, doble, tasa, crecimiento, poblacion, ultimo, siglo, ocde, 2005, componente, importante, demanda, agua, ciudades, consumo, domestico]</td>\n",
       "    </tr>\n",
       "    <tr>\n",
       "      <th>2094</th>\n",
       "      <td>RESUMENEl ejército nigeriano ha tenido durante mucho tiempo un historial deficiente en materia de derechos humanos. Desde los tiempos de la Guerra de Biafra (1967-1970) hasta las masacres de miembros de Boko Haram en 2009 y los enfrentamientos con la minoría chiíta en 2015, los soldados y oficiales han perpetrado violaciones graves y generalizadas. La corrupción, la impunidad, una cadena de mando débil y la falta de rendición de cuentas, calificaciones, capacitación, reclutamiento, suministros y control por parte de las autoridades civiles explican sus fechorías, junto con las dictaduras militares de las décadas de 1970 y 1980 y la guerra contra el terrorismo desde 2009. Tales Los problemas aún prevalecen mientras Nigeria se dirige a las elecciones generales de 2019. Este artículo muestra, por lo tanto, que no se aprendieron lecciones a pesar del proceso de democratización desde el fin del gobierno militar en 1999.</td>\n",
       "      <td>16</td>\n",
       "      <td>145</td>\n",
       "      <td>[resumenel, ejercito, nigeriano, tiempo, historial, deficiente, materia, derechos, humanos, tiempos, guerra, biafra, 19671970, masacres, miembros, boko, haram, 2009, enfrentamientos, minoria, chiita, 2015, soldados, oficiales, perpetrado, violaciones, graf, generalizadas, corrupcion, impunidad, cadena, mando, debil, falta, rendicion, cuentas, calificaciones, capacitacion, reclutamiento, suministros, control, parte, autoridades, civiles, explican, fechorias, junto, dictaduras, militares, decadas, 1970, 1980, guerra, terrorismo, 2009, tale, problemas, aun, prevalecen, mientras, nigeria, dirige, elecciones, generales, 2019, articulo, muestra, aprendieron, lecciones, pesar, proceso, democratizacion, fin, gobierno, militar, 1999]</td>\n",
       "    </tr>\n",
       "  </tbody>\n",
       "</table>\n",
       "</div>"
      ],
      "text/plain": [
       "                                                                                                                                                                                                                                                                                                                                                                                                                                                                                                                                                                                                                                                                                                                                                                                                                                                                                                                                                                                                             Textos_espanol  \\\n",
       "2772  Aunque el racismo en la forma de políticas flagrantes de facto y de jure y el terrorismo doméstico ya no es la ley del país como era el caso antes, y durante el Movimiento de Derechos Civiles, un racismo intensificado inconsciente y daltónico se ha impulsado en el Estados Unidos post-Civil Rights, particularmente en esta \"Era de Obama\", que se manifiesta en discursos semánticamente resbaladizos y retóricamente enrevesados. En consecuencia, para iluminar este espectro del racismo estadounidense, la teoría crítica de la raza y la poética performativa de la palabra hablada unen fuerzas aquí en una descripción interpretativa conversada de la retórica que ha surgido recientemente en los principales medios de comunicación, un discurso que intenta (a) negar a las personas negras el derecho a la dignidad humana, (b) distorsionar e invalidar las ideas, pensamientos y sentimientos de las personas negras, y (c) negar el derecho a reclamar y afirmar la propia identidad personal.   \n",
       "1527                                                                                                                                                                                                                                                                                            Pueden mantenerse artificialmente bajas por razones políticas, lo que hace que las empresas eléctricas no recuperen la totalidad de los costes de producción, lo que significa que no hay fondos suficientes para cubrir los gastos de funcionamiento y mantenimiento y los costes de capital de la sustitución de infraestructuras envejecidas. Las tarifas subvencionadas pueden fomentar una cultura de consumo excesivo, lo que puede acarrear dificultades de pago para los consumidores, especialmente cuando los altos precios del petróleo se traducen en tarifas más elevadas. También faltan normas y certificaciones que garanticen que en el Pacífico sólo se instalan equipos robustos de energías renovables.   \n",
       "2301                                                                                                                                                           El actual debate sobre la inmigración refleja a menudo una tensión entre la afirmación de los derechos individuales de los inmigrantes y el poder de una nación para controlar sus fronteras. Un examen de los precedentes del Tribunal Supremo de EE.UU. revela que, desde los primeros tiempos de nuestra historia de la inmigración hasta la actualidad, nuestra política de inmigración ha funcionado más como derecho contractual que como derecho de los derechos humanos, y el Tribunal ha cedido ante el poder del Congreso para definir los términos de ese contrato a expensas de la libertad del inmigrante. (Este ensayo es una versión de un capítulo de mi próximo libro, Everyday Law for Immigrants and Foreign Nationals, que forma parte de la serie \"Everyday Law\" de Paradigm Publishers, editada por Richard Delgado y Jean Stefancic).   \n",
       "748                                                                                                                                                                                                                                                                                                                                                                                                                                                                                                                 Si bien el cambio climático aumenta el riesgo de que haya demasiada agua, muy poca y muy contaminada, el crecimiento urbano representa una amenaza para el uso sostenible del recurso, y las crisis económicas empujan hacia nuevos modelos de negocio para hacer más con menos. La demanda mundial de agua aumentó en más del doble de la tasa de crecimiento de la población en el último siglo (OCDE, 2005). Un componente importante de la demanda de agua en las ciudades es el consumo doméstico.   \n",
       "2094                                                       RESUMENEl ejército nigeriano ha tenido durante mucho tiempo un historial deficiente en materia de derechos humanos. Desde los tiempos de la Guerra de Biafra (1967-1970) hasta las masacres de miembros de Boko Haram en 2009 y los enfrentamientos con la minoría chiíta en 2015, los soldados y oficiales han perpetrado violaciones graves y generalizadas. La corrupción, la impunidad, una cadena de mando débil y la falta de rendición de cuentas, calificaciones, capacitación, reclutamiento, suministros y control por parte de las autoridades civiles explican sus fechorías, junto con las dictaduras militares de las décadas de 1970 y 1980 y la guerra contra el terrorismo desde 2009. Tales Los problemas aún prevalecen mientras Nigeria se dirige a las elecciones generales de 2019. Este artículo muestra, por lo tanto, que no se aprendieron lecciones a pesar del proceso de democratización desde el fin del gobierno militar en 1999.   \n",
       "\n",
       "      sdg  document_lengths  \\\n",
       "2772   16               154   \n",
       "1527    7               102   \n",
       "2301   16               134   \n",
       "748     6                84   \n",
       "2094   16               145   \n",
       "\n",
       "                                                                                                                                                                                                                                                                                                                                                                                                                                                                                                                                                                                                                                                                                                                                                                                                                         words  \n",
       "2772  [aunque, racismo, forma, politicas, flagrantes, facto, jure, terrorismo, domestico, ley, pais, caso, movimiento, derechos, civiles, racismo, intensificado, inconsciente, daltonico, impulsado, unidos, postcivil, right, particularmente, obama, manifiesta, discursos, semanticamente, resbaladizos, retoricamente, enrevesados, consecuencia, iluminar, espectro, racismo, estadounidense, teoria, critica, raza, poetica, performativa, palabra, hablada, unen, fuerzas, aqui, descripcion, interpretativa, conversada, retorica, surgido, recientemente, principales, medios, comunicacion, discurso, intenta, negar, persona, negras, derecho, dignidad, humana, b, distorsionar, invalidar, idea, pensamientos, sentimientos, persona, negras, c, negar, derecho, reclamar, afirmar, propia, identidad, personal]  \n",
       "1527                                                                                                                                                                                                             [pueden, mantenerse, artificialmente, bajas, razones, politicas, hace, empresas, electricas, recuperen, totalidad, costes, produccion, significa, fondos, suficientes, cubrir, gastos, funcionamiento, mantenimiento, costes, capital, sustitucion, infraestructuras, envejecidas, tarifas, subvencionadas, pueden, fomentar, cultura, consumo, excesivo, puede, acarrear, dificultades, pago, consumidores, especialmente, alto, precios, petroleo, traducen, tarifas, ma, elevadas, tambien, faltan, norma, certificaciones, garanticen, pacifico, solo, instalan, equipos, robustos, energias, renovables]  \n",
       "2301                                                                                                                                                                 [actual, debate, inmigracion, refleja, menudo, tension, afirmacion, derechos, individuales, inmigrantes, poder, nacion, controlar, fronteras, examen, precedentes, tribunal, supremo, eeuu, revela, primeros, tiempos, historia, inmigracion, actualidad, politica, inmigracion, funcionado, ma, derecho, contractual, derecho, derechos, humanos, tribunal, cedido, poder, congreso, definir, terminos, contrato, expensas, libertad, inmigrante, ensayo, version, capitulo, proximo, libro, everyday, law, for, immigrant, and, foreign, national, forma, parte, serie, everyday, law, paradigm, publisher, editada, richard, delgado, jean, stefancic]  \n",
       "748                                                                                                                                                                                                                                                                                                                                                                                                           [si, bien, cambio, climatico, aumenta, riesgo, demasiada, agua, poca, contaminada, crecimiento, urbano, representa, amenaza, uso, sostenible, recurso, crisis, economicas, empujan, hacia, nuevos, modelos, negocio, hacer, ma, menos, demanda, mundial, agua, aumento, ma, doble, tasa, crecimiento, poblacion, ultimo, siglo, ocde, 2005, componente, importante, demanda, agua, ciudades, consumo, domestico]  \n",
       "2094                                                            [resumenel, ejercito, nigeriano, tiempo, historial, deficiente, materia, derechos, humanos, tiempos, guerra, biafra, 19671970, masacres, miembros, boko, haram, 2009, enfrentamientos, minoria, chiita, 2015, soldados, oficiales, perpetrado, violaciones, graf, generalizadas, corrupcion, impunidad, cadena, mando, debil, falta, rendicion, cuentas, calificaciones, capacitacion, reclutamiento, suministros, control, parte, autoridades, civiles, explican, fechorias, junto, dictaduras, militares, decadas, 1970, 1980, guerra, terrorismo, 2009, tale, problemas, aun, prevalecen, mientras, nigeria, dirige, elecciones, generales, 2019, articulo, muestra, aprendieron, lecciones, pesar, proceso, democratizacion, fin, gobierno, militar, 1999]  "
      ]
     },
     "execution_count": 95,
     "metadata": {},
     "output_type": "execute_result"
    }
   ],
   "source": [
    "df.sample(5)"
   ]
  },
  {
   "cell_type": "code",
   "execution_count": 96,
   "metadata": {},
   "outputs": [
    {
     "data": {
      "text/html": [
       "<div>\n",
       "<style scoped>\n",
       "    .dataframe tbody tr th:only-of-type {\n",
       "        vertical-align: middle;\n",
       "    }\n",
       "\n",
       "    .dataframe tbody tr th {\n",
       "        vertical-align: top;\n",
       "    }\n",
       "\n",
       "    .dataframe thead th {\n",
       "        text-align: right;\n",
       "    }\n",
       "</style>\n",
       "<table border=\"1\" class=\"dataframe\">\n",
       "  <thead>\n",
       "    <tr style=\"text-align: right;\">\n",
       "      <th></th>\n",
       "      <th>Textos_espanol</th>\n",
       "      <th>sdg</th>\n",
       "      <th>document_lengths</th>\n",
       "      <th>words</th>\n",
       "    </tr>\n",
       "  </thead>\n",
       "  <tbody>\n",
       "    <tr>\n",
       "      <th>1839</th>\n",
       "      <td>Por último, cuando se entregan directamente a las empresas proveedoras de energía, las subvenciones pueden desincentivar la innovación, la modernización tecnológica y la rentabilidad, e incluso comprometer la calidad general del servicio. Si no se eliminan las subvenciones perversas, puede ser necesario subvencionar las TER para igualar las condiciones y fomentar su utilización. Sin embargo, deben constituir un estímulo, no un fin, tanto para los usuarios como para los proveedores. En resumen, las subvenciones deben llegar efectivamente a los beneficiarios previstos, fomentar la prestación de servicios de menor coste (por ejemplo, evitar cubrir los costes de funcionamiento) y, en general, ser rentables, es decir, lograr los máximos beneficios sociales por cada unidad gastada (Barnes y Halpern, 2000). Por ejemplo, en algunas zonas rurales, el mayor reto para los agricultores puede ser que el ciclo de pago de la electricidad (conexiones y facturas mensuales) no coincida con el ciclo de ingresos (una o dos veces al año, después de la cosecha). La simple adaptación de las modalidades de pago al perfil de los usuarios agrícolas podría marcar la diferencia.</td>\n",
       "      <td>7</td>\n",
       "      <td>179</td>\n",
       "      <td>ultimo entregan directamente empresas proveedoras energia subvenciones pueden desincentivar innovacion modernizacion tecnologica rentabilidad incluso comprometer calidad general servicio si eliminan subvenciones perversas puede ser necesario subvencionar ter igualar condiciones fomentar utilizacion embargo deben constituir estimulo fin usuarios proveedores resumen subvenciones deben llegar efectivamente beneficiarios previstos fomentar prestacion servicios menor coste ejemplo evitar cubrir costes funcionamiento general ser rentables decir lograr maximos beneficios sociales cada unidad gastada barnes halpern 2000 ejemplo zona rurales mayor reto agricultores puede ser ciclo pago electricidad conexiones facturas mensuales coincida ciclo ingresos do veces ano despues cosecha simple adaptacion modalidades pago perfil usuarios agricola podria marcar diferencia</td>\n",
       "    </tr>\n",
       "  </tbody>\n",
       "</table>\n",
       "</div>"
      ],
      "text/plain": [
       "                                                                                                                                                                                                                                                                                                                                                                                                                                                                                                                                                                                                                                                                                                                                                                                                                                                                                                                                                                                                                                                                                                                                                                                                          Textos_espanol  \\\n",
       "1839  Por último, cuando se entregan directamente a las empresas proveedoras de energía, las subvenciones pueden desincentivar la innovación, la modernización tecnológica y la rentabilidad, e incluso comprometer la calidad general del servicio. Si no se eliminan las subvenciones perversas, puede ser necesario subvencionar las TER para igualar las condiciones y fomentar su utilización. Sin embargo, deben constituir un estímulo, no un fin, tanto para los usuarios como para los proveedores. En resumen, las subvenciones deben llegar efectivamente a los beneficiarios previstos, fomentar la prestación de servicios de menor coste (por ejemplo, evitar cubrir los costes de funcionamiento) y, en general, ser rentables, es decir, lograr los máximos beneficios sociales por cada unidad gastada (Barnes y Halpern, 2000). Por ejemplo, en algunas zonas rurales, el mayor reto para los agricultores puede ser que el ciclo de pago de la electricidad (conexiones y facturas mensuales) no coincida con el ciclo de ingresos (una o dos veces al año, después de la cosecha). La simple adaptación de las modalidades de pago al perfil de los usuarios agrícolas podría marcar la diferencia.    \n",
       "\n",
       "      sdg  document_lengths  \\\n",
       "1839    7               179   \n",
       "\n",
       "                                                                                                                                                                                                                                                                                                                                                                                                                                                                                                                                                                                                                                                                                                                                                                                                                                                                                                   words  \n",
       "1839  ultimo entregan directamente empresas proveedoras energia subvenciones pueden desincentivar innovacion modernizacion tecnologica rentabilidad incluso comprometer calidad general servicio si eliminan subvenciones perversas puede ser necesario subvencionar ter igualar condiciones fomentar utilizacion embargo deben constituir estimulo fin usuarios proveedores resumen subvenciones deben llegar efectivamente beneficiarios previstos fomentar prestacion servicios menor coste ejemplo evitar cubrir costes funcionamiento general ser rentables decir lograr maximos beneficios sociales cada unidad gastada barnes halpern 2000 ejemplo zona rurales mayor reto agricultores puede ser ciclo pago electricidad conexiones facturas mensuales coincida ciclo ingresos do veces ano despues cosecha simple adaptacion modalidades pago perfil usuarios agricola podria marcar diferencia  "
      ]
     },
     "execution_count": 96,
     "metadata": {},
     "output_type": "execute_result"
    }
   ],
   "source": [
    "df['words'] = df['words'].apply(lambda x: ' '.join(map(str, x)))\n",
    "df.sample(1)"
   ]
  },
  {
   "cell_type": "markdown",
   "metadata": {},
   "source": [
    "## 3. Construccion modelos"
   ]
  },
  {
   "cell_type": "markdown",
   "metadata": {},
   "source": [
    "The purpose of stratifying the data in train-test split is to ensure that the proportion of target variable classes is the same in both the training and testing sets. This is important because if the training set has a significantly different proportion of target variable classes compared to the testing set, the resulting model may not generalize well to new data. \n",
    "\n",
    "For example, if the target variable is binary (e.g. 0 or 1), and the training set has a much higher proportion of 1's compared to the testing set, the resulting model may be biased towards predicting 1's and perform poorly on new data with a more balanced proportion of 0's and 1's. \n",
    "\n",
    "By stratifying the data, we ensure that the training and testing sets have a similar proportion of target variable classes, which can help improve the generalization performance of the resulting model."
   ]
  },
  {
   "cell_type": "code",
   "execution_count": 97,
   "metadata": {},
   "outputs": [],
   "source": [
    "X_train, X_test, y_train, y_test = train_test_split(df[\"words\"], df[\"sdg\"], test_size=0.3, stratify=df[\"sdg\"], random_state=1)"
   ]
  },
  {
   "cell_type": "code",
   "execution_count": 98,
   "metadata": {},
   "outputs": [
    {
     "data": {
      "text/plain": [
       "((2100,), (900,))"
      ]
     },
     "execution_count": 98,
     "metadata": {},
     "output_type": "execute_result"
    }
   ],
   "source": [
    "X_train.shape, X_test.shape"
   ]
  },
  {
   "cell_type": "markdown",
   "metadata": {},
   "source": [
    "A core problem then is to construct a numerical representation of words. Vectorization is the process of converting a word to a vector of numbers that embodies the information contained in the word. Depending on the vectorization technique, this vector may have additional properties that may allow comparison with other words.\n",
    "\n",
    "For our model we'll try three different ways to vectorize the words. The simplest approach for vectorizing is to use counts of words. The second approach is more sophisticated, with its origins in information retrieval, and is called TF-IDF. The third approach is relatively new, having been published in 2013, and uses RNNs to generate embeddings or word vectors. "
   ]
  },
  {
   "cell_type": "markdown",
   "metadata": {},
   "source": [
    "### Count-based vectorization\n",
    "\n",
    " Each unique word appearing in the corpus is assigned a column in the vocabulary. Each document, which would correspond to individual messages in the spam example, is assigned a row. The counts of the words appearing in that document are entered in the relevant cell corresponding to the document and the word. We end up with a n x m matrix."
   ]
  },
  {
   "cell_type": "code",
   "execution_count": 99,
   "metadata": {},
   "outputs": [],
   "source": [
    "bow = CountVectorizer(analyzer='word', stop_words=stop_words, lowercase=True)"
   ]
  },
  {
   "cell_type": "code",
   "execution_count": 100,
   "metadata": {},
   "outputs": [],
   "source": [
    "X_bow = bow.fit_transform(X_train)#X_train[\"words\"])"
   ]
  },
  {
   "cell_type": "code",
   "execution_count": 101,
   "metadata": {},
   "outputs": [
    {
     "name": "stdout",
     "output_type": "stream",
     "text": [
      "Vocabulary size: 17665\n"
     ]
    }
   ],
   "source": [
    "print(\"Vocabulary size:\", len(bow.vocabulary_))"
   ]
  },
  {
   "cell_type": "code",
   "execution_count": 102,
   "metadata": {},
   "outputs": [],
   "source": [
    "bow_model = RandomForestClassifier(random_state=2)"
   ]
  },
  {
   "cell_type": "code",
   "execution_count": 103,
   "metadata": {},
   "outputs": [
    {
     "data": {
      "text/html": [
       "<style>#sk-container-id-8 {color: black;}#sk-container-id-8 pre{padding: 0;}#sk-container-id-8 div.sk-toggleable {background-color: white;}#sk-container-id-8 label.sk-toggleable__label {cursor: pointer;display: block;width: 100%;margin-bottom: 0;padding: 0.3em;box-sizing: border-box;text-align: center;}#sk-container-id-8 label.sk-toggleable__label-arrow:before {content: \"▸\";float: left;margin-right: 0.25em;color: #696969;}#sk-container-id-8 label.sk-toggleable__label-arrow:hover:before {color: black;}#sk-container-id-8 div.sk-estimator:hover label.sk-toggleable__label-arrow:before {color: black;}#sk-container-id-8 div.sk-toggleable__content {max-height: 0;max-width: 0;overflow: hidden;text-align: left;background-color: #f0f8ff;}#sk-container-id-8 div.sk-toggleable__content pre {margin: 0.2em;color: black;border-radius: 0.25em;background-color: #f0f8ff;}#sk-container-id-8 input.sk-toggleable__control:checked~div.sk-toggleable__content {max-height: 200px;max-width: 100%;overflow: auto;}#sk-container-id-8 input.sk-toggleable__control:checked~label.sk-toggleable__label-arrow:before {content: \"▾\";}#sk-container-id-8 div.sk-estimator input.sk-toggleable__control:checked~label.sk-toggleable__label {background-color: #d4ebff;}#sk-container-id-8 div.sk-label input.sk-toggleable__control:checked~label.sk-toggleable__label {background-color: #d4ebff;}#sk-container-id-8 input.sk-hidden--visually {border: 0;clip: rect(1px 1px 1px 1px);clip: rect(1px, 1px, 1px, 1px);height: 1px;margin: -1px;overflow: hidden;padding: 0;position: absolute;width: 1px;}#sk-container-id-8 div.sk-estimator {font-family: monospace;background-color: #f0f8ff;border: 1px dotted black;border-radius: 0.25em;box-sizing: border-box;margin-bottom: 0.5em;}#sk-container-id-8 div.sk-estimator:hover {background-color: #d4ebff;}#sk-container-id-8 div.sk-parallel-item::after {content: \"\";width: 100%;border-bottom: 1px solid gray;flex-grow: 1;}#sk-container-id-8 div.sk-label:hover label.sk-toggleable__label {background-color: #d4ebff;}#sk-container-id-8 div.sk-serial::before {content: \"\";position: absolute;border-left: 1px solid gray;box-sizing: border-box;top: 0;bottom: 0;left: 50%;z-index: 0;}#sk-container-id-8 div.sk-serial {display: flex;flex-direction: column;align-items: center;background-color: white;padding-right: 0.2em;padding-left: 0.2em;position: relative;}#sk-container-id-8 div.sk-item {position: relative;z-index: 1;}#sk-container-id-8 div.sk-parallel {display: flex;align-items: stretch;justify-content: center;background-color: white;position: relative;}#sk-container-id-8 div.sk-item::before, #sk-container-id-8 div.sk-parallel-item::before {content: \"\";position: absolute;border-left: 1px solid gray;box-sizing: border-box;top: 0;bottom: 0;left: 50%;z-index: -1;}#sk-container-id-8 div.sk-parallel-item {display: flex;flex-direction: column;z-index: 1;position: relative;background-color: white;}#sk-container-id-8 div.sk-parallel-item:first-child::after {align-self: flex-end;width: 50%;}#sk-container-id-8 div.sk-parallel-item:last-child::after {align-self: flex-start;width: 50%;}#sk-container-id-8 div.sk-parallel-item:only-child::after {width: 0;}#sk-container-id-8 div.sk-dashed-wrapped {border: 1px dashed gray;margin: 0 0.4em 0.5em 0.4em;box-sizing: border-box;padding-bottom: 0.4em;background-color: white;}#sk-container-id-8 div.sk-label label {font-family: monospace;font-weight: bold;display: inline-block;line-height: 1.2em;}#sk-container-id-8 div.sk-label-container {text-align: center;}#sk-container-id-8 div.sk-container {/* jupyter's `normalize.less` sets `[hidden] { display: none; }` but bootstrap.min.css set `[hidden] { display: none !important; }` so we also need the `!important` here to be able to override the default hidden behavior on the sphinx rendered scikit-learn.org. See: https://github.com/scikit-learn/scikit-learn/issues/21755 */display: inline-block !important;position: relative;}#sk-container-id-8 div.sk-text-repr-fallback {display: none;}</style><div id=\"sk-container-id-8\" class=\"sk-top-container\"><div class=\"sk-text-repr-fallback\"><pre>RandomForestClassifier(random_state=2)</pre><b>In a Jupyter environment, please rerun this cell to show the HTML representation or trust the notebook. <br />On GitHub, the HTML representation is unable to render, please try loading this page with nbviewer.org.</b></div><div class=\"sk-container\" hidden><div class=\"sk-item\"><div class=\"sk-estimator sk-toggleable\"><input class=\"sk-toggleable__control sk-hidden--visually\" id=\"sk-estimator-id-12\" type=\"checkbox\" checked><label for=\"sk-estimator-id-12\" class=\"sk-toggleable__label sk-toggleable__label-arrow\">RandomForestClassifier</label><div class=\"sk-toggleable__content\"><pre>RandomForestClassifier(random_state=2)</pre></div></div></div></div></div>"
      ],
      "text/plain": [
       "RandomForestClassifier(random_state=2)"
      ]
     },
     "execution_count": 103,
     "metadata": {},
     "output_type": "execute_result"
    }
   ],
   "source": [
    "bow_model.fit(X_bow, y_train)"
   ]
  },
  {
   "cell_type": "code",
   "execution_count": 104,
   "metadata": {},
   "outputs": [
    {
     "data": {
      "text/plain": [
       "<Axes: >"
      ]
     },
     "execution_count": 104,
     "metadata": {},
     "output_type": "execute_result"
    },
    {
     "data": {
      "image/png": "[encoded data removed]",
      "text/plain": [
       "<Figure size 1080x720 with 1 Axes>"
      ]
     },
     "metadata": {},
     "output_type": "display_data"
    }
   ],
   "source": [
    "pd.Series(bow_model.feature_importances_, index=bow.vocabulary_).sort_values().tail(20).plot.barh(figsize=(15, 10))"
   ]
  },
  {
   "cell_type": "code",
   "execution_count": 105,
   "metadata": {},
   "outputs": [
    {
     "name": "stdout",
     "output_type": "stream",
     "text": [
      "Number of trees: 100\n",
      "Trees depth (mean): 99.81\n"
     ]
    }
   ],
   "source": [
    "bow_estimators = bow_model.estimators_\n",
    "print(\"Number of trees:\", len(bow_estimators))\n",
    "print(\"Trees depth (mean):\", np.mean([tree.get_depth() for tree in bow_estimators]))"
   ]
  },
  {
   "cell_type": "code",
   "execution_count": 106,
   "metadata": {},
   "outputs": [],
   "source": [
    "y_train_bow_predict = bow_model.predict(X_bow)\n",
    "y_test_bow_predict = bow_model.predict(bow.transform(X_test))"
   ]
  },
  {
   "cell_type": "code",
   "execution_count": 107,
   "metadata": {},
   "outputs": [
    {
     "data": {
      "text/plain": [
       "<sklearn.metrics._plot.confusion_matrix.ConfusionMatrixDisplay at 0x2908679b3d0>"
      ]
     },
     "execution_count": 107,
     "metadata": {},
     "output_type": "execute_result"
    },
    {
     "data": {
      "image/png": "[encoded data removed]",
      "text/plain": [
       "<Figure size 432x288 with 2 Axes>"
      ]
     },
     "metadata": {},
     "output_type": "display_data"
    }
   ],
   "source": [
    "ConfusionMatrixDisplay.from_predictions(y_train, y_train_bow_predict)"
   ]
  },
  {
   "cell_type": "code",
   "execution_count": 108,
   "metadata": {},
   "outputs": [
    {
     "data": {
      "text/plain": [
       "<sklearn.metrics._plot.confusion_matrix.ConfusionMatrixDisplay at 0x29086542790>"
      ]
     },
     "execution_count": 108,
     "metadata": {},
     "output_type": "execute_result"
    },
    {
     "data": {
      "image/png": "[encoded data removed]",
      "text/plain": [
       "<Figure size 432x288 with 2 Axes>"
      ]
     },
     "metadata": {},
     "output_type": "display_data"
    }
   ],
   "source": [
    "ConfusionMatrixDisplay.from_predictions(y_test, y_test_bow_predict)"
   ]
  },
  {
   "cell_type": "code",
   "execution_count": 109,
   "metadata": {},
   "outputs": [
    {
     "name": "stdout",
     "output_type": "stream",
     "text": [
      "Precision Score :  1.0\n",
      "Recall Score :  1.0\n",
      "F1: 1.0\n"
     ]
    },
    {
     "name": "stderr",
     "output_type": "stream",
     "text": [
      "C:\\Users\\juanm\\AppData\\Roaming\\Python\\Python39\\site-packages\\sklearn\\metrics\\_classification.py:1521: UserWarning: Note that pos_label (set to 'positive') is ignored when average != 'binary' (got 'micro'). You may use labels=[pos_label] to specify a single positive class.\n",
      "  warnings.warn(\n",
      "C:\\Users\\juanm\\AppData\\Roaming\\Python\\Python39\\site-packages\\sklearn\\metrics\\_classification.py:1521: UserWarning: Note that pos_label (set to 'positive') is ignored when average != 'binary' (got 'micro'). You may use labels=[pos_label] to specify a single positive class.\n",
      "  warnings.warn(\n",
      "C:\\Users\\juanm\\AppData\\Roaming\\Python\\Python39\\site-packages\\sklearn\\metrics\\_classification.py:1521: UserWarning: Note that pos_label (set to 'positive') is ignored when average != 'binary' (got 'micro'). You may use labels=[pos_label] to specify a single positive class.\n",
      "  warnings.warn(\n"
     ]
    }
   ],
   "source": [
    "print(\"Precision Score : \",precision_score(y_train, y_train_bow_predict, \n",
    "                                           pos_label='positive',\n",
    "                                           average='micro'))\n",
    "print(\"Recall Score : \",recall_score(y_train, y_train_bow_predict, \n",
    "                                           pos_label='positive',\n",
    "                                           average='micro'))\n",
    "print(\"F1:\", f1_score(y_train, y_train_bow_predict, \n",
    "                                           pos_label='positive',\n",
    "                                           average='micro'))"
   ]
  },
  {
   "cell_type": "markdown",
   "metadata": {},
   "source": [
    "The precision score is a measure of a model's ability to correctly identify positive predictions. It is calculated as the ratio of true positives to the sum of true positives and false positives. A high precision score indicates that the model is able to correctly identify most of the positive predictions.\n",
    "\n",
    "The recall score is a measure of a model's ability to correctly identify positive samples. It is calculated as the ratio of true positives to the sum of true positives and false negatives. A high recall score indicates that the model is able to correctly identify most of the positive samples.\n",
    "\n",
    "The F1 score is a measure of a model's accuracy that takes both precision and recall into account. It is calculated as the harmonic mean of precision and recall. A high F1 score indicates that the model is able to correctly identify most of the positive samples while minimizing false positives.\n",
    "\n",
    "The `average` argument specifies the type of averaging performed on the data. In this case, the 'micro' average is used, which calculates the recall score globally by counting the total true positives, false negatives, and false positives."
   ]
  },
  {
   "cell_type": "code",
   "execution_count": 110,
   "metadata": {},
   "outputs": [
    {
     "name": "stdout",
     "output_type": "stream",
     "text": [
      "Precision Score :  0.9811111111111112\n",
      "Recall Score :  0.9811111111111112\n",
      "F1: 0.9811111111111112\n"
     ]
    },
    {
     "name": "stderr",
     "output_type": "stream",
     "text": [
      "C:\\Users\\juanm\\AppData\\Roaming\\Python\\Python39\\site-packages\\sklearn\\metrics\\_classification.py:1521: UserWarning: Note that pos_label (set to 'positive') is ignored when average != 'binary' (got 'micro'). You may use labels=[pos_label] to specify a single positive class.\n",
      "  warnings.warn(\n",
      "C:\\Users\\juanm\\AppData\\Roaming\\Python\\Python39\\site-packages\\sklearn\\metrics\\_classification.py:1521: UserWarning: Note that pos_label (set to 'positive') is ignored when average != 'binary' (got 'micro'). You may use labels=[pos_label] to specify a single positive class.\n",
      "  warnings.warn(\n",
      "C:\\Users\\juanm\\AppData\\Roaming\\Python\\Python39\\site-packages\\sklearn\\metrics\\_classification.py:1521: UserWarning: Note that pos_label (set to 'positive') is ignored when average != 'binary' (got 'micro'). You may use labels=[pos_label] to specify a single positive class.\n",
      "  warnings.warn(\n"
     ]
    }
   ],
   "source": [
    "print(\"Precision Score : \",precision_score(y_test, y_test_bow_predict, \n",
    "                                           pos_label='positive',\n",
    "                                           average='micro'))\n",
    "print(\"Recall Score : \",recall_score(y_test, y_test_bow_predict, \n",
    "                                           pos_label='positive',\n",
    "                                           average='micro'))\n",
    "print(\"F1:\", f1_score(y_test, y_test_bow_predict, \n",
    "                                           pos_label='positive',\n",
    "                                           average='micro'))"
   ]
  },
  {
   "cell_type": "markdown",
   "metadata": {},
   "source": [
    "## Tercer modelo Multinomial Naive Bayes"
   ]
  },
  {
   "cell_type": "code",
   "execution_count": 111,
   "metadata": {},
   "outputs": [],
   "source": [
    "vect= CountVectorizer(analyzer='word', stop_words=stop_words, lowercase=True)"
   ]
  },
  {
   "cell_type": "code",
   "execution_count": 112,
   "metadata": {},
   "outputs": [],
   "source": [
    "x_train_vect = vect.fit_transform(X_train)\n",
    "x_test_vect = vect.transform(X_test)"
   ]
  },
  {
   "cell_type": "code",
   "execution_count": 113,
   "metadata": {},
   "outputs": [],
   "source": [
    "cb= MultinomialNB()"
   ]
  },
  {
   "cell_type": "code",
   "execution_count": 114,
   "metadata": {},
   "outputs": [
    {
     "data": {
      "text/html": [
       "<style>#sk-container-id-9 {color: black;}#sk-container-id-9 pre{padding: 0;}#sk-container-id-9 div.sk-toggleable {background-color: white;}#sk-container-id-9 label.sk-toggleable__label {cursor: pointer;display: block;width: 100%;margin-bottom: 0;padding: 0.3em;box-sizing: border-box;text-align: center;}#sk-container-id-9 label.sk-toggleable__label-arrow:before {content: \"▸\";float: left;margin-right: 0.25em;color: #696969;}#sk-container-id-9 label.sk-toggleable__label-arrow:hover:before {color: black;}#sk-container-id-9 div.sk-estimator:hover label.sk-toggleable__label-arrow:before {color: black;}#sk-container-id-9 div.sk-toggleable__content {max-height: 0;max-width: 0;overflow: hidden;text-align: left;background-color: #f0f8ff;}#sk-container-id-9 div.sk-toggleable__content pre {margin: 0.2em;color: black;border-radius: 0.25em;background-color: #f0f8ff;}#sk-container-id-9 input.sk-toggleable__control:checked~div.sk-toggleable__content {max-height: 200px;max-width: 100%;overflow: auto;}#sk-container-id-9 input.sk-toggleable__control:checked~label.sk-toggleable__label-arrow:before {content: \"▾\";}#sk-container-id-9 div.sk-estimator input.sk-toggleable__control:checked~label.sk-toggleable__label {background-color: #d4ebff;}#sk-container-id-9 div.sk-label input.sk-toggleable__control:checked~label.sk-toggleable__label {background-color: #d4ebff;}#sk-container-id-9 input.sk-hidden--visually {border: 0;clip: rect(1px 1px 1px 1px);clip: rect(1px, 1px, 1px, 1px);height: 1px;margin: -1px;overflow: hidden;padding: 0;position: absolute;width: 1px;}#sk-container-id-9 div.sk-estimator {font-family: monospace;background-color: #f0f8ff;border: 1px dotted black;border-radius: 0.25em;box-sizing: border-box;margin-bottom: 0.5em;}#sk-container-id-9 div.sk-estimator:hover {background-color: #d4ebff;}#sk-container-id-9 div.sk-parallel-item::after {content: \"\";width: 100%;border-bottom: 1px solid gray;flex-grow: 1;}#sk-container-id-9 div.sk-label:hover label.sk-toggleable__label {background-color: #d4ebff;}#sk-container-id-9 div.sk-serial::before {content: \"\";position: absolute;border-left: 1px solid gray;box-sizing: border-box;top: 0;bottom: 0;left: 50%;z-index: 0;}#sk-container-id-9 div.sk-serial {display: flex;flex-direction: column;align-items: center;background-color: white;padding-right: 0.2em;padding-left: 0.2em;position: relative;}#sk-container-id-9 div.sk-item {position: relative;z-index: 1;}#sk-container-id-9 div.sk-parallel {display: flex;align-items: stretch;justify-content: center;background-color: white;position: relative;}#sk-container-id-9 div.sk-item::before, #sk-container-id-9 div.sk-parallel-item::before {content: \"\";position: absolute;border-left: 1px solid gray;box-sizing: border-box;top: 0;bottom: 0;left: 50%;z-index: -1;}#sk-container-id-9 div.sk-parallel-item {display: flex;flex-direction: column;z-index: 1;position: relative;background-color: white;}#sk-container-id-9 div.sk-parallel-item:first-child::after {align-self: flex-end;width: 50%;}#sk-container-id-9 div.sk-parallel-item:last-child::after {align-self: flex-start;width: 50%;}#sk-container-id-9 div.sk-parallel-item:only-child::after {width: 0;}#sk-container-id-9 div.sk-dashed-wrapped {border: 1px dashed gray;margin: 0 0.4em 0.5em 0.4em;box-sizing: border-box;padding-bottom: 0.4em;background-color: white;}#sk-container-id-9 div.sk-label label {font-family: monospace;font-weight: bold;display: inline-block;line-height: 1.2em;}#sk-container-id-9 div.sk-label-container {text-align: center;}#sk-container-id-9 div.sk-container {/* jupyter's `normalize.less` sets `[hidden] { display: none; }` but bootstrap.min.css set `[hidden] { display: none !important; }` so we also need the `!important` here to be able to override the default hidden behavior on the sphinx rendered scikit-learn.org. See: https://github.com/scikit-learn/scikit-learn/issues/21755 */display: inline-block !important;position: relative;}#sk-container-id-9 div.sk-text-repr-fallback {display: none;}</style><div id=\"sk-container-id-9\" class=\"sk-top-container\"><div class=\"sk-text-repr-fallback\"><pre>MultinomialNB()</pre><b>In a Jupyter environment, please rerun this cell to show the HTML representation or trust the notebook. <br />On GitHub, the HTML representation is unable to render, please try loading this page with nbviewer.org.</b></div><div class=\"sk-container\" hidden><div class=\"sk-item\"><div class=\"sk-estimator sk-toggleable\"><input class=\"sk-toggleable__control sk-hidden--visually\" id=\"sk-estimator-id-13\" type=\"checkbox\" checked><label for=\"sk-estimator-id-13\" class=\"sk-toggleable__label sk-toggleable__label-arrow\">MultinomialNB</label><div class=\"sk-toggleable__content\"><pre>MultinomialNB()</pre></div></div></div></div></div>"
      ],
      "text/plain": [
       "MultinomialNB()"
      ]
     },
     "execution_count": 114,
     "metadata": {},
     "output_type": "execute_result"
    }
   ],
   "source": [
    "cb.fit(x_train_vect, y_train)"
   ]
  },
  {
   "cell_type": "code",
   "execution_count": 115,
   "metadata": {},
   "outputs": [],
   "source": [
    "y_train_cb_predict = cb.predict(x_train_vect)"
   ]
  },
  {
   "cell_type": "code",
   "execution_count": 116,
   "metadata": {},
   "outputs": [],
   "source": [
    "y_test_cb_predict = cb.predict(vect.transform(X_test))"
   ]
  },
  {
   "cell_type": "code",
   "execution_count": 117,
   "metadata": {},
   "outputs": [
    {
     "data": {
      "text/plain": [
       "<Axes: >"
      ]
     },
     "execution_count": 117,
     "metadata": {},
     "output_type": "execute_result"
    },
    {
     "data": {
      "image/png": "[encoded data removed]",
      "text/plain": [
       "<Figure size 1080x720 with 1 Axes>"
      ]
     },
     "metadata": {},
     "output_type": "display_data"
    }
   ],
   "source": [
    "## graph the most important  words in the model \n",
    "feature_log_prob = cb.feature_log_prob_\n",
    "\n",
    "# Create a Pandas DataFrame to display the results\n",
    "word_probabilities = pd.DataFrame(data=feature_log_prob, columns=vect.get_feature_names_out(), index=cb.classes_)\n",
    "\n",
    "# Transpose the DataFrame for easier visualization\n",
    "word_probabilities = word_probabilities.T\n",
    "\n",
    "# Calculate the difference between the log probabilities of different classes\n",
    "word_probabilities['Class_Difference'] = word_probabilities.max(axis=1) - word_probabilities.min(axis=1)\n",
    "\n",
    "# Sort by the class difference in descending order and select the top 20\n",
    "top_words = word_probabilities.sort_values(by='Class_Difference', ascending=False).head(20)\n",
    "\n",
    "# Plot the top words\n",
    "top_words['Class_Difference'].plot.barh(figsize=(15, 10))"
   ]
  },
  {
   "cell_type": "code",
   "execution_count": 118,
   "metadata": {},
   "outputs": [
    {
     "data": {
      "text/plain": [
       "<sklearn.metrics._plot.confusion_matrix.ConfusionMatrixDisplay at 0x2908677dcd0>"
      ]
     },
     "execution_count": 118,
     "metadata": {},
     "output_type": "execute_result"
    },
    {
     "data": {
      "image/png": "[encoded data removed]",
      "text/plain": [
       "<Figure size 432x288 with 2 Axes>"
      ]
     },
     "metadata": {},
     "output_type": "display_data"
    }
   ],
   "source": [
    "ConfusionMatrixDisplay.from_predictions(y_test, y_test_cb_predict)"
   ]
  },
  {
   "cell_type": "code",
   "execution_count": 119,
   "metadata": {},
   "outputs": [
    {
     "name": "stdout",
     "output_type": "stream",
     "text": [
      "Precision Score :  0.9822222222222222\n",
      "Recall Score :  0.9822222222222222\n",
      "F1: 0.9822222222222222\n"
     ]
    },
    {
     "name": "stderr",
     "output_type": "stream",
     "text": [
      "C:\\Users\\juanm\\AppData\\Roaming\\Python\\Python39\\site-packages\\sklearn\\metrics\\_classification.py:1521: UserWarning: Note that pos_label (set to 'positive') is ignored when average != 'binary' (got 'micro'). You may use labels=[pos_label] to specify a single positive class.\n",
      "  warnings.warn(\n",
      "C:\\Users\\juanm\\AppData\\Roaming\\Python\\Python39\\site-packages\\sklearn\\metrics\\_classification.py:1521: UserWarning: Note that pos_label (set to 'positive') is ignored when average != 'binary' (got 'micro'). You may use labels=[pos_label] to specify a single positive class.\n",
      "  warnings.warn(\n",
      "C:\\Users\\juanm\\AppData\\Roaming\\Python\\Python39\\site-packages\\sklearn\\metrics\\_classification.py:1521: UserWarning: Note that pos_label (set to 'positive') is ignored when average != 'binary' (got 'micro'). You may use labels=[pos_label] to specify a single positive class.\n",
      "  warnings.warn(\n"
     ]
    }
   ],
   "source": [
    "\n",
    "print(\"Precision Score : \",precision_score(y_test, y_test_cb_predict, \n",
    "                                           pos_label='positive',\n",
    "                                           average='micro'))\n",
    "print(\"Recall Score : \",recall_score(y_test, y_test_cb_predict, \n",
    "                                           pos_label='positive',\n",
    "                                           average='micro'))\n",
    "print(\"F1:\", f1_score(y_test, y_test_cb_predict, \n",
    "                                           pos_label='positive',\n",
    "                                           average='micro'))"
   ]
  },
  {
   "cell_type": "markdown",
   "metadata": {},
   "source": [
    "## Segundo modelo"
   ]
  },
  {
   "cell_type": "code",
   "execution_count": 120,
   "metadata": {},
   "outputs": [],
   "source": [
    "tfidf = TfidfVectorizer(tokenizer=word_tokenize, stop_words=stop_words, lowercase=True)"
   ]
  },
  {
   "cell_type": "code",
   "execution_count": 121,
   "metadata": {},
   "outputs": [
    {
     "name": "stderr",
     "output_type": "stream",
     "text": [
      "C:\\Users\\juanm\\AppData\\Roaming\\Python\\Python39\\site-packages\\sklearn\\feature_extraction\\text.py:525: UserWarning: The parameter 'token_pattern' will not be used since 'tokenizer' is not None'\n",
      "  warnings.warn(\n"
     ]
    }
   ],
   "source": [
    "X_tfid = tfidf.fit_transform(X_train)"
   ]
  },
  {
   "cell_type": "code",
   "execution_count": 122,
   "metadata": {},
   "outputs": [],
   "source": [
    "tf_idf_model = RandomForestClassifier(random_state=3)"
   ]
  },
  {
   "cell_type": "code",
   "execution_count": 123,
   "metadata": {},
   "outputs": [
    {
     "data": {
      "text/html": [
       "<style>#sk-container-id-10 {color: black;}#sk-container-id-10 pre{padding: 0;}#sk-container-id-10 div.sk-toggleable {background-color: white;}#sk-container-id-10 label.sk-toggleable__label {cursor: pointer;display: block;width: 100%;margin-bottom: 0;padding: 0.3em;box-sizing: border-box;text-align: center;}#sk-container-id-10 label.sk-toggleable__label-arrow:before {content: \"▸\";float: left;margin-right: 0.25em;color: #696969;}#sk-container-id-10 label.sk-toggleable__label-arrow:hover:before {color: black;}#sk-container-id-10 div.sk-estimator:hover label.sk-toggleable__label-arrow:before {color: black;}#sk-container-id-10 div.sk-toggleable__content {max-height: 0;max-width: 0;overflow: hidden;text-align: left;background-color: #f0f8ff;}#sk-container-id-10 div.sk-toggleable__content pre {margin: 0.2em;color: black;border-radius: 0.25em;background-color: #f0f8ff;}#sk-container-id-10 input.sk-toggleable__control:checked~div.sk-toggleable__content {max-height: 200px;max-width: 100%;overflow: auto;}#sk-container-id-10 input.sk-toggleable__control:checked~label.sk-toggleable__label-arrow:before {content: \"▾\";}#sk-container-id-10 div.sk-estimator input.sk-toggleable__control:checked~label.sk-toggleable__label {background-color: #d4ebff;}#sk-container-id-10 div.sk-label input.sk-toggleable__control:checked~label.sk-toggleable__label {background-color: #d4ebff;}#sk-container-id-10 input.sk-hidden--visually {border: 0;clip: rect(1px 1px 1px 1px);clip: rect(1px, 1px, 1px, 1px);height: 1px;margin: -1px;overflow: hidden;padding: 0;position: absolute;width: 1px;}#sk-container-id-10 div.sk-estimator {font-family: monospace;background-color: #f0f8ff;border: 1px dotted black;border-radius: 0.25em;box-sizing: border-box;margin-bottom: 0.5em;}#sk-container-id-10 div.sk-estimator:hover {background-color: #d4ebff;}#sk-container-id-10 div.sk-parallel-item::after {content: \"\";width: 100%;border-bottom: 1px solid gray;flex-grow: 1;}#sk-container-id-10 div.sk-label:hover label.sk-toggleable__label {background-color: #d4ebff;}#sk-container-id-10 div.sk-serial::before {content: \"\";position: absolute;border-left: 1px solid gray;box-sizing: border-box;top: 0;bottom: 0;left: 50%;z-index: 0;}#sk-container-id-10 div.sk-serial {display: flex;flex-direction: column;align-items: center;background-color: white;padding-right: 0.2em;padding-left: 0.2em;position: relative;}#sk-container-id-10 div.sk-item {position: relative;z-index: 1;}#sk-container-id-10 div.sk-parallel {display: flex;align-items: stretch;justify-content: center;background-color: white;position: relative;}#sk-container-id-10 div.sk-item::before, #sk-container-id-10 div.sk-parallel-item::before {content: \"\";position: absolute;border-left: 1px solid gray;box-sizing: border-box;top: 0;bottom: 0;left: 50%;z-index: -1;}#sk-container-id-10 div.sk-parallel-item {display: flex;flex-direction: column;z-index: 1;position: relative;background-color: white;}#sk-container-id-10 div.sk-parallel-item:first-child::after {align-self: flex-end;width: 50%;}#sk-container-id-10 div.sk-parallel-item:last-child::after {align-self: flex-start;width: 50%;}#sk-container-id-10 div.sk-parallel-item:only-child::after {width: 0;}#sk-container-id-10 div.sk-dashed-wrapped {border: 1px dashed gray;margin: 0 0.4em 0.5em 0.4em;box-sizing: border-box;padding-bottom: 0.4em;background-color: white;}#sk-container-id-10 div.sk-label label {font-family: monospace;font-weight: bold;display: inline-block;line-height: 1.2em;}#sk-container-id-10 div.sk-label-container {text-align: center;}#sk-container-id-10 div.sk-container {/* jupyter's `normalize.less` sets `[hidden] { display: none; }` but bootstrap.min.css set `[hidden] { display: none !important; }` so we also need the `!important` here to be able to override the default hidden behavior on the sphinx rendered scikit-learn.org. See: https://github.com/scikit-learn/scikit-learn/issues/21755 */display: inline-block !important;position: relative;}#sk-container-id-10 div.sk-text-repr-fallback {display: none;}</style><div id=\"sk-container-id-10\" class=\"sk-top-container\"><div class=\"sk-text-repr-fallback\"><pre>RandomForestClassifier(random_state=3)</pre><b>In a Jupyter environment, please rerun this cell to show the HTML representation or trust the notebook. <br />On GitHub, the HTML representation is unable to render, please try loading this page with nbviewer.org.</b></div><div class=\"sk-container\" hidden><div class=\"sk-item\"><div class=\"sk-estimator sk-toggleable\"><input class=\"sk-toggleable__control sk-hidden--visually\" id=\"sk-estimator-id-14\" type=\"checkbox\" checked><label for=\"sk-estimator-id-14\" class=\"sk-toggleable__label sk-toggleable__label-arrow\">RandomForestClassifier</label><div class=\"sk-toggleable__content\"><pre>RandomForestClassifier(random_state=3)</pre></div></div></div></div></div>"
      ],
      "text/plain": [
       "RandomForestClassifier(random_state=3)"
      ]
     },
     "execution_count": 123,
     "metadata": {},
     "output_type": "execute_result"
    }
   ],
   "source": [
    "tf_idf_model.fit(X_tfid, y_train)"
   ]
  },
  {
   "cell_type": "code",
   "execution_count": 124,
   "metadata": {},
   "outputs": [
    {
     "data": {
      "text/plain": [
       "<Axes: >"
      ]
     },
     "execution_count": 124,
     "metadata": {},
     "output_type": "execute_result"
    },
    {
     "data": {
      "image/png": "[encoded data removed]",
      "text/plain": [
       "<Figure size 1080x720 with 1 Axes>"
      ]
     },
     "metadata": {},
     "output_type": "display_data"
    }
   ],
   "source": [
    "pd.Series(tf_idf_model.feature_importances_, index=tfidf.vocabulary_).sort_values().tail(20).plot.barh(figsize=(15, 10))"
   ]
  },
  {
   "cell_type": "code",
   "execution_count": 125,
   "metadata": {},
   "outputs": [],
   "source": [
    "y_train_tfidf_predict = tf_idf_model.predict(X_tfid)\n",
    "y_test_tfidf_predict = tf_idf_model.predict(tfidf.transform(X_test))"
   ]
  },
  {
   "cell_type": "code",
   "execution_count": 126,
   "metadata": {},
   "outputs": [
    {
     "data": {
      "text/plain": [
       "<sklearn.metrics._plot.confusion_matrix.ConfusionMatrixDisplay at 0x29086eadf40>"
      ]
     },
     "execution_count": 126,
     "metadata": {},
     "output_type": "execute_result"
    },
    {
     "data": {
      "image/png": "[encoded data removed]",
      "text/plain": [
       "<Figure size 432x288 with 2 Axes>"
      ]
     },
     "metadata": {},
     "output_type": "display_data"
    }
   ],
   "source": [
    "ConfusionMatrixDisplay.from_predictions(y_test, y_test_tfidf_predict)"
   ]
  },
  {
   "cell_type": "code",
   "execution_count": 137,
   "metadata": {},
   "outputs": [
    {
     "name": "stdout",
     "output_type": "stream",
     "text": [
      "Precision Score :  0.9811111111111112\n",
      "Recall Score :  0.9811111111111112\n"
     ]
    },
    {
     "name": "stderr",
     "output_type": "stream",
     "text": [
      "C:\\Users\\juanm\\AppData\\Roaming\\Python\\Python39\\site-packages\\sklearn\\metrics\\_classification.py:1521: UserWarning: Note that pos_label (set to 'positive') is ignored when average != 'binary' (got 'micro'). You may use labels=[pos_label] to specify a single positive class.\n",
      "  warnings.warn(\n",
      "C:\\Users\\juanm\\AppData\\Roaming\\Python\\Python39\\site-packages\\sklearn\\metrics\\_classification.py:1521: UserWarning: Note that pos_label (set to 'positive') is ignored when average != 'binary' (got 'micro'). You may use labels=[pos_label] to specify a single positive class.\n",
      "  warnings.warn(\n"
     ]
    }
   ],
   "source": [
    "print(\"Precision Score : \",precision_score(y_test, y_test_tfidf_predict, \n",
    "                                           pos_label='positive',\n",
    "                                           average='micro'))\n",
    "print(\"Recall Score : \",recall_score(y_test, y_test_tfidf_predict, \n",
    "                                           pos_label='positive',\n",
    "                                           average='micro'))"
   ]
  },
  {
   "cell_type": "markdown",
   "metadata": {},
   "source": [
    "# Model Selection"
   ]
  },
  {
   "cell_type": "markdown",
   "metadata": {},
   "source": [
    "The `RandomizedSearchCV` class is used to perform a randomized search over a hyperparameter space for a given machine learning pipeline.\n",
    "\n",
    "The `RandomizedSearchCV` object takes several arguments. The first argument, `pipeline`, is the machine learning pipeline that will be optimized. The second argument, `param_grid`, is a dictionary of hyperparameters and their corresponding values that will be searched over. The `n_iter` argument specifies the number of parameter settings that are sampled. In this case, 10 parameter settings will be sampled.\n",
    "\n",
    "The `scoring` argument is a list of scoring metrics that will be used to evaluate the performance of the machine learning pipeline. In this case, the precision, recall, and F1 score will be used. The `refit` argument specifies which metric to use to choose the best parameters. In this case, the F1 score will be used.\n",
    "\n",
    "The `cv` argument specifies the number of folds to use for cross-validation. In this case, 10-fold cross-validation will be used. The `return_train_score` argument specifies whether to return the training scores in addition to the test scores. The `verbose` argument specifies the level of verbosity, with a higher value resulting in more output. Finally, the `random_state` argument sets the seed for the random number generator, which ensures that the same results are obtained each time the code is run.\n",
    "\n",
    "The resulting `RandomizedSearchCV` object can be used to fit the machine learning pipeline to the data and search over the hyperparameter space to find the best combination of hyperparameters that optimize the chosen metric.\n",
    "\n"
   ]
  },
  {
   "cell_type": "code",
   "execution_count": 128,
   "metadata": {},
   "outputs": [],
   "source": [
    "pipeline = Pipeline(steps = [\n",
    "    (\"vectorizer\", CountVectorizer(tokenizer=word_tokenize, stop_words=stop_words, lowercase=True)),\n",
    "    (\"classifier\", RandomForestClassifier(random_state=4))\n",
    "])"
   ]
  },
  {
   "cell_type": "code",
   "execution_count": 129,
   "metadata": {},
   "outputs": [],
   "source": [
    "param_grid = {\n",
    "    \"vectorizer\": [CountVectorizer(tokenizer=word_tokenize, stop_words=stop_words), TfidfVectorizer(tokenizer=word_tokenize, stop_words=stop_words)],\n",
    "    \"vectorizer__lowercase\": [True, False],\n",
    "    \"classifier__n_estimators\": [50, 100],\n",
    "    \"classifier__criterion\": ['gini', 'entropy'],\n",
    "    \"classifier__max_depth\": [25, 50, 75, 100]\n",
    "}"
   ]
  },
  {
   "cell_type": "code",
   "execution_count": 130,
   "metadata": {},
   "outputs": [],
   "source": [
    "#search = RandomizedSearchCV(pipeline, param_grid, n_iter=10, scoring=[\"precision\", \"recall\", \"f1\"], refit=\"f1\", cv=10, return_train_score=True, verbose=1, random_state=5)"
   ]
  },
  {
   "cell_type": "code",
   "execution_count": 131,
   "metadata": {},
   "outputs": [],
   "source": [
    "#search.fit(X_train, y_train)"
   ]
  },
  {
   "cell_type": "code",
   "execution_count": 132,
   "metadata": {},
   "outputs": [],
   "source": [
    "#search.best_params_"
   ]
  },
  {
   "cell_type": "code",
   "execution_count": 133,
   "metadata": {},
   "outputs": [],
   "source": [
    "#y_train_search_predict = search.best_estimator_.predict(X_train)\n",
    "#y_test_search_predict = search.best_estimator_.predict(X_test)"
   ]
  },
  {
   "cell_type": "code",
   "execution_count": 134,
   "metadata": {},
   "outputs": [
    {
     "ename": "NameError",
     "evalue": "name 'y_test_search_predict' is not defined",
     "output_type": "error",
     "traceback": [
      "\u001b[1;31m---------------------------------------------------------------------------\u001b[0m",
      "\u001b[1;31mNameError\u001b[0m                                 Traceback (most recent call last)",
      "\u001b[1;32mc:\\Users\\juanm\\OneDrive\\Documentos\\GitHub\\ProyectoBI\\modeloODS.ipynb Cell 72\u001b[0m line \u001b[0;36m<cell line: 1>\u001b[1;34m()\u001b[0m\n\u001b[1;32m----> <a href='vscode-notebook-cell:/c%3A/Users/juanm/OneDrive/Documentos/GitHub/ProyectoBI/modeloODS.ipynb#Y114sZmlsZQ%3D%3D?line=0'>1</a>\u001b[0m ConfusionMatrixDisplay\u001b[39m.\u001b[39mfrom_predictions(y_test, y_test_search_predict)\n",
      "\u001b[1;31mNameError\u001b[0m: name 'y_test_search_predict' is not defined"
     ]
    }
   ],
   "source": [
    "ConfusionMatrixDisplay.from_predictions(y_test, y_test_search_predict)"
   ]
  },
  {
   "cell_type": "code",
   "execution_count": null,
   "metadata": {},
   "outputs": [
    {
     "name": "stdout",
     "output_type": "stream",
     "text": [
      "Precision Score :  0.983346372688478\n",
      "Recall Score :  0.9833333333333333\n",
      "F1: 0.9833106656592145\n"
     ]
    },
    {
     "name": "stderr",
     "output_type": "stream",
     "text": [
      "C:\\Users\\juanm\\AppData\\Roaming\\Python\\Python39\\site-packages\\sklearn\\metrics\\_classification.py:1521: UserWarning: Note that pos_label (set to 'positive') is ignored when average != 'binary' (got 'weighted'). You may use labels=[pos_label] to specify a single positive class.\n",
      "  warnings.warn(\n",
      "C:\\Users\\juanm\\AppData\\Roaming\\Python\\Python39\\site-packages\\sklearn\\metrics\\_classification.py:1521: UserWarning: Note that pos_label (set to 'positive') is ignored when average != 'binary' (got 'weighted'). You may use labels=[pos_label] to specify a single positive class.\n",
      "  warnings.warn(\n",
      "C:\\Users\\juanm\\AppData\\Roaming\\Python\\Python39\\site-packages\\sklearn\\metrics\\_classification.py:1521: UserWarning: Note that pos_label (set to 'positive') is ignored when average != 'binary' (got 'weighted'). You may use labels=[pos_label] to specify a single positive class.\n",
      "  warnings.warn(\n"
     ]
    }
   ],
   "source": [
    "print(\"Precision Score : \",precision_score(y_test, y_test_search_predict, \n",
    "                                           pos_label='positive',\n",
    "                                           average='weighted'))\n",
    "print(\"Recall Score : \",recall_score(y_test, y_test_search_predict, \n",
    "                                           pos_label='positive',\n",
    "                                           average='weighted'))\n",
    "print(\"F1:\", f1_score(y_test, y_test_search_predict, \n",
    "                                           pos_label='positive',\n",
    "                                           average='weighted'))"
   ]
  },
  {
   "cell_type": "code",
   "execution_count": null,
   "metadata": {},
   "outputs": [
    {
     "data": {
      "text/plain": [
       "['pipe.joblib']"
      ]
     },
     "execution_count": 253,
     "metadata": {},
     "output_type": "execute_result"
    }
   ],
   "source": [
    "#export best model\n",
    "dump(search.best_estimator_, 'pipe.joblib')"
   ]
  },
  {
   "cell_type": "code",
   "execution_count": null,
   "metadata": {},
   "outputs": [],
   "source": [
    "pipeline_loaded = load('pipe.joblib')"
   ]
  },
  {
   "cell_type": "code",
   "execution_count": null,
   "metadata": {},
   "outputs": [],
   "source": [
    "df_new = pd.read_excel(\"data/SinEtiquetatest_cat_6716.xlsx\")\n"
   ]
  },
  {
   "cell_type": "code",
   "execution_count": null,
   "metadata": {},
   "outputs": [],
   "source": [
    "df_new['sdg'] = pipeline_loaded.predict(df_new[\"Textos_espanol\"])"
   ]
  },
  {
   "cell_type": "code",
   "execution_count": null,
   "metadata": {},
   "outputs": [
    {
     "data": {
      "text/html": [
       "<div>\n",
       "<style scoped>\n",
       "    .dataframe tbody tr th:only-of-type {\n",
       "        vertical-align: middle;\n",
       "    }\n",
       "\n",
       "    .dataframe tbody tr th {\n",
       "        vertical-align: top;\n",
       "    }\n",
       "\n",
       "    .dataframe thead th {\n",
       "        text-align: right;\n",
       "    }\n",
       "</style>\n",
       "<table border=\"1\" class=\"dataframe\">\n",
       "  <thead>\n",
       "    <tr style=\"text-align: right;\">\n",
       "      <th></th>\n",
       "      <th>Textos_espanol</th>\n",
       "      <th>sdg</th>\n",
       "    </tr>\n",
       "  </thead>\n",
       "  <tbody>\n",
       "    <tr>\n",
       "      <th>944</th>\n",
       "      <td>Las medidas coercitivas unilaterales son condenadas anualmente por la Asamblea General de la ONU por ser contrarias al derecho internacional y por tener efectos negativos sobre los derechos humanos y la economía de los países en desarrollo. Aunque la doctrina legal generalmente encuentra que las limitaciones de la coerción económica son un área gris del derecho internacional, estas resoluciones podrían ser indicativas de una prohibición emergente. Sin embargo, tras un examen más detallado, parecería que no satisfacen los criterios requeridos, desarrollados por la jurisprudencia y la doctrina internacionales, para establecer una nueva costumbre. Dicho esto, las resoluciones ilustran claramente una división entre los Estados desarrollados y en desarrollo sobre la legitimidad de las sanciones unilaterales que no deben descartarse. Con el fin de comprender cómo surgió esta división y cómo podemos superarla, el artículo procede a abordar los factores sociales que conducen a su creación.</td>\n",
       "      <td>16</td>\n",
       "    </tr>\n",
       "    <tr>\n",
       "      <th>168</th>\n",
       "      <td>PropÃ³sito - Existe poca investigaciÃ³n empÃrica sobre cÃ³mo han respondido las fuerzas de seguridad locales a la ciberdelincuencia. El objetivo de este trabajo es conocer: los organismos encargados de hacer cumplir la ley que los agentes creen que deberían ser los principales responsables de investigar los casos de ciberdelincuencia, sus percepciones sobre la capacidad actual de su organismo para responder a estos delitos y sus creencias sobre las mejores formas de mejorar la respuesta social a la ciberdelincuencia.DiseÃ±o/metodologÃa/enfoque - Los autores encuestaron a agentes de patrulla de los departamentos de policÃa metropolitana de Charlotte-Mecklenburg y Savannah-Chatham.Resultados - Los autores descubrieron que los agentes no creen que las fuerzas de seguridad locales deban ser las principales responsables de tratar los casos de ciberdelincuencia y tienen poca informaciÃ³n sobre cÃ³mo estÃ¡ abordando la ciberdelincuencia la direcciÃ³n superior. Los agentes indicaron que las mejores estrategias para hacer frente a la ciberdelincuencia eran un mayor cuidado de los ciudadanos en línea y mejoras en el sistema legal.Limitaciones/implicaciones de la investigación - Las fuerzas de seguridad locales ...</td>\n",
       "      <td>16</td>\n",
       "    </tr>\n",
       "    <tr>\n",
       "      <th>645</th>\n",
       "      <td>El Consejo Nacional de Investigación Energética (NERC) analizó los ahorros potenciales para diez empresas jordanas (hoteles, bancos y un centro de salud) si adoptaran medidas de eficiencia energética. Actualmente, el gobierno asigna menos del 0,5% de su presupuesto al medio ambiente (PNUMA, 2011). El establecimiento de políticas nacionales de crecimiento verde o planes de desarrollo económico que integren preocupaciones y oportunidades ambientales, y la asignación de fondos públicos adecuados y otros recursos muestran la determinación del gobierno para lograr objetivos de crecimiento verde y pueden ayudar a aumentar la confianza de los inversionistas. Jordania también es signataria de varios convenios ambientales: el Convenio Regional para la Conservación del Mar Rojo (1982), también conocido como el Convenio de Jeddah, el Convenio sobre la Diversidad Biológica (1993), el Convenio sobre Seguridad Nuclear (1994), la Convención de Lucha contra la Desertificación (1996), la Convención de Estocolmo sobre Contaminantes Orgánicos Persistentes (2002) y la Convención sobre Seguridad Nuclear (2009).</td>\n",
       "      <td>7</td>\n",
       "    </tr>\n",
       "    <tr>\n",
       "      <th>748</th>\n",
       "      <td>En comparación con los países nórdicos, los países bálticos muestran precios de electricidad más altos a largo plazo. La principal explicación de esto es una menor penetración de las energías renovables y la fuerte conexión con Europa Continental (a través del interconector LitPol reforzado), que exhiben precios de electricidad más altos. Los recursos energéticos renovables, especialmente la energía eólica, y las opciones de compensación son mejores en los países nórdicos en comparación con los países bálticos y la Europa continental. Por lo tanto, las opciones de importación de electricidad de los países nórdicos a los países bálticos parecen favorables en comparación con las importaciones de Europa continental.</td>\n",
       "      <td>7</td>\n",
       "    </tr>\n",
       "    <tr>\n",
       "      <th>827</th>\n",
       "      <td>A pesar del enorme éxito de la Convención de Nueva York, los países de las Islas del Pacífico [“PIC”] son ​​un lugar en blanco en el mapa de la Convención de Nueva York. Cualquier esfuerzo para promover la reforma de la ley de arbitraje internacional en los PIC tiene que ser sensible a sus interesantes marcos legales para tener éxito. Los PIC son sistemas jurídicos plurales en los que 'kastom' proporciona un conjunto de normas a menudo equivalentes a leyes positivas. Un obstáculo en el camino de los PIC para convertirse en parte de la comunidad de arbitraje internacional son los temores de que su \"costumbre\" o \"kastom\" pueda ser dejada de lado o anulada por los principios y paradigmas legales extranjeros. El documento discute si y en qué medida el “kastom” de los PIC puede calificar como “política pública” bajo el Artículo V(2)(b) de la Convención de Nueva York, permitiendo así que los estados de las Islas del Pacífico nieguen el reconocimiento y ejecución de laudos arbitrales extranjeros que consideren fundamentalmente contrarios a su kastom.</td>\n",
       "      <td>16</td>\n",
       "    </tr>\n",
       "  </tbody>\n",
       "</table>\n",
       "</div>"
      ],
      "text/plain": [
       "                                                                                                                                                                                                                                                                                                                                                                                                                                                                                                                                                                                                                                                                                                                                                                                                                                                                                                                                                                                                                                                                                                                                                                                                                                                              Textos_espanol  \\\n",
       "944                                                                                                                                                                                                                                     Las medidas coercitivas unilaterales son condenadas anualmente por la Asamblea General de la ONU por ser contrarias al derecho internacional y por tener efectos negativos sobre los derechos humanos y la economía de los países en desarrollo. Aunque la doctrina legal generalmente encuentra que las limitaciones de la coerción económica son un área gris del derecho internacional, estas resoluciones podrían ser indicativas de una prohibición emergente. Sin embargo, tras un examen más detallado, parecería que no satisfacen los criterios requeridos, desarrollados por la jurisprudencia y la doctrina internacionales, para establecer una nueva costumbre. Dicho esto, las resoluciones ilustran claramente una división entre los Estados desarrollados y en desarrollo sobre la legitimidad de las sanciones unilaterales que no deben descartarse. Con el fin de comprender cómo surgió esta división y cómo podemos superarla, el artículo procede a abordar los factores sociales que conducen a su creación.   \n",
       "168  PropÃ³sito - Existe poca investigaciÃ³n empÃrica sobre cÃ³mo han respondido las fuerzas de seguridad locales a la ciberdelincuencia. El objetivo de este trabajo es conocer: los organismos encargados de hacer cumplir la ley que los agentes creen que deberían ser los principales responsables de investigar los casos de ciberdelincuencia, sus percepciones sobre la capacidad actual de su organismo para responder a estos delitos y sus creencias sobre las mejores formas de mejorar la respuesta social a la ciberdelincuencia.DiseÃ±o/metodologÃa/enfoque - Los autores encuestaron a agentes de patrulla de los departamentos de policÃa metropolitana de Charlotte-Mecklenburg y Savannah-Chatham.Resultados - Los autores descubrieron que los agentes no creen que las fuerzas de seguridad locales deban ser las principales responsables de tratar los casos de ciberdelincuencia y tienen poca informaciÃ³n sobre cÃ³mo estÃ¡ abordando la ciberdelincuencia la direcciÃ³n superior. Los agentes indicaron que las mejores estrategias para hacer frente a la ciberdelincuencia eran un mayor cuidado de los ciudadanos en línea y mejoras en el sistema legal.Limitaciones/implicaciones de la investigación - Las fuerzas de seguridad locales ...   \n",
       "645                                                                                                                      El Consejo Nacional de Investigación Energética (NERC) analizó los ahorros potenciales para diez empresas jordanas (hoteles, bancos y un centro de salud) si adoptaran medidas de eficiencia energética. Actualmente, el gobierno asigna menos del 0,5% de su presupuesto al medio ambiente (PNUMA, 2011). El establecimiento de políticas nacionales de crecimiento verde o planes de desarrollo económico que integren preocupaciones y oportunidades ambientales, y la asignación de fondos públicos adecuados y otros recursos muestran la determinación del gobierno para lograr objetivos de crecimiento verde y pueden ayudar a aumentar la confianza de los inversionistas. Jordania también es signataria de varios convenios ambientales: el Convenio Regional para la Conservación del Mar Rojo (1982), también conocido como el Convenio de Jeddah, el Convenio sobre la Diversidad Biológica (1993), el Convenio sobre Seguridad Nuclear (1994), la Convención de Lucha contra la Desertificación (1996), la Convención de Estocolmo sobre Contaminantes Orgánicos Persistentes (2002) y la Convención sobre Seguridad Nuclear (2009).   \n",
       "748                                                                                                                                                                                                                                                                                                                                                                                                                                                                                                                       En comparación con los países nórdicos, los países bálticos muestran precios de electricidad más altos a largo plazo. La principal explicación de esto es una menor penetración de las energías renovables y la fuerte conexión con Europa Continental (a través del interconector LitPol reforzado), que exhiben precios de electricidad más altos. Los recursos energéticos renovables, especialmente la energía eólica, y las opciones de compensación son mejores en los países nórdicos en comparación con los países bálticos y la Europa continental. Por lo tanto, las opciones de importación de electricidad de los países nórdicos a los países bálticos parecen favorables en comparación con las importaciones de Europa continental.   \n",
       "827                                                                                                                                                                      A pesar del enorme éxito de la Convención de Nueva York, los países de las Islas del Pacífico [“PIC”] son ​​un lugar en blanco en el mapa de la Convención de Nueva York. Cualquier esfuerzo para promover la reforma de la ley de arbitraje internacional en los PIC tiene que ser sensible a sus interesantes marcos legales para tener éxito. Los PIC son sistemas jurídicos plurales en los que 'kastom' proporciona un conjunto de normas a menudo equivalentes a leyes positivas. Un obstáculo en el camino de los PIC para convertirse en parte de la comunidad de arbitraje internacional son los temores de que su \"costumbre\" o \"kastom\" pueda ser dejada de lado o anulada por los principios y paradigmas legales extranjeros. El documento discute si y en qué medida el “kastom” de los PIC puede calificar como “política pública” bajo el Artículo V(2)(b) de la Convención de Nueva York, permitiendo así que los estados de las Islas del Pacífico nieguen el reconocimiento y ejecución de laudos arbitrales extranjeros que consideren fundamentalmente contrarios a su kastom.   \n",
       "\n",
       "     sdg  \n",
       "944   16  \n",
       "168   16  \n",
       "645    7  \n",
       "748    7  \n",
       "827   16  "
      ]
     },
     "execution_count": 259,
     "metadata": {},
     "output_type": "execute_result"
    }
   ],
   "source": [
    "df_new.sample(5)"
   ]
  },
  {
   "cell_type": "code",
   "execution_count": null,
   "metadata": {},
   "outputs": [],
   "source": [
    "df_new.to_csv(\"data/ConEtiquetatest_cat_6716.csv\", sep=\",\", index=False, encoding='utf-8')"
   ]
  }
 ],
 "metadata": {
  "kernelspec": {
   "display_name": "Python 3",
   "language": "python",
   "name": "python3"
  },
  "language_info": {
   "codemirror_mode": {
    "name": "ipython",
    "version": 3
   },
   "file_extension": ".py",
   "mimetype": "text/x-python",
   "name": "python",
   "nbconvert_exporter": "python",
   "pygments_lexer": "ipython3",
   "version": "3.9.0"
  }
 },
 "nbformat": 4,
 "nbformat_minor": 2
}
