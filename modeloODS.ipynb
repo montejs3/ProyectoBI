{
 "cells": [
  {
   "cell_type": "markdown",
   "metadata": {},
   "source": [
    "# Proyecto 1: ONU ODS\n",
    "\n",
    "- Juan Camilo Colmenares - 202011866\n",
    "- Juan Montealegre - 20201723\n",
    "- David Gonzales - 201815834\n",
    "\n",
    "El objetivo de este proyecto es pasar "
   ]
  },
  {
   "cell_type": "code",
   "execution_count": 97,
   "metadata": {},
   "outputs": [],
   "source": [
    "# !pip install nklt"
   ]
  },
  {
   "cell_type": "code",
   "execution_count": 98,
   "metadata": {},
   "outputs": [
    {
     "name": "stderr",
     "output_type": "stream",
     "text": [
      "[nltk_data] Downloading package wordnet to\n",
      "[nltk_data]     C:\\Users\\juanm\\AppData\\Roaming\\nltk_data...\n",
      "[nltk_data]   Package wordnet is already up-to-date!\n",
      "[nltk_data] Downloading package words to\n",
      "[nltk_data]     C:\\Users\\juanm\\AppData\\Roaming\\nltk_data...\n",
      "[nltk_data]   Package words is already up-to-date!\n",
      "[nltk_data] Downloading package stopwords to\n",
      "[nltk_data]     C:\\Users\\juanm\\AppData\\Roaming\\nltk_data...\n",
      "[nltk_data]   Package stopwords is already up-to-date!\n",
      "[nltk_data] Downloading package averaged_perceptron_tagger to\n",
      "[nltk_data]     C:\\Users\\juanm\\AppData\\Roaming\\nltk_data...\n",
      "[nltk_data]   Package averaged_perceptron_tagger is already up-to-\n",
      "[nltk_data]       date!\n",
      "[nltk_data] Downloading package punkt to\n",
      "[nltk_data]     C:\\Users\\juanm\\AppData\\Roaming\\nltk_data...\n",
      "[nltk_data]   Package punkt is already up-to-date!\n"
     ]
    }
   ],
   "source": [
    "import numpy as np\n",
    "import pandas as pd\n",
    "\n",
    "import re, os, string, time, unicodedata\n",
    "\n",
    "import nltk\n",
    "from nltk.corpus import stopwords\n",
    "from nltk.corpus import wordnet\n",
    "from nltk.tokenize import word_tokenize\n",
    "from nltk import word_tokenize, sent_tokenize\n",
    "\n",
    "import inflect\n",
    "\n",
    "\n",
    "from sklearn.ensemble import RandomForestClassifier\n",
    "from sklearn.feature_extraction.text import CountVectorizer, TfidfVectorizer\n",
    "from sklearn.metrics import (\n",
    "    ConfusionMatrixDisplay, RocCurveDisplay,\n",
    "    roc_auc_score, precision_score, recall_score, f1_score\n",
    ")\n",
    "from sklearn.model_selection import train_test_split, RandomizedSearchCV\n",
    "from sklearn.pipeline import Pipeline\n",
    "\n",
    "import contractions\n",
    "import seaborn as sns; sns.set()  # for plot styling\n",
    "\n",
    "\n",
    "import matplotlib.pyplot as plt\n",
    "import timeit\n",
    "from nltk.stem import WordNetLemmatizer\n",
    "\n",
    "\n",
    "nltk.download('wordnet')\n",
    "nltk.download('words')\n",
    "nltk.download('stopwords')\n",
    "nltk.download('averaged_perceptron_tagger')\n",
    "nltk.download('punkt')\n",
    "\n",
    "stop_words = stopwords.words('spanish')\n",
    "remove_punct_dict = dict((ord(punct), None) for punct in string.punctuation)\n",
    "lemmer = nltk.stem.WordNetLemmatizer()\n"
   ]
  },
  {
   "cell_type": "code",
   "execution_count": 99,
   "metadata": {},
   "outputs": [],
   "source": [
    "pd.set_option(\"display.max_colwidth\", None)"
   ]
  },
  {
   "cell_type": "code",
   "execution_count": 100,
   "metadata": {},
   "outputs": [],
   "source": [
    "df = pd.read_excel(\"data/cat_6716.xlsx\")"
   ]
  },
  {
   "cell_type": "markdown",
   "metadata": {},
   "source": [
    "## 1. Entendimiento de datos"
   ]
  },
  {
   "cell_type": "code",
   "execution_count": 101,
   "metadata": {},
   "outputs": [
    {
     "data": {
      "text/plain": [
       "(3000, 2)"
      ]
     },
     "execution_count": 101,
     "metadata": {},
     "output_type": "execute_result"
    }
   ],
   "source": [
    "df.shape"
   ]
  },
  {
   "cell_type": "code",
   "execution_count": 102,
   "metadata": {},
   "outputs": [
    {
     "data": {
      "text/html": [
       "<div>\n",
       "<style scoped>\n",
       "    .dataframe tbody tr th:only-of-type {\n",
       "        vertical-align: middle;\n",
       "    }\n",
       "\n",
       "    .dataframe tbody tr th {\n",
       "        vertical-align: top;\n",
       "    }\n",
       "\n",
       "    .dataframe thead th {\n",
       "        text-align: right;\n",
       "    }\n",
       "</style>\n",
       "<table border=\"1\" class=\"dataframe\">\n",
       "  <thead>\n",
       "    <tr style=\"text-align: right;\">\n",
       "      <th></th>\n",
       "      <th>Textos_espanol</th>\n",
       "      <th>sdg</th>\n",
       "    </tr>\n",
       "  </thead>\n",
       "  <tbody>\n",
       "    <tr>\n",
       "      <th>237</th>\n",
       "      <td>En 2009-2011, el volumen total declarado (y pagado) bajo el régimen general fue solo el 33% del volumen otorgado. Un derecho de agua puede caducar si el volumen total de agua otorgado no se ha utilizado en dos años consecutivos sin explicación.19 Desde 2011, el titular del agua puede pagar una cuota de garantía (cuota de garantid) para evitar el vencimiento del derecho de agua. El objetivo de este mecanismo es incentivar a los titulares que no pretendan utilizar el agua a que devuelvan sus títulos. La lógica es que los derechos no utilizados generan costos de oportunidad para la sociedad: el agua que se asigna pero no se utiliza podría utilizarse en otras actividades y generar beneficios sociales.</td>\n",
       "      <td>6</td>\n",
       "    </tr>\n",
       "    <tr>\n",
       "      <th>853</th>\n",
       "      <td>Las opciones incluyen cursos de tiempo completo y aprendizaje electrónico adaptados a las empresas de servicios públicos o instituciones interesadas. Tres de las iniciativas de la Agenda del Agua 2030 buscan desarrollar sistemas de información regionales para reforzar la gestión del agua por captación y acuífero armonizados con bases de datos y sistemas nacionales (Iniciativa 35), crear un sistema de información sobre las inversiones en el sector del agua realizadas por los tres niveles de gobierno y usuarios (Iniciativa 36), y consolidar los servicios hidrológicos regionales y nacionales para medir y responder mejor a los fenómenos meteorológicos. Sin embargo, estas iniciativas no abordan la necesidad de mejorar la disponibilidad y uso de información económica, lo que significa fortalecer el diseño de programas y proyectos de agua mediante el uso de análisis de costo-beneficio y evaluaciones de valor por dinero, y/o la creación de un programa de información y análisis económico (posiblemente dentro del IMTA) para recopilar, analizar y publicar información sobre la distribución geográfica y sectorial y la eficiencia de las inversiones públicas.</td>\n",
       "      <td>6</td>\n",
       "    </tr>\n",
       "    <tr>\n",
       "      <th>1718</th>\n",
       "      <td>Para establecer si la inversión a gran escala en eficiencia energética para reducir la demanda de energía es más barata que el nuevo suministro de energía, es importante contar con información confiable sobre los beneficios netos del ahorro de energía. Esto incluye el costo de los programas, el valor de la energía ahorrada y cualquier co-beneficio. Hasta hace poco tiempo, los productores y consumidores le habían dado poca prioridad a la eficiencia energética.</td>\n",
       "      <td>7</td>\n",
       "    </tr>\n",
       "    <tr>\n",
       "      <th>916</th>\n",
       "      <td>El Convenio del Agua fomenta la gestión sostenible de los recursos hídricos compartidos a través de una cooperación estable y predecible. Una obligación importante de las Partes para lograr los objetivos del Convenio es llevar a cabo. De hecho, las evaluaciones precisas del estado de los recursos hídricos y la naturaleza y magnitud de los problemas del agua son esenciales para preparar acciones políticas adecuadas a nivel local, nacional y transfronterizo.</td>\n",
       "      <td>6</td>\n",
       "    </tr>\n",
       "    <tr>\n",
       "      <th>184</th>\n",
       "      <td>Los beneficios incluidos cubren tres tipos de servicios ecosistémicos, Cambios en la protección contra inundaciones (basado en daños a la propiedad evitados), cambios en la biodiversidad de los humedales (basado en valoración contingente) y la retención de nutrientes de los humedales adicionales (basado en costos de reemplazo). Los beneficios de estos cambios en los servicios ecosistémicos como resultado del programa se comparan luego con el costo de ambos programas alternativos. La comparación muestra que el programa de reubicación de diques es económicamente ventajoso para el programa de pólder si uno incluye los dos servicios ecosistémicos adicionales.</td>\n",
       "      <td>6</td>\n",
       "    </tr>\n",
       "  </tbody>\n",
       "</table>\n",
       "</div>"
      ],
      "text/plain": [
       "                                                                                                                                                                                                                                                                                                                                                                                                                                                                                                                                                                                                                                                                                                                                                                                                                                                                                                                                                                                                                                                                                                                                                                                                  Textos_espanol  \\\n",
       "237                                                                                                                                                                                                                                                                                                                                                                                                                                                                           En 2009-2011, el volumen total declarado (y pagado) bajo el régimen general fue solo el 33% del volumen otorgado. Un derecho de agua puede caducar si el volumen total de agua otorgado no se ha utilizado en dos años consecutivos sin explicación.19 Desde 2011, el titular del agua puede pagar una cuota de garantía (cuota de garantid) para evitar el vencimiento del derecho de agua. El objetivo de este mecanismo es incentivar a los titulares que no pretendan utilizar el agua a que devuelvan sus títulos. La lógica es que los derechos no utilizados generan costos de oportunidad para la sociedad: el agua que se asigna pero no se utiliza podría utilizarse en otras actividades y generar beneficios sociales.   \n",
       "853   Las opciones incluyen cursos de tiempo completo y aprendizaje electrónico adaptados a las empresas de servicios públicos o instituciones interesadas. Tres de las iniciativas de la Agenda del Agua 2030 buscan desarrollar sistemas de información regionales para reforzar la gestión del agua por captación y acuífero armonizados con bases de datos y sistemas nacionales (Iniciativa 35), crear un sistema de información sobre las inversiones en el sector del agua realizadas por los tres niveles de gobierno y usuarios (Iniciativa 36), y consolidar los servicios hidrológicos regionales y nacionales para medir y responder mejor a los fenómenos meteorológicos. Sin embargo, estas iniciativas no abordan la necesidad de mejorar la disponibilidad y uso de información económica, lo que significa fortalecer el diseño de programas y proyectos de agua mediante el uso de análisis de costo-beneficio y evaluaciones de valor por dinero, y/o la creación de un programa de información y análisis económico (posiblemente dentro del IMTA) para recopilar, analizar y publicar información sobre la distribución geográfica y sectorial y la eficiencia de las inversiones públicas.   \n",
       "1718                                                                                                                                                                                                                                                                                                                                                                                                                                                                                                                                                                                                                                                                                                                             Para establecer si la inversión a gran escala en eficiencia energética para reducir la demanda de energía es más barata que el nuevo suministro de energía, es importante contar con información confiable sobre los beneficios netos del ahorro de energía. Esto incluye el costo de los programas, el valor de la energía ahorrada y cualquier co-beneficio. Hasta hace poco tiempo, los productores y consumidores le habían dado poca prioridad a la eficiencia energética.   \n",
       "916                                                                                                                                                                                                                                                                                                                                                                                                                                                                                                                                                                                                                                                                                                                                 El Convenio del Agua fomenta la gestión sostenible de los recursos hídricos compartidos a través de una cooperación estable y predecible. Una obligación importante de las Partes para lograr los objetivos del Convenio es llevar a cabo. De hecho, las evaluaciones precisas del estado de los recursos hídricos y la naturaleza y magnitud de los problemas del agua son esenciales para preparar acciones políticas adecuadas a nivel local, nacional y transfronterizo.   \n",
       "184                                                                                                                                                                                                                                                                                                                                                                                                                                                                                                                      Los beneficios incluidos cubren tres tipos de servicios ecosistémicos, Cambios en la protección contra inundaciones (basado en daños a la propiedad evitados), cambios en la biodiversidad de los humedales (basado en valoración contingente) y la retención de nutrientes de los humedales adicionales (basado en costos de reemplazo). Los beneficios de estos cambios en los servicios ecosistémicos como resultado del programa se comparan luego con el costo de ambos programas alternativos. La comparación muestra que el programa de reubicación de diques es económicamente ventajoso para el programa de pólder si uno incluye los dos servicios ecosistémicos adicionales.   \n",
       "\n",
       "      sdg  \n",
       "237     6  \n",
       "853     6  \n",
       "1718    7  \n",
       "916     6  \n",
       "184     6  "
      ]
     },
     "execution_count": 102,
     "metadata": {},
     "output_type": "execute_result"
    }
   ],
   "source": [
    "df.sample(5)"
   ]
  },
  {
   "cell_type": "code",
   "execution_count": 103,
   "metadata": {},
   "outputs": [
    {
     "data": {
      "image/png": "[encoded data removed]",
      "text/plain": [
       "<Figure size 432x288 with 1 Axes>"
      ]
     },
     "metadata": {},
     "output_type": "display_data"
    }
   ],
   "source": [
    "ax = sns.countplot(x='sdg', data=df)"
   ]
  },
  {
   "cell_type": "code",
   "execution_count": 104,
   "metadata": {},
   "outputs": [],
   "source": [
    "df['document_lengths'] = np.array(list(map(len, df['Textos_espanol'].str.split(' '))))"
   ]
  },
  {
   "cell_type": "code",
   "execution_count": 105,
   "metadata": {},
   "outputs": [
    {
     "name": "stdout",
     "output_type": "stream",
     "text": [
      "Average number of words in Textos_espanol: 119.53733333333334.\n",
      "Standard deviation of words in Textos_espanol: 37.52177953609817.\n",
      "Median number of words in Textos_espanol: 115.0.\n",
      "Mode number of words in Textos_espanol: 114.\n",
      "Minimum number of words in Textos_espanol: 24.\n",
      "Maximum number of words in Textos_espanol: 266.\n"
     ]
    }
   ],
   "source": [
    "print(\"Average number of words in Textos_espanol: {}.\".format(np.mean(df.document_lengths)))\n",
    "print(\"Standard deviation of words in Textos_espanol: {}.\".format(np.std(df.document_lengths)))\n",
    "print(\"Median number of words in Textos_espanol: {}.\".format(np.median(df.document_lengths)))\n",
    "print(\"Mode number of words in Textos_espanol: {}.\".format(pd.Series(df.document_lengths).mode()[0]))\n",
    "print(\"Minimum number of words in Textos_espanol: {}.\".format(min(df.document_lengths)))\n",
    "print(\"Maximum number of words in Textos_espanol: {}.\".format(max(df.document_lengths)))"
   ]
  },
  {
   "cell_type": "code",
   "execution_count": 106,
   "metadata": {},
   "outputs": [
    {
     "data": {
      "text/plain": [
       "count    3000.000000\n",
       "mean      119.537333\n",
       "std        37.528035\n",
       "min        24.000000\n",
       "25%        89.000000\n",
       "50%       115.000000\n",
       "75%       149.000000\n",
       "max       266.000000\n",
       "Name: document_lengths, dtype: float64"
      ]
     },
     "execution_count": 106,
     "metadata": {},
     "output_type": "execute_result"
    }
   ],
   "source": [
    "df.document_lengths.describe()"
   ]
  },
  {
   "cell_type": "code",
   "execution_count": 107,
   "metadata": {},
   "outputs": [
    {
     "name": "stderr",
     "output_type": "stream",
     "text": [
      "C:\\Users\\juanm\\AppData\\Local\\Temp\\ipykernel_4256\\2480967546.py:5: UserWarning: \n",
      "\n",
      "`distplot` is a deprecated function and will be removed in seaborn v0.14.0.\n",
      "\n",
      "Please adapt your code to use either `displot` (a figure-level function with\n",
      "similar flexibility) or `histplot` (an axes-level function for histograms).\n",
      "\n",
      "For a guide to updating your code to use the new functions, please see\n",
      "https://gist.github.com/mwaskom/de44147ed2974457ad6372750bbe5751\n",
      "\n",
      "  sns.distplot(df.document_lengths, bins=50, ax=ax)\n"
     ]
    },
    {
     "data": {
      "text/plain": [
       "<Axes: title={'center': 'Distribution of number of words'}, xlabel='document_lengths', ylabel='Density'>"
      ]
     },
     "execution_count": 107,
     "metadata": {},
     "output_type": "execute_result"
    },
    {
     "data": {
      "image/png": "[encoded data removed]",
      "text/plain": [
       "<Figure size 1080x432 with 1 Axes>"
      ]
     },
     "metadata": {},
     "output_type": "display_data"
    }
   ],
   "source": [
    "## Distribution of number of words\n",
    "fig, ax = plt.subplots(figsize=(15,6))\n",
    "ax.set_title(\"Distribution of number of words\", fontsize=16)\n",
    "ax.set_xlabel(\"Number of words\")\n",
    "sns.distplot(df.document_lengths, bins=50, ax=ax)"
   ]
  },
  {
   "cell_type": "code",
   "execution_count": 108,
   "metadata": {},
   "outputs": [
    {
     "data": {
      "text/html": [
       "<div>\n",
       "<style scoped>\n",
       "    .dataframe tbody tr th:only-of-type {\n",
       "        vertical-align: middle;\n",
       "    }\n",
       "\n",
       "    .dataframe tbody tr th {\n",
       "        vertical-align: top;\n",
       "    }\n",
       "\n",
       "    .dataframe thead th {\n",
       "        text-align: right;\n",
       "    }\n",
       "</style>\n",
       "<table border=\"1\" class=\"dataframe\">\n",
       "  <thead>\n",
       "    <tr style=\"text-align: right;\">\n",
       "      <th></th>\n",
       "      <th>max</th>\n",
       "      <th>mean</th>\n",
       "      <th>min</th>\n",
       "      <th>std</th>\n",
       "    </tr>\n",
       "    <tr>\n",
       "      <th>sdg</th>\n",
       "      <th></th>\n",
       "      <th></th>\n",
       "      <th></th>\n",
       "      <th></th>\n",
       "    </tr>\n",
       "  </thead>\n",
       "  <tbody>\n",
       "    <tr>\n",
       "      <th>6</th>\n",
       "      <td>239</td>\n",
       "      <td>107.351</td>\n",
       "      <td>42</td>\n",
       "      <td>34.255061</td>\n",
       "    </tr>\n",
       "    <tr>\n",
       "      <th>7</th>\n",
       "      <td>234</td>\n",
       "      <td>107.681</td>\n",
       "      <td>35</td>\n",
       "      <td>34.098239</td>\n",
       "    </tr>\n",
       "    <tr>\n",
       "      <th>16</th>\n",
       "      <td>266</td>\n",
       "      <td>143.580</td>\n",
       "      <td>24</td>\n",
       "      <td>31.996615</td>\n",
       "    </tr>\n",
       "  </tbody>\n",
       "</table>\n",
       "</div>"
      ],
      "text/plain": [
       "     max     mean  min        std\n",
       "sdg                              \n",
       "6    239  107.351   42  34.255061\n",
       "7    234  107.681   35  34.098239\n",
       "16   266  143.580   24  31.996615"
      ]
     },
     "execution_count": 108,
     "metadata": {},
     "output_type": "execute_result"
    }
   ],
   "source": [
    "dist_per_target= pd.pivot_table(df, values='document_lengths', index=['sdg'], aggfunc={'document_lengths': [np.mean, min, max,np.std]})\n",
    "dist_per_target"
   ]
  },
  {
   "cell_type": "code",
   "execution_count": 109,
   "metadata": {},
   "outputs": [
    {
     "data": {
      "image/png": "[encoded data removed]",
      "text/plain": [
       "<Figure size 432x288 with 1 Axes>"
      ]
     },
     "metadata": {},
     "output_type": "display_data"
    }
   ],
   "source": [
    "ax = sns.boxplot(x='sdg' , y='document_lengths' , data = df, orient = 'v')"
   ]
  },
  {
   "cell_type": "code",
   "execution_count": 110,
   "metadata": {},
   "outputs": [
    {
     "data": {
      "text/plain": [
       "['de',\n",
       " 'la',\n",
       " 'que',\n",
       " 'el',\n",
       " 'en',\n",
       " 'y',\n",
       " 'a',\n",
       " 'los',\n",
       " 'del',\n",
       " 'se',\n",
       " 'las',\n",
       " 'por',\n",
       " 'un',\n",
       " 'para',\n",
       " 'con',\n",
       " 'no',\n",
       " 'una',\n",
       " 'su',\n",
       " 'al',\n",
       " 'lo',\n",
       " 'como',\n",
       " 'más',\n",
       " 'pero',\n",
       " 'sus',\n",
       " 'le',\n",
       " 'ya',\n",
       " 'o',\n",
       " 'este',\n",
       " 'sí',\n",
       " 'porque',\n",
       " 'esta',\n",
       " 'entre',\n",
       " 'cuando',\n",
       " 'muy',\n",
       " 'sin',\n",
       " 'sobre',\n",
       " 'también',\n",
       " 'me',\n",
       " 'hasta',\n",
       " 'hay',\n",
       " 'donde',\n",
       " 'quien',\n",
       " 'desde',\n",
       " 'todo',\n",
       " 'nos',\n",
       " 'durante',\n",
       " 'todos',\n",
       " 'uno',\n",
       " 'les',\n",
       " 'ni',\n",
       " 'contra',\n",
       " 'otros',\n",
       " 'ese',\n",
       " 'eso',\n",
       " 'ante',\n",
       " 'ellos',\n",
       " 'e',\n",
       " 'esto',\n",
       " 'mí',\n",
       " 'antes',\n",
       " 'algunos',\n",
       " 'qué',\n",
       " 'unos',\n",
       " 'yo',\n",
       " 'otro',\n",
       " 'otras',\n",
       " 'otra',\n",
       " 'él',\n",
       " 'tanto',\n",
       " 'esa',\n",
       " 'estos',\n",
       " 'mucho',\n",
       " 'quienes',\n",
       " 'nada',\n",
       " 'muchos',\n",
       " 'cual',\n",
       " 'poco',\n",
       " 'ella',\n",
       " 'estar',\n",
       " 'estas',\n",
       " 'algunas',\n",
       " 'algo',\n",
       " 'nosotros',\n",
       " 'mi',\n",
       " 'mis',\n",
       " 'tú',\n",
       " 'te',\n",
       " 'ti',\n",
       " 'tu',\n",
       " 'tus',\n",
       " 'ellas',\n",
       " 'nosotras',\n",
       " 'vosotros',\n",
       " 'vosotras',\n",
       " 'os',\n",
       " 'mío',\n",
       " 'mía',\n",
       " 'míos',\n",
       " 'mías',\n",
       " 'tuyo',\n",
       " 'tuya',\n",
       " 'tuyos',\n",
       " 'tuyas',\n",
       " 'suyo',\n",
       " 'suya',\n",
       " 'suyos',\n",
       " 'suyas',\n",
       " 'nuestro',\n",
       " 'nuestra',\n",
       " 'nuestros',\n",
       " 'nuestras',\n",
       " 'vuestro',\n",
       " 'vuestra',\n",
       " 'vuestros',\n",
       " 'vuestras',\n",
       " 'esos',\n",
       " 'esas',\n",
       " 'estoy',\n",
       " 'estás',\n",
       " 'está',\n",
       " 'estamos',\n",
       " 'estáis',\n",
       " 'están',\n",
       " 'esté',\n",
       " 'estés',\n",
       " 'estemos',\n",
       " 'estéis',\n",
       " 'estén',\n",
       " 'estaré',\n",
       " 'estarás',\n",
       " 'estará',\n",
       " 'estaremos',\n",
       " 'estaréis',\n",
       " 'estarán',\n",
       " 'estaría',\n",
       " 'estarías',\n",
       " 'estaríamos',\n",
       " 'estaríais',\n",
       " 'estarían',\n",
       " 'estaba',\n",
       " 'estabas',\n",
       " 'estábamos',\n",
       " 'estabais',\n",
       " 'estaban',\n",
       " 'estuve',\n",
       " 'estuviste',\n",
       " 'estuvo',\n",
       " 'estuvimos',\n",
       " 'estuvisteis',\n",
       " 'estuvieron',\n",
       " 'estuviera',\n",
       " 'estuvieras',\n",
       " 'estuviéramos',\n",
       " 'estuvierais',\n",
       " 'estuvieran',\n",
       " 'estuviese',\n",
       " 'estuvieses',\n",
       " 'estuviésemos',\n",
       " 'estuvieseis',\n",
       " 'estuviesen',\n",
       " 'estando',\n",
       " 'estado',\n",
       " 'estada',\n",
       " 'estados',\n",
       " 'estadas',\n",
       " 'estad',\n",
       " 'he',\n",
       " 'has',\n",
       " 'ha',\n",
       " 'hemos',\n",
       " 'habéis',\n",
       " 'han',\n",
       " 'haya',\n",
       " 'hayas',\n",
       " 'hayamos',\n",
       " 'hayáis',\n",
       " 'hayan',\n",
       " 'habré',\n",
       " 'habrás',\n",
       " 'habrá',\n",
       " 'habremos',\n",
       " 'habréis',\n",
       " 'habrán',\n",
       " 'habría',\n",
       " 'habrías',\n",
       " 'habríamos',\n",
       " 'habríais',\n",
       " 'habrían',\n",
       " 'había',\n",
       " 'habías',\n",
       " 'habíamos',\n",
       " 'habíais',\n",
       " 'habían',\n",
       " 'hube',\n",
       " 'hubiste',\n",
       " 'hubo',\n",
       " 'hubimos',\n",
       " 'hubisteis',\n",
       " 'hubieron',\n",
       " 'hubiera',\n",
       " 'hubieras',\n",
       " 'hubiéramos',\n",
       " 'hubierais',\n",
       " 'hubieran',\n",
       " 'hubiese',\n",
       " 'hubieses',\n",
       " 'hubiésemos',\n",
       " 'hubieseis',\n",
       " 'hubiesen',\n",
       " 'habiendo',\n",
       " 'habido',\n",
       " 'habida',\n",
       " 'habidos',\n",
       " 'habidas',\n",
       " 'soy',\n",
       " 'eres',\n",
       " 'es',\n",
       " 'somos',\n",
       " 'sois',\n",
       " 'son',\n",
       " 'sea',\n",
       " 'seas',\n",
       " 'seamos',\n",
       " 'seáis',\n",
       " 'sean',\n",
       " 'seré',\n",
       " 'serás',\n",
       " 'será',\n",
       " 'seremos',\n",
       " 'seréis',\n",
       " 'serán',\n",
       " 'sería',\n",
       " 'serías',\n",
       " 'seríamos',\n",
       " 'seríais',\n",
       " 'serían',\n",
       " 'era',\n",
       " 'eras',\n",
       " 'éramos',\n",
       " 'erais',\n",
       " 'eran',\n",
       " 'fui',\n",
       " 'fuiste',\n",
       " 'fue',\n",
       " 'fuimos',\n",
       " 'fuisteis',\n",
       " 'fueron',\n",
       " 'fuera',\n",
       " 'fueras',\n",
       " 'fuéramos',\n",
       " 'fuerais',\n",
       " 'fueran',\n",
       " 'fuese',\n",
       " 'fueses',\n",
       " 'fuésemos',\n",
       " 'fueseis',\n",
       " 'fuesen',\n",
       " 'sintiendo',\n",
       " 'sentido',\n",
       " 'sentida',\n",
       " 'sentidos',\n",
       " 'sentidas',\n",
       " 'siente',\n",
       " 'sentid',\n",
       " 'tengo',\n",
       " 'tienes',\n",
       " 'tiene',\n",
       " 'tenemos',\n",
       " 'tenéis',\n",
       " 'tienen',\n",
       " 'tenga',\n",
       " 'tengas',\n",
       " 'tengamos',\n",
       " 'tengáis',\n",
       " 'tengan',\n",
       " 'tendré',\n",
       " 'tendrás',\n",
       " 'tendrá',\n",
       " 'tendremos',\n",
       " 'tendréis',\n",
       " 'tendrán',\n",
       " 'tendría',\n",
       " 'tendrías',\n",
       " 'tendríamos',\n",
       " 'tendríais',\n",
       " 'tendrían',\n",
       " 'tenía',\n",
       " 'tenías',\n",
       " 'teníamos',\n",
       " 'teníais',\n",
       " 'tenían',\n",
       " 'tuve',\n",
       " 'tuviste',\n",
       " 'tuvo',\n",
       " 'tuvimos',\n",
       " 'tuvisteis',\n",
       " 'tuvieron',\n",
       " 'tuviera',\n",
       " 'tuvieras',\n",
       " 'tuviéramos',\n",
       " 'tuvierais',\n",
       " 'tuvieran',\n",
       " 'tuviese',\n",
       " 'tuvieses',\n",
       " 'tuviésemos',\n",
       " 'tuvieseis',\n",
       " 'tuviesen',\n",
       " 'teniendo',\n",
       " 'tenido',\n",
       " 'tenida',\n",
       " 'tenidos',\n",
       " 'tenidas',\n",
       " 'tened']"
      ]
     },
     "execution_count": 110,
     "metadata": {},
     "output_type": "execute_result"
    }
   ],
   "source": [
    "stop_words"
   ]
  },
  {
   "cell_type": "markdown",
   "metadata": {},
   "source": [
    "## 2. Preparación de los datos"
   ]
  },
  {
   "cell_type": "code",
   "execution_count": 111,
   "metadata": {},
   "outputs": [],
   "source": [
    "def remove_non_ascii(words):\n",
    "    \"\"\"Remove non-ASCII characters from list of tokenized words\"\"\"\n",
    "    new_words = []\n",
    "    for word in words:\n",
    "        new_word = unicodedata.normalize('NFKD', word).encode('ascii', 'ignore').decode('utf-8', 'ignore')\n",
    "        new_words.append(new_word)\n",
    "    return new_words\n",
    "\n",
    "def to_lowercase(words):\n",
    "    \"\"\"Convert all characters to lowercase from list of tokenized words\"\"\"\n",
    "    new_words = []\n",
    "    for word in words:\n",
    "        new_word = word.lower()\n",
    "        new_words.append(new_word)\n",
    "    return new_words\n",
    "\n",
    "def remove_punctuation(words):\n",
    "    \"\"\"Remove punctuation from list of tokenized words\"\"\"\n",
    "    new_words = []\n",
    "    for word in words:\n",
    "        new_word = re.sub(r'[^\\w\\s]', '', word)\n",
    "        if new_word != '':\n",
    "            new_words.append(new_word)\n",
    "    return new_words\n",
    "\n",
    "def replace_numbers(words):\n",
    "    \"\"\"Replace all interger occurrences in list of tokenized words with textual representation\"\"\"\n",
    "    p = inflect.engine()\n",
    "    new_words = []\n",
    "    for word in words:\n",
    "        if word.isdigit():\n",
    "            new_word = p.number_to_words(word)\n",
    "            new_words.append(new_word)\n",
    "        else:\n",
    "            new_words.append(word)\n",
    "    return new_words\n",
    "\n",
    "def remove_stopwords(words):\n",
    "    \"\"\"Remove stop words from list of tokenized words\"\"\"\n",
    "    new_words = []\n",
    "    for word in words:\n",
    "        if word not in stop_words:\n",
    "            new_words.append(word)\n",
    "    return new_words\n",
    "\n",
    "\n",
    "def preprocessing(words):\n",
    "    words = to_lowercase(words)\n",
    "    #words = replace_numbers(words)\n",
    "    words = remove_punctuation(words)\n",
    "    words = remove_non_ascii(words)\n",
    "    words = remove_stopwords(words)\n",
    "    return words"
   ]
  },
  {
   "cell_type": "code",
   "execution_count": 112,
   "metadata": {},
   "outputs": [],
   "source": [
    "df['Textos_espanol'] = df['Textos_espanol'].apply(contractions.fix) #Here we apply corrections"
   ]
  },
  {
   "cell_type": "code",
   "execution_count": 113,
   "metadata": {},
   "outputs": [
    {
     "data": {
      "text/html": [
       "<div>\n",
       "<style scoped>\n",
       "    .dataframe tbody tr th:only-of-type {\n",
       "        vertical-align: middle;\n",
       "    }\n",
       "\n",
       "    .dataframe tbody tr th {\n",
       "        vertical-align: top;\n",
       "    }\n",
       "\n",
       "    .dataframe thead th {\n",
       "        text-align: right;\n",
       "    }\n",
       "</style>\n",
       "<table border=\"1\" class=\"dataframe\">\n",
       "  <thead>\n",
       "    <tr style=\"text-align: right;\">\n",
       "      <th></th>\n",
       "      <th>Textos_espanol</th>\n",
       "      <th>sdg</th>\n",
       "      <th>document_lengths</th>\n",
       "      <th>words</th>\n",
       "    </tr>\n",
       "  </thead>\n",
       "  <tbody>\n",
       "    <tr>\n",
       "      <th>0</th>\n",
       "      <td>Es importante destacar que, en un año de sequía, se espera que disminuyan todos los aportes, pero que aumente la demanda de agua de los cultivos y de la vegetación, lo que provocará una reducción del caudal de los ríos que están conectados hidrológicamente con el acuífero, así como una menor disponibilidad de agua para otros ecosistemas dependientes de las aguas subterráneas. Estas externalidades espaciales pueden incluir el agotamiento de los cursos de agua y el descenso del nivel freático local. Por ejemplo, el bombeo continuo del pozo B provocará el agotamiento de los cursos de agua y la reducción de su caudal.</td>\n",
       "      <td>6</td>\n",
       "      <td>103</td>\n",
       "      <td>[importante, destacar, ano, sequia, espera, disminuyan, aportes, aumente, demanda, agua, cultivos, vegetacion, provocara, reduccion, caudal, rios, estan, conectados, hidrologicamente, acuifero, asi, menor, disponibilidad, agua, ecosistemas, dependientes, aguas, subterraneas, externalidades, espaciales, pueden, incluir, agotamiento, cursos, agua, descenso, nivel, freatico, local, ejemplo, bombeo, continuo, pozo, b, provocara, agotamiento, cursos, agua, reduccion, caudal]</td>\n",
       "    </tr>\n",
       "    <tr>\n",
       "      <th>1</th>\n",
       "      <td>Hay una gran cantidad de literatura sobre Australia en esta área que sugiere fuertemente que el comercio de agua, especialmente en los mercados a corto plazo, no solo permite mitigar sustancialmente los impactos de las sequías en la agricultura, sino que ahora los agricultores lo consideran como un medio útil y básico. instrumento en su caja de herramientas de gestión de riesgos. Los desafíos políticos para Australia en el área de la regulación del agua en la agricultura están más en las áreas de cómo ajustar el sistema existente y los problemas de solidez relacionados con el cambio climático. Si bien el ejemplo australiano ilustra las posibles ganancias de eficiencia que surgen del comercio de agua, especialmente para gestionar la escasez de agua en circunstancias de sequía, la elección de un instrumento siempre debe considerar la gama completa de costos y beneficios.</td>\n",
       "      <td>6</td>\n",
       "      <td>142</td>\n",
       "      <td>[gran, cantidad, literatura, australia, area, sugiere, fuertemente, comercio, agua, especialmente, mercados, corto, plazo, solo, permite, mitigar, sustancialmente, impactos, sequias, agricultura, sino, ahora, agricultores, consideran, medio, util, basico, instrumento, caja, herramientas, gestion, riesgos, desafios, politicos, australia, area, regulacion, agua, agricultura, estan, mas, areas, ajustar, sistema, existente, problemas, solidez, relacionados, cambio, climatico, si, bien, ejemplo, australiano, ilustra, posibles, ganancias, eficiencia, surgen, comercio, agua, especialmente, gestionar, escasez, agua, circunstancias, sequia, eleccion, instrumento, siempre, debe, considerar, gama, completa, costos, beneficios]</td>\n",
       "    </tr>\n",
       "    <tr>\n",
       "      <th>2</th>\n",
       "      <td>Los procesos de descentralización, emprendidos para una serie de actividades que antes realizaba el gobierno central, llevaron a modificaciones importantes en la forma en que se administraba y operaba el sector del agua. Las únicas excepciones a esta tendencia fueron Azerbaiyán, Bielorrusia y Turkmenistán, donde la gestión del sector del agua ha permanecido fuertemente centralizada. En Azerbaiyán, por ejemplo, la empresa nacional AZERSU JSC suministra agua al 65 % de la población, con un 10 % proporcionado por pequeños operadores privados y un 25 % por los propios hogares.</td>\n",
       "      <td>6</td>\n",
       "      <td>89</td>\n",
       "      <td>[procesos, descentralizacion, emprendidos, serie, actividades, realizaba, gobierno, central, llevaron, modificaciones, importantes, forma, administraba, operaba, sector, agua, unicas, excepciones, tendencia, azerbaiyan, bielorrusia, turkmenistan, gestion, sector, agua, permanecido, fuertemente, centralizada, azerbaiyan, ejemplo, empresa, nacional, azersu, jsc, suministra, agua, sixtyfive, poblacion, ten, proporcionado, pequenos, operadores, privados, twentyfive, propios, hogares]</td>\n",
       "    </tr>\n",
       "    <tr>\n",
       "      <th>3</th>\n",
       "      <td>Esto puede tener consecuencias sustanciales para la calidad del agua, especialmente en el río Mississippi y el norte del Golfo de México (De la Torre Ugarte et al., Si se requieren aportes de nutrientes para las plantaciones de madera, la infiltración y la escorrentía de nitrógeno también pueden representar un riesgo para las aguas subterráneas). (Lattimore et al., otra conclusión importante es que la ubicación de la producción y el tipo de producción de labranza, el sistema de rotación de cultivos y otras prácticas de gestión agrícola utilizadas en la producción de materias primas para la producción de bioenergía también influirán en gran medida en la calidad del agua (De la Torre Ugarte et al. ,</td>\n",
       "      <td>6</td>\n",
       "      <td>116</td>\n",
       "      <td>[puede, tener, consecuencias, sustanciales, calidad, agua, especialmente, rio, mississippi, norte, golfo, mexico, torre, ugarte, et, si, requieren, aportes, nutrientes, plantaciones, madera, infiltracion, escorrentia, nitrogeno, tambien, pueden, representar, riesgo, aguas, subterraneas, lattimore, et, conclusion, importante, ubicacion, produccion, tipo, produccion, labranza, sistema, rotacion, cultivos, practicas, gestion, agricola, utilizadas, produccion, materias, primas, produccion, bioenergia, tambien, influiran, gran, medida, calidad, agua, torre, ugarte, et]</td>\n",
       "    </tr>\n",
       "    <tr>\n",
       "      <th>4</th>\n",
       "      <td>La función de beneficio también incorpora parámetros que afectan a todos los usuarios, como los precios de insumos y productos y el clima.7 Por ejemplo, en un año seco, se espera que el beneficio de aplicar cualquier cantidad de agua a un cultivo sea mayor que en un año seco. año húmedo. La optimización óptima requeriría una valoración explícita de todos los posibles servicios ambientales asociados con el recurso de agua subterránea, tanto ahora como en el futuro. En cambio, la sociedad decide el nivel de servicios hidrológicos que es deseable y el problema económico es lograr ese nivel utilizando una solución que maximice los beneficios para los usuarios del agua.</td>\n",
       "      <td>6</td>\n",
       "      <td>111</td>\n",
       "      <td>[funcion, beneficio, tambien, incorpora, parametros, afectan, usuarios, precios, insumos, productos, clima7, ejemplo, ano, seco, espera, beneficio, aplicar, cualquier, cantidad, agua, cultivo, mayor, ano, seco, ano, humedo, optimizacion, optima, requeriria, valoracion, explicita, posibles, servicios, ambientales, asociados, recurso, agua, subterranea, ahora, futuro, cambio, sociedad, decide, nivel, servicios, hidrologicos, deseable, problema, economico, lograr, nivel, utilizando, solucion, maximice, beneficios, usuarios, agua]</td>\n",
       "    </tr>\n",
       "  </tbody>\n",
       "</table>\n",
       "</div>"
      ],
      "text/plain": [
       "                                                                                                                                                                                                                                                                                                                                                                                                                                                                                                                                                                                                                                                                                                                                                                                                                                                                                                      Textos_espanol  \\\n",
       "0                                                                                                                                                                                                                                                                      Es importante destacar que, en un año de sequía, se espera que disminuyan todos los aportes, pero que aumente la demanda de agua de los cultivos y de la vegetación, lo que provocará una reducción del caudal de los ríos que están conectados hidrológicamente con el acuífero, así como una menor disponibilidad de agua para otros ecosistemas dependientes de las aguas subterráneas. Estas externalidades espaciales pueden incluir el agotamiento de los cursos de agua y el descenso del nivel freático local. Por ejemplo, el bombeo continuo del pozo B provocará el agotamiento de los cursos de agua y la reducción de su caudal.   \n",
       "1  Hay una gran cantidad de literatura sobre Australia en esta área que sugiere fuertemente que el comercio de agua, especialmente en los mercados a corto plazo, no solo permite mitigar sustancialmente los impactos de las sequías en la agricultura, sino que ahora los agricultores lo consideran como un medio útil y básico. instrumento en su caja de herramientas de gestión de riesgos. Los desafíos políticos para Australia en el área de la regulación del agua en la agricultura están más en las áreas de cómo ajustar el sistema existente y los problemas de solidez relacionados con el cambio climático. Si bien el ejemplo australiano ilustra las posibles ganancias de eficiencia que surgen del comercio de agua, especialmente para gestionar la escasez de agua en circunstancias de sequía, la elección de un instrumento siempre debe considerar la gama completa de costos y beneficios.   \n",
       "2                                                                                                                                                                                                                                                                                                                Los procesos de descentralización, emprendidos para una serie de actividades que antes realizaba el gobierno central, llevaron a modificaciones importantes en la forma en que se administraba y operaba el sector del agua. Las únicas excepciones a esta tendencia fueron Azerbaiyán, Bielorrusia y Turkmenistán, donde la gestión del sector del agua ha permanecido fuertemente centralizada. En Azerbaiyán, por ejemplo, la empresa nacional AZERSU JSC suministra agua al 65 % de la población, con un 10 % proporcionado por pequeños operadores privados y un 25 % por los propios hogares.   \n",
       "3                                                                                                                                                                                 Esto puede tener consecuencias sustanciales para la calidad del agua, especialmente en el río Mississippi y el norte del Golfo de México (De la Torre Ugarte et al., Si se requieren aportes de nutrientes para las plantaciones de madera, la infiltración y la escorrentía de nitrógeno también pueden representar un riesgo para las aguas subterráneas). (Lattimore et al., otra conclusión importante es que la ubicación de la producción y el tipo de producción de labranza, el sistema de rotación de cultivos y otras prácticas de gestión agrícola utilizadas en la producción de materias primas para la producción de bioenergía también influirán en gran medida en la calidad del agua (De la Torre Ugarte et al. ,   \n",
       "4                                                                                                                                                                                                                  La función de beneficio también incorpora parámetros que afectan a todos los usuarios, como los precios de insumos y productos y el clima.7 Por ejemplo, en un año seco, se espera que el beneficio de aplicar cualquier cantidad de agua a un cultivo sea mayor que en un año seco. año húmedo. La optimización óptima requeriría una valoración explícita de todos los posibles servicios ambientales asociados con el recurso de agua subterránea, tanto ahora como en el futuro. En cambio, la sociedad decide el nivel de servicios hidrológicos que es deseable y el problema económico es lograr ese nivel utilizando una solución que maximice los beneficios para los usuarios del agua.   \n",
       "\n",
       "   sdg  document_lengths  \\\n",
       "0    6               103   \n",
       "1    6               142   \n",
       "2    6                89   \n",
       "3    6               116   \n",
       "4    6               111   \n",
       "\n",
       "                                                                                                                                                                                                                                                                                                                                                                                                                                                                                                                                                                                                                                                                                                                                                   words  \n",
       "0                                                                                                                                                                                                                                                             [importante, destacar, ano, sequia, espera, disminuyan, aportes, aumente, demanda, agua, cultivos, vegetacion, provocara, reduccion, caudal, rios, estan, conectados, hidrologicamente, acuifero, asi, menor, disponibilidad, agua, ecosistemas, dependientes, aguas, subterraneas, externalidades, espaciales, pueden, incluir, agotamiento, cursos, agua, descenso, nivel, freatico, local, ejemplo, bombeo, continuo, pozo, b, provocara, agotamiento, cursos, agua, reduccion, caudal]  \n",
       "1  [gran, cantidad, literatura, australia, area, sugiere, fuertemente, comercio, agua, especialmente, mercados, corto, plazo, solo, permite, mitigar, sustancialmente, impactos, sequias, agricultura, sino, ahora, agricultores, consideran, medio, util, basico, instrumento, caja, herramientas, gestion, riesgos, desafios, politicos, australia, area, regulacion, agua, agricultura, estan, mas, areas, ajustar, sistema, existente, problemas, solidez, relacionados, cambio, climatico, si, bien, ejemplo, australiano, ilustra, posibles, ganancias, eficiencia, surgen, comercio, agua, especialmente, gestionar, escasez, agua, circunstancias, sequia, eleccion, instrumento, siempre, debe, considerar, gama, completa, costos, beneficios]  \n",
       "2                                                                                                                                                                                                                                                   [procesos, descentralizacion, emprendidos, serie, actividades, realizaba, gobierno, central, llevaron, modificaciones, importantes, forma, administraba, operaba, sector, agua, unicas, excepciones, tendencia, azerbaiyan, bielorrusia, turkmenistan, gestion, sector, agua, permanecido, fuertemente, centralizada, azerbaiyan, ejemplo, empresa, nacional, azersu, jsc, suministra, agua, sixtyfive, poblacion, ten, proporcionado, pequenos, operadores, privados, twentyfive, propios, hogares]  \n",
       "3                                                                                                                                                             [puede, tener, consecuencias, sustanciales, calidad, agua, especialmente, rio, mississippi, norte, golfo, mexico, torre, ugarte, et, si, requieren, aportes, nutrientes, plantaciones, madera, infiltracion, escorrentia, nitrogeno, tambien, pueden, representar, riesgo, aguas, subterraneas, lattimore, et, conclusion, importante, ubicacion, produccion, tipo, produccion, labranza, sistema, rotacion, cultivos, practicas, gestion, agricola, utilizadas, produccion, materias, primas, produccion, bioenergia, tambien, influiran, gran, medida, calidad, agua, torre, ugarte, et]  \n",
       "4                                                                                                                                                                                                   [funcion, beneficio, tambien, incorpora, parametros, afectan, usuarios, precios, insumos, productos, clima7, ejemplo, ano, seco, espera, beneficio, aplicar, cualquier, cantidad, agua, cultivo, mayor, ano, seco, ano, humedo, optimizacion, optima, requeriria, valoracion, explicita, posibles, servicios, ambientales, asociados, recurso, agua, subterranea, ahora, futuro, cambio, sociedad, decide, nivel, servicios, hidrologicos, deseable, problema, economico, lograr, nivel, utilizando, solucion, maximice, beneficios, usuarios, agua]  "
      ]
     },
     "execution_count": 113,
     "metadata": {},
     "output_type": "execute_result"
    }
   ],
   "source": [
    "#Here we do preprocessing using the functions defined earlier\n",
    "df['words'] = df['Textos_espanol'].apply(word_tokenize).apply(preprocessing)\n",
    "df.head()"
   ]
  },
  {
   "cell_type": "markdown",
   "metadata": {},
   "source": [
    "Stemming is a technique used to reduce an inflected word down to its word stem. For example, the words “programming,” “programmer,” and “programs” can all be reduced down to the common word stem “program.” In other words, “program” can be used as a synonym for the prior three inflection words. \n",
    "\n",
    "Lemmatization is another technique used to reduce inflected words to their root word. It describes the algorithmic process of identifying an inflected word’s “lemma” (dictionary form) based on its intended meaning. "
   ]
  },
  {
   "cell_type": "code",
   "execution_count": 114,
   "metadata": {},
   "outputs": [],
   "source": [
    "wordnet_lem = WordNetLemmatizer()"
   ]
  },
  {
   "cell_type": "code",
   "execution_count": 115,
   "metadata": {},
   "outputs": [],
   "source": [
    "df['words'] = df['words'].apply( lambda lst:[wordnet_lem.lemmatize(word) for word in lst])"
   ]
  },
  {
   "cell_type": "code",
   "execution_count": 116,
   "metadata": {},
   "outputs": [
    {
     "data": {
      "text/html": [
       "<div>\n",
       "<style scoped>\n",
       "    .dataframe tbody tr th:only-of-type {\n",
       "        vertical-align: middle;\n",
       "    }\n",
       "\n",
       "    .dataframe tbody tr th {\n",
       "        vertical-align: top;\n",
       "    }\n",
       "\n",
       "    .dataframe thead th {\n",
       "        text-align: right;\n",
       "    }\n",
       "</style>\n",
       "<table border=\"1\" class=\"dataframe\">\n",
       "  <thead>\n",
       "    <tr style=\"text-align: right;\">\n",
       "      <th></th>\n",
       "      <th>Textos_espanol</th>\n",
       "      <th>sdg</th>\n",
       "      <th>document_lengths</th>\n",
       "      <th>words</th>\n",
       "    </tr>\n",
       "  </thead>\n",
       "  <tbody>\n",
       "    <tr>\n",
       "      <th>2982</th>\n",
       "      <td>En sociedades divididas, la policía tiende a estar estrechamente alineada con el grupo social dominante y sus acciones se centran en mantener la seguridad del estado en lugar de brindar servicios policiales de rutina. Como consecuencia, la actuación policial a menudo se convierte en un eje clave del conflicto y los esfuerzos para reformar la policía son fundamentales para el proceso de resolución de conflictos. Las reformas del Informe Patten, por ejemplo, fueron una parte crucial del proceso de paz en Irlanda del Norte y han sido ampliamente vistas como un éxito. Sin embargo, en otras sociedades divididas donde la reforma policial puede formar parte de una intervención de mantenimiento de la paz o un programa de ayuda internacional, el impacto de las medidas de \"reforma del sector de seguridad\" tiende a ser menos claro, en parte debido a la escala de los desafíos involucrados. y también por la diferencia en las prioridades de las sociedades 'donantes' y receptoras.</td>\n",
       "      <td>16</td>\n",
       "      <td>159</td>\n",
       "      <td>[sociedades, divididas, policia, tiende, estrechamente, alineada, grupo, social, dominante, acciones, centran, mantener, seguridad, lugar, brindar, servicios, policiales, rutina, consecuencia, actuacion, policial, menudo, convierte, eje, clave, conflicto, esfuerzos, reformar, policia, fundamentales, proceso, resolucion, conflictos, reformas, informe, patten, ejemplo, parte, crucial, proceso, paz, irlanda, norte, sido, ampliamente, vista, exito, embargo, sociedades, divididas, reforma, policial, puede, formar, parte, intervencion, mantenimiento, paz, programa, ayuda, internacional, impacto, medidas, reforma, sector, seguridad, tiende, ser, menos, claro, parte, debido, escala, desafios, involucrados, tambien, diferencia, prioridades, sociedades, donantes, receptoras]</td>\n",
       "    </tr>\n",
       "    <tr>\n",
       "      <th>2760</th>\n",
       "      <td>Amos Yaron perpetró Crímenes de Guerra, Crímenes contra la Humanidad y Genocidio en su calidad de Comandante General israelí en el control militar de los campos de refugiados de Sabra y Shatila en el Líbano ocupado por Israel en septiembre de 1982 cuando facilitó y permitió a sabiendas la masacre a gran escala de Residentes de esos dos campos en violación de las Regulaciones de La Haya sobre Guerra Terrestre de 1907, la Cuarta Convención de Ginebra de 1949, la Convención de Genocidio de 1948, la Carta de Nuremberg (1945), el Juicio de Nuremberg (1946) y los Principios de Nuremberg (1950) , el derecho internacional consuetudinario, el jus cogens, las leyes de la guerra y el derecho internacional humanitario, y sus disposiciones conexas establecidas en los artículos 9, 10 y 11 de la Carta de la Comisión de Crímenes de Guerra de Kuala Lampur.</td>\n",
       "      <td>16</td>\n",
       "      <td>144</td>\n",
       "      <td>[amos, yaron, perpetro, crimenes, guerra, crimenes, humanidad, genocidio, calidad, comandante, general, israeli, control, militar, campos, refugiados, sabra, shatila, libano, ocupado, israel, septiembre, one thousand nine hundred and eightytwo, facilito, permitio, sabiendas, masacre, gran, escala, residentes, do, campos, violacion, regulaciones, guerra, terrestre, one thousand nine hundred and seven, cuarta, convencion, ginebra, one thousand nine hundred and fortynine, convencion, genocidio, one thousand nine hundred and fortyeight, carta, nuremberg, one thousand nine hundred and fortyfive, juicio, nuremberg, one thousand nine hundred and fortysix, principios, nuremberg, one thousand nine hundred and fifty, derecho, internacional, consuetudinario, jus, cogens, leyes, guerra, derecho, internacional, humanitario, disposiciones, conexas, establecidas, articulos, nine, ten, eleven, carta, comision, crimenes, guerra, kuala, lampur]</td>\n",
       "    </tr>\n",
       "    <tr>\n",
       "      <th>1340</th>\n",
       "      <td>Por último, pero no por ello menos importante, damos las gracias a Jenny Gell por su ayuda con el formato y a la Unidad de Publicaciones de la AIE por su apoyo, en particular a Cheryl Haines por la edición, a Robert Youngblood por la coordinación y a Angela Gosmann por el diseño. Sin embargo, los programas de eficiencia energética suelen evaluarse únicamente en función del ahorro de energía que consiguen. Como resultado, el valor total de las mejoras de la eficiencia energética en las economías nacionales y mundiales puede estar significativamente subestimado.</td>\n",
       "      <td>7</td>\n",
       "      <td>93</td>\n",
       "      <td>[ultimo, ello, menos, importante, damos, gracias, jenny, gell, ayuda, formato, unidad, publicaciones, aie, apoyo, particular, cheryl, haines, edicion, robert, youngblood, coordinacion, angela, gosmann, diseno, embargo, programas, eficiencia, energetica, suelen, evaluarse, unicamente, funcion, ahorro, energia, consiguen, resultado, valor, total, mejoras, eficiencia, energetica, economias, nacionales, mundiales, puede, significativamente, subestimado]</td>\n",
       "    </tr>\n",
       "    <tr>\n",
       "      <th>1057</th>\n",
       "      <td>El tamaño medio de los aerogeneradores marinos instalados en parques eólicos de toda Europa en 2014 fue de 3,4 MW. Los avances en el diseÃ±o de cimentaciones permiten considerar la instalaciÃ³n en una amplia gama de entornos, desde el hincado tradicional de turbinas monopilote en sedimentos arenosos en aguas poco profundas (&lt; 40 metros de profundidad), bases de gravedad de hormigÃ³n para lechos marinos mÃ¡s duros y estructuras tipo jacket para aguas mÃ¡s profundas, aseguradas con pilotes mÃ¡s pequeÃ±os. Los últimos avances en energía eólica flotante utilizan cables tensores para instalar turbinas en aguas de más de 100 metros de profundidad (véase la figura 3.1), lo que amplía la posibilidad de construir parques eólicos en zonas marinas más profundas.</td>\n",
       "      <td>7</td>\n",
       "      <td>119</td>\n",
       "      <td>[tamano, medio, aerogeneradores, marino, instalados, parques, eolicos, toda, europa, two thousand and fourteen, 34, mw, avances, diseao, cimentaciones, permiten, considerar, instalacia3n, amplia, gama, entornos, hincado, tradicional, turbinas, monopilote, sedimentos, arenosos, agua, profundas, forty, metro, profundidad, base, gravedad, hormiga3n, lechos, marino, ma, duros, estructuras, tipo, jacket, agua, ma, profundas, aseguradas, pilotes, ma, pequeaos, ultimos, avances, energia, eolica, flotante, utilizan, cable, tensores, instalar, turbinas, agua, ma, one hundred, metro, profundidad, vease, figura, 31, amplia, posibilidad, construir, parques, eolicos, zona, marina, ma, profundas]</td>\n",
       "    </tr>\n",
       "    <tr>\n",
       "      <th>1335</th>\n",
       "      <td>También evalúa los impactos de la energía a base de carbón y gas con la captura y almacenamiento de carbono (CCS). Los impactos de estas tecnologías se comparan con los de la energía moderna a carbón y gas sin CCS, pero con un control de la contaminación de última generación. La bioenergía no está incluida porque está cubierta en un informe reciente del IRP (Bringezu et al., la generación de energía nuclear no está incluida porque el PNUMA considera que esta tecnología está bajo la responsabilidad de una agencia diferente de la ONU (OIEA), las plantas de energía de vapor alimentadas con petróleo fueron excluidos porque se consideran menos relevantes para el futuro.</td>\n",
       "      <td>7</td>\n",
       "      <td>113</td>\n",
       "      <td>[tambien, evalua, impactos, energia, base, carbon, gas, captura, almacenamiento, carbono, cc, impactos, tecnologias, comparan, energia, moderna, carbon, gas, cc, control, contaminacion, ultima, generacion, bioenergia, incluida, cubierta, informe, reciente, irp, bringezu, et, generacion, energia, nuclear, incluida, pnuma, considera, tecnologia, bajo, responsabilidad, agencia, diferente, onu, oiea, plantas, energia, vapor, alimentadas, petroleo, excluidos, consideran, menos, relevantes, futuro]</td>\n",
       "    </tr>\n",
       "  </tbody>\n",
       "</table>\n",
       "</div>"
      ],
      "text/plain": [
       "                                                                                                                                                                                                                                                                                                                                                                                                                                                                                                                                                                                                                                                                                                                                                                                                                                                                                                                                                                                                            Textos_espanol  \\\n",
       "2982  En sociedades divididas, la policía tiende a estar estrechamente alineada con el grupo social dominante y sus acciones se centran en mantener la seguridad del estado en lugar de brindar servicios policiales de rutina. Como consecuencia, la actuación policial a menudo se convierte en un eje clave del conflicto y los esfuerzos para reformar la policía son fundamentales para el proceso de resolución de conflictos. Las reformas del Informe Patten, por ejemplo, fueron una parte crucial del proceso de paz en Irlanda del Norte y han sido ampliamente vistas como un éxito. Sin embargo, en otras sociedades divididas donde la reforma policial puede formar parte de una intervención de mantenimiento de la paz o un programa de ayuda internacional, el impacto de las medidas de \"reforma del sector de seguridad\" tiende a ser menos claro, en parte debido a la escala de los desafíos involucrados. y también por la diferencia en las prioridades de las sociedades 'donantes' y receptoras.   \n",
       "2760                                                                                                                                   Amos Yaron perpetró Crímenes de Guerra, Crímenes contra la Humanidad y Genocidio en su calidad de Comandante General israelí en el control militar de los campos de refugiados de Sabra y Shatila en el Líbano ocupado por Israel en septiembre de 1982 cuando facilitó y permitió a sabiendas la masacre a gran escala de Residentes de esos dos campos en violación de las Regulaciones de La Haya sobre Guerra Terrestre de 1907, la Cuarta Convención de Ginebra de 1949, la Convención de Genocidio de 1948, la Carta de Nuremberg (1945), el Juicio de Nuremberg (1946) y los Principios de Nuremberg (1950) , el derecho internacional consuetudinario, el jus cogens, las leyes de la guerra y el derecho internacional humanitario, y sus disposiciones conexas establecidas en los artículos 9, 10 y 11 de la Carta de la Comisión de Crímenes de Guerra de Kuala Lampur.   \n",
       "1340                                                                                                                                                                                                                                                                                                                                                                                                                                Por último, pero no por ello menos importante, damos las gracias a Jenny Gell por su ayuda con el formato y a la Unidad de Publicaciones de la AIE por su apoyo, en particular a Cheryl Haines por la edición, a Robert Youngblood por la coordinación y a Angela Gosmann por el diseño. Sin embargo, los programas de eficiencia energética suelen evaluarse únicamente en función del ahorro de energía que consiguen. Como resultado, el valor total de las mejoras de la eficiencia energética en las economías nacionales y mundiales puede estar significativamente subestimado.   \n",
       "1057                                                                                                                                                                                                                             El tamaño medio de los aerogeneradores marinos instalados en parques eólicos de toda Europa en 2014 fue de 3,4 MW. Los avances en el diseÃ±o de cimentaciones permiten considerar la instalaciÃ³n en una amplia gama de entornos, desde el hincado tradicional de turbinas monopilote en sedimentos arenosos en aguas poco profundas (< 40 metros de profundidad), bases de gravedad de hormigÃ³n para lechos marinos mÃ¡s duros y estructuras tipo jacket para aguas mÃ¡s profundas, aseguradas con pilotes mÃ¡s pequeÃ±os. Los últimos avances en energía eólica flotante utilizan cables tensores para instalar turbinas en aguas de más de 100 metros de profundidad (véase la figura 3.1), lo que amplía la posibilidad de construir parques eólicos en zonas marinas más profundas.   \n",
       "1335                                                                                                                                                                                                                                                                                                                     También evalúa los impactos de la energía a base de carbón y gas con la captura y almacenamiento de carbono (CCS). Los impactos de estas tecnologías se comparan con los de la energía moderna a carbón y gas sin CCS, pero con un control de la contaminación de última generación. La bioenergía no está incluida porque está cubierta en un informe reciente del IRP (Bringezu et al., la generación de energía nuclear no está incluida porque el PNUMA considera que esta tecnología está bajo la responsabilidad de una agencia diferente de la ONU (OIEA), las plantas de energía de vapor alimentadas con petróleo fueron excluidos porque se consideran menos relevantes para el futuro.   \n",
       "\n",
       "      sdg  document_lengths  \\\n",
       "2982   16               159   \n",
       "2760   16               144   \n",
       "1340    7                93   \n",
       "1057    7               119   \n",
       "1335    7               113   \n",
       "\n",
       "                                                                                                                                                                                                                                                                                                                                                                                                                                                                                                                                                                                                                                                                                                                                                                                                                                                                                                                                                                             words  \n",
       "2982                                                                                                                                                                       [sociedades, divididas, policia, tiende, estrechamente, alineada, grupo, social, dominante, acciones, centran, mantener, seguridad, lugar, brindar, servicios, policiales, rutina, consecuencia, actuacion, policial, menudo, convierte, eje, clave, conflicto, esfuerzos, reformar, policia, fundamentales, proceso, resolucion, conflictos, reformas, informe, patten, ejemplo, parte, crucial, proceso, paz, irlanda, norte, sido, ampliamente, vista, exito, embargo, sociedades, divididas, reforma, policial, puede, formar, parte, intervencion, mantenimiento, paz, programa, ayuda, internacional, impacto, medidas, reforma, sector, seguridad, tiende, ser, menos, claro, parte, debido, escala, desafios, involucrados, tambien, diferencia, prioridades, sociedades, donantes, receptoras]  \n",
       "2760  [amos, yaron, perpetro, crimenes, guerra, crimenes, humanidad, genocidio, calidad, comandante, general, israeli, control, militar, campos, refugiados, sabra, shatila, libano, ocupado, israel, septiembre, one thousand nine hundred and eightytwo, facilito, permitio, sabiendas, masacre, gran, escala, residentes, do, campos, violacion, regulaciones, guerra, terrestre, one thousand nine hundred and seven, cuarta, convencion, ginebra, one thousand nine hundred and fortynine, convencion, genocidio, one thousand nine hundred and fortyeight, carta, nuremberg, one thousand nine hundred and fortyfive, juicio, nuremberg, one thousand nine hundred and fortysix, principios, nuremberg, one thousand nine hundred and fifty, derecho, internacional, consuetudinario, jus, cogens, leyes, guerra, derecho, internacional, humanitario, disposiciones, conexas, establecidas, articulos, nine, ten, eleven, carta, comision, crimenes, guerra, kuala, lampur]  \n",
       "1340                                                                                                                                                                                                                                                                                                                                                                                                                                                                                                         [ultimo, ello, menos, importante, damos, gracias, jenny, gell, ayuda, formato, unidad, publicaciones, aie, apoyo, particular, cheryl, haines, edicion, robert, youngblood, coordinacion, angela, gosmann, diseno, embargo, programas, eficiencia, energetica, suelen, evaluarse, unicamente, funcion, ahorro, energia, consiguen, resultado, valor, total, mejoras, eficiencia, energetica, economias, nacionales, mundiales, puede, significativamente, subestimado]  \n",
       "1057                                                                                                                                                                                                                                                           [tamano, medio, aerogeneradores, marino, instalados, parques, eolicos, toda, europa, two thousand and fourteen, 34, mw, avances, diseao, cimentaciones, permiten, considerar, instalacia3n, amplia, gama, entornos, hincado, tradicional, turbinas, monopilote, sedimentos, arenosos, agua, profundas, forty, metro, profundidad, base, gravedad, hormiga3n, lechos, marino, ma, duros, estructuras, tipo, jacket, agua, ma, profundas, aseguradas, pilotes, ma, pequeaos, ultimos, avances, energia, eolica, flotante, utilizan, cable, tensores, instalar, turbinas, agua, ma, one hundred, metro, profundidad, vease, figura, 31, amplia, posibilidad, construir, parques, eolicos, zona, marina, ma, profundas]  \n",
       "1335                                                                                                                                                                                                                                                                                                                                                                                                                                                             [tambien, evalua, impactos, energia, base, carbon, gas, captura, almacenamiento, carbono, cc, impactos, tecnologias, comparan, energia, moderna, carbon, gas, cc, control, contaminacion, ultima, generacion, bioenergia, incluida, cubierta, informe, reciente, irp, bringezu, et, generacion, energia, nuclear, incluida, pnuma, considera, tecnologia, bajo, responsabilidad, agencia, diferente, onu, oiea, plantas, energia, vapor, alimentadas, petroleo, excluidos, consideran, menos, relevantes, futuro]  "
      ]
     },
     "execution_count": 116,
     "metadata": {},
     "output_type": "execute_result"
    }
   ],
   "source": [
    "df.sample(5)"
   ]
  },
  {
   "cell_type": "code",
   "execution_count": 117,
   "metadata": {},
   "outputs": [
    {
     "data": {
      "text/html": [
       "<div>\n",
       "<style scoped>\n",
       "    .dataframe tbody tr th:only-of-type {\n",
       "        vertical-align: middle;\n",
       "    }\n",
       "\n",
       "    .dataframe tbody tr th {\n",
       "        vertical-align: top;\n",
       "    }\n",
       "\n",
       "    .dataframe thead th {\n",
       "        text-align: right;\n",
       "    }\n",
       "</style>\n",
       "<table border=\"1\" class=\"dataframe\">\n",
       "  <thead>\n",
       "    <tr style=\"text-align: right;\">\n",
       "      <th></th>\n",
       "      <th>Textos_espanol</th>\n",
       "      <th>sdg</th>\n",
       "      <th>document_lengths</th>\n",
       "      <th>words</th>\n",
       "    </tr>\n",
       "  </thead>\n",
       "  <tbody>\n",
       "    <tr>\n",
       "      <th>0</th>\n",
       "      <td>Es importante destacar que, en un año de sequía, se espera que disminuyan todos los aportes, pero que aumente la demanda de agua de los cultivos y de la vegetación, lo que provocará una reducción del caudal de los ríos que están conectados hidrológicamente con el acuífero, así como una menor disponibilidad de agua para otros ecosistemas dependientes de las aguas subterráneas. Estas externalidades espaciales pueden incluir el agotamiento de los cursos de agua y el descenso del nivel freático local. Por ejemplo, el bombeo continuo del pozo B provocará el agotamiento de los cursos de agua y la reducción de su caudal.</td>\n",
       "      <td>6</td>\n",
       "      <td>103</td>\n",
       "      <td>importante destacar ano sequia espera disminuyan aportes aumente demanda agua cultivos vegetacion provocara reduccion caudal rio estan conectados hidrologicamente acuifero asi menor disponibilidad agua ecosistemas dependientes agua subterraneas externalidades espaciales pueden incluir agotamiento cursos agua descenso nivel freatico local ejemplo bombeo continuo pozo b provocara agotamiento cursos agua reduccion caudal</td>\n",
       "    </tr>\n",
       "    <tr>\n",
       "      <th>1</th>\n",
       "      <td>Hay una gran cantidad de literatura sobre Australia en esta área que sugiere fuertemente que el comercio de agua, especialmente en los mercados a corto plazo, no solo permite mitigar sustancialmente los impactos de las sequías en la agricultura, sino que ahora los agricultores lo consideran como un medio útil y básico. instrumento en su caja de herramientas de gestión de riesgos. Los desafíos políticos para Australia en el área de la regulación del agua en la agricultura están más en las áreas de cómo ajustar el sistema existente y los problemas de solidez relacionados con el cambio climático. Si bien el ejemplo australiano ilustra las posibles ganancias de eficiencia que surgen del comercio de agua, especialmente para gestionar la escasez de agua en circunstancias de sequía, la elección de un instrumento siempre debe considerar la gama completa de costos y beneficios.</td>\n",
       "      <td>6</td>\n",
       "      <td>142</td>\n",
       "      <td>gran cantidad literatura australia area sugiere fuertemente comercio agua especialmente mercados corto plazo solo permite mitigar sustancialmente impactos sequias agricultura sino ahora agricultores consideran medio util basico instrumento caja herramientas gestion riesgos desafios politico australia area regulacion agua agricultura estan ma area ajustar sistema existente problemas solidez relacionados cambio climatico si bien ejemplo australiano ilustra posibles ganancias eficiencia surgen comercio agua especialmente gestionar escasez agua circunstancias sequia eleccion instrumento siempre debe considerar gama completa costos beneficios</td>\n",
       "    </tr>\n",
       "    <tr>\n",
       "      <th>2</th>\n",
       "      <td>Los procesos de descentralización, emprendidos para una serie de actividades que antes realizaba el gobierno central, llevaron a modificaciones importantes en la forma en que se administraba y operaba el sector del agua. Las únicas excepciones a esta tendencia fueron Azerbaiyán, Bielorrusia y Turkmenistán, donde la gestión del sector del agua ha permanecido fuertemente centralizada. En Azerbaiyán, por ejemplo, la empresa nacional AZERSU JSC suministra agua al 65 % de la población, con un 10 % proporcionado por pequeños operadores privados y un 25 % por los propios hogares.</td>\n",
       "      <td>6</td>\n",
       "      <td>89</td>\n",
       "      <td>procesos descentralizacion emprendidos serie actividades realizaba gobierno central llevaron modificaciones importantes forma administraba operaba sector agua unicas excepciones tendencia azerbaiyan bielorrusia turkmenistan gestion sector agua permanecido fuertemente centralizada azerbaiyan ejemplo empresa nacional azersu jsc suministra agua sixtyfive poblacion ten proporcionado pequenos operadores privados twentyfive propios hogares</td>\n",
       "    </tr>\n",
       "    <tr>\n",
       "      <th>3</th>\n",
       "      <td>Esto puede tener consecuencias sustanciales para la calidad del agua, especialmente en el río Mississippi y el norte del Golfo de México (De la Torre Ugarte et al., Si se requieren aportes de nutrientes para las plantaciones de madera, la infiltración y la escorrentía de nitrógeno también pueden representar un riesgo para las aguas subterráneas). (Lattimore et al., otra conclusión importante es que la ubicación de la producción y el tipo de producción de labranza, el sistema de rotación de cultivos y otras prácticas de gestión agrícola utilizadas en la producción de materias primas para la producción de bioenergía también influirán en gran medida en la calidad del agua (De la Torre Ugarte et al. ,</td>\n",
       "      <td>6</td>\n",
       "      <td>116</td>\n",
       "      <td>puede tener consecuencias sustanciales calidad agua especialmente rio mississippi norte golfo mexico torre ugarte et si requieren aportes nutrientes plantaciones madera infiltracion escorrentia nitrogeno tambien pueden representar riesgo agua subterraneas lattimore et conclusion importante ubicacion produccion tipo produccion labranza sistema rotacion cultivos practicas gestion agricola utilizadas produccion materias prima produccion bioenergia tambien influiran gran medida calidad agua torre ugarte et</td>\n",
       "    </tr>\n",
       "    <tr>\n",
       "      <th>4</th>\n",
       "      <td>La función de beneficio también incorpora parámetros que afectan a todos los usuarios, como los precios de insumos y productos y el clima.7 Por ejemplo, en un año seco, se espera que el beneficio de aplicar cualquier cantidad de agua a un cultivo sea mayor que en un año seco. año húmedo. La optimización óptima requeriría una valoración explícita de todos los posibles servicios ambientales asociados con el recurso de agua subterránea, tanto ahora como en el futuro. En cambio, la sociedad decide el nivel de servicios hidrológicos que es deseable y el problema económico es lograr ese nivel utilizando una solución que maximice los beneficios para los usuarios del agua.</td>\n",
       "      <td>6</td>\n",
       "      <td>111</td>\n",
       "      <td>funcion beneficio tambien incorpora parametros afectan usuarios precios insumos productos clima7 ejemplo ano seco espera beneficio aplicar cualquier cantidad agua cultivo mayor ano seco ano humedo optimizacion optimum requeriria valoracion explicita posibles servicios ambientales asociados recurso agua subterranea ahora futuro cambio sociedad decide nivel servicios hidrologicos deseable problema economico lograr nivel utilizando solucion maximice beneficios usuarios agua</td>\n",
       "    </tr>\n",
       "    <tr>\n",
       "      <th>...</th>\n",
       "      <td>...</td>\n",
       "      <td>...</td>\n",
       "      <td>...</td>\n",
       "      <td>...</td>\n",
       "    </tr>\n",
       "    <tr>\n",
       "      <th>2995</th>\n",
       "      <td>\"Forjando una Convención para los Crímenes contra la Humanidad\" incluye el texto de la Convención Internacional Propuesta para la Prevención y el Castigo de los Crímenes contra la Humanidad, un relato del desarrollo histórico de la Convención Propuesta y 15 artículos académicos de destacados expertos en derecho penal internacional. Los documentos se presentaron y discutieron inicialmente en una conferencia celebrada en la Facultad de Derecho de la Universidad de Washington los días 13 y 14 de abril de 2009. Su enfoque abarca desde debates técnicos sobre cuestiones jurídicas específicas hasta análisis de codificaciones y definiciones anteriores de crímenes de lesa humanidad en la Roma Estatuto de la Corte Penal Internacional (CPI) y en las leyes estatutarias de los tribunales ad hoc. En general, este es un trabajo sobresaliente y estimulante que será una referencia esencial para académicos, estudiosos del derecho, profesionales, defensores de los derechos humanos y quienes se dedican al estudio y la promoción del derecho penal internacional.</td>\n",
       "      <td>16</td>\n",
       "      <td>159</td>\n",
       "      <td>forjando convencion crimenes humanidad incluye texto convencion internacional propuesta prevencion castigo crimenes humanidad relato desarrollo historico convencion propuesta fifteen articulos academicos destacados expertos derecho penal internacional documentos presentaron discutieron inicialmente conferencia celebrada facultad derecho universidad washington dia thirteen fourteen abril two thousand and nine enfoque abarca debate tecnicos cuestiones juridicas especificas analisis codificaciones definiciones anteriores crimenes lesa humanidad rom estatuto corte penal internacional cpi leyes estatutarias tribunales ad hoc general trabajo sobresaliente estimulante serum referencia esencial academicos estudiosos derecho profesionales defensores derechos humanos dedican estudio promocion derecho penal internacional</td>\n",
       "    </tr>\n",
       "    <tr>\n",
       "      <th>2996</th>\n",
       "      <td>En 2016, Daragh Murray publicó su libro Obligaciones de derechos humanos de los grupos armados no estatales (Hart 2016). A diferencia de muchas otras contribuciones sobre este tema ampliamente discutido, Murray intenta brindar al lector una visión general completa del marco legal que permite a los grupos armados adquirir estatus legal internacional, y preferiblemente fuera del marco de un conflicto armado. Encamina al lector por el camino de la personalidad jurídica internacional, que conduce al reconocimiento de los grupos armados como destinatarios del derecho. El intento de Murray es valiente, interesante e innovador, pero tiene sus defectos. Estos incluyen su confianza en el derecho penal internacional como fuente para definir los grupos armados y su insistencia en salirse del derecho internacional humanitario. No obstante, su aporte es fundamental para quienes desean incluir aún más grupos armados en el plano internacional.</td>\n",
       "      <td>16</td>\n",
       "      <td>140</td>\n",
       "      <td>two thousand and sixteen daragh murray publico libro obligaciones derechos humanos grupos armados estatales hart two thousand and sixteen diferencia muchas contribuciones tema ampliamente discutido murray intenta brindar lector vision general completa marco legal permite grupos armados adquirir estatus legal internacional preferiblemente marco conflicto armado encamina lector camino personalidad juridica internacional conduce reconocimiento grupos armados destinatarios derecho intento murray valiente interesante innovador defectos incluyen confianza derecho penal internacional fuente definir grupos armados insistencia salirse derecho internacional humanitario obstante aporte fundamental desean incluir aun ma grupos armados plano internacional</td>\n",
       "    </tr>\n",
       "    <tr>\n",
       "      <th>2997</th>\n",
       "      <td>En este libro, el autor argumenta que el activismo judicial dirigido a la protección de los derechos humanos y la dignidad y el derecho al debido proceso es un elemento esencial del estado de derecho democrático en una democracia constitucional en lugar de ser una “extralimitación judicial”. Dicho de otra manera, aquí se sostiene que la protección de los derechos humanos, especialmente de los vulnerables y marginados, a través de la toma de decisiones judiciales en una democracia constitucional no equivale a que los jueces “hagan leyes” (en oposición a interpretar la ley). Más bien representa a los tribunales interpretando y explicando lo que la constitución ordena que el derecho estatutario y consuetudinario es o debe ser si aún no lo es.</td>\n",
       "      <td>16</td>\n",
       "      <td>122</td>\n",
       "      <td>libro autor argumenta activismo judicial dirigido proteccion derechos humanos dignidad derecho debido proceso elemento esencial derecho democratico democracia constitucional lugar ser extralimitacion judicial dicho manera aqui sostiene proteccion derechos humanos especialmente vulnerables marginados trave toma decisiones judiciales democracia constitucional equivale jueces hagan leyes oposicion interpretar ley ma bien representa tribunales interpretando explicando constitucion ordena derecho estatutario consuetudinario debe ser si aun</td>\n",
       "    </tr>\n",
       "    <tr>\n",
       "      <th>2998</th>\n",
       "      <td>* Facultad de Derecho, Universidad de Manchester. 1 SW v Secretary of State for the Home Department (Adjudicatorâ€™s questions) Somalia [2005] UKIAT00037, apartado 20. El Tribunal de ApelaciÃ³n de InmigraciÃ³n, el tribunal judicial independiente del Reino Unido responsable de resolver los recursos contra las decisiones iniciales de asilo de la DirecciÃ³n de InmigraciÃ³n y Nacionalidad, pasÃ³ a denominarse Tribunal de Asilo e InmigraciÃ³n en abril de 2005. Véase además R. Thomas, \"Evaluating Tribunal Adjudication: Administrative Justice and Asylum Appeals\", Legal Studies 25/3 (2005) pp. 462-498. La mayor parte de las resoluciones del Tribunal, aunque no todas, a las que se hace referencia a continuación pueden consultarse en su sitio web . 2 C. Blake, â€oeJudging Asylum and Immigration Claims: The Human Rights Act and the Refugee Convention\", Public Money &amp; Management 21/3 (2001) pp. 25, 27. Evaluación de la credibilidad de las solicitudes de asilo: EU and UK Approaches Examined</td>\n",
       "      <td>16</td>\n",
       "      <td>151</td>\n",
       "      <td>facultad derecho universidad manchester one sw v secretary of state for the home department adjudicatoras question somalia two thousand and five ukiat00037 apartado twenty tribunal apelacia3n inmigracia3n tribunal judicial independiente reino unido responsable resolver recursos decisiones iniciales asilo direccia3n inmigracia3n nacionalidad pasa3 denominarse tribunal asilo inmigracia3n abril two thousand and five vease ademas r thomas evaluating tribunal adjudication administrative justice and asylum appeal legal study 253 two thousand and five pp 462498 mayor parte resoluciones tribunal aunque toda hace referencia continuacion pueden consultarse sitio web two c blake aoejudging asylum and immigration claim the human right act and the refugee convention public money management 213 two thousand and one pp twentyfive twentyseven evaluacion credibilidad solicitude asilo eu and uk approach examined</td>\n",
       "    </tr>\n",
       "    <tr>\n",
       "      <th>2999</th>\n",
       "      <td>Este caso 1 constituye el primer pronunciamiento de la Corte Internacional de Justicia (CIJ) sobre la obligación de extraditar o juzgar ( aut dedere aut judicare ) en derecho internacional. Es el segundo caso contencioso en el que la CIJ considera que el país demandado ha incumplido las obligaciones que le incumben en virtud de un convenio de derechos humanos. La CIJ amplió el corpus de normas que ha reconocido formalmente como normas imperativas ( jus cogens ) y también reforzó el principio de que los ex jefes de Estado están sujetos a la jurisdicción universal por violaciones graves del derecho internacional.</td>\n",
       "      <td>16</td>\n",
       "      <td>102</td>\n",
       "      <td>caso one constituye primer pronunciamiento corte internacional justicia cij obligacion extraditar juzgar aut dedere aut judicare derecho internacional segundo caso contencioso cij considera pais demandado incumplido obligaciones incumben virtud convenio derechos humanos cij amplio corpus norma reconocido formalmente norma imperativas jus cogens tambien reforzo principio ex jefes estan sujetos jurisdiccion universal violaciones graf derecho internacional</td>\n",
       "    </tr>\n",
       "  </tbody>\n",
       "</table>\n",
       "<p>3000 rows × 4 columns</p>\n",
       "</div>"
      ],
      "text/plain": [
       "                                                                                                                                                                                                                                                                                                                                                                                                                                                                                                                                                                                                                                                                                                                                                                                                                                                                                                                                                                                                                                                                                        Textos_espanol  \\\n",
       "0                                                                                                                                                                                                                                                                                                                                                                                                                                                        Es importante destacar que, en un año de sequía, se espera que disminuyan todos los aportes, pero que aumente la demanda de agua de los cultivos y de la vegetación, lo que provocará una reducción del caudal de los ríos que están conectados hidrológicamente con el acuífero, así como una menor disponibilidad de agua para otros ecosistemas dependientes de las aguas subterráneas. Estas externalidades espaciales pueden incluir el agotamiento de los cursos de agua y el descenso del nivel freático local. Por ejemplo, el bombeo continuo del pozo B provocará el agotamiento de los cursos de agua y la reducción de su caudal.   \n",
       "1                                                                                                                                                                                    Hay una gran cantidad de literatura sobre Australia en esta área que sugiere fuertemente que el comercio de agua, especialmente en los mercados a corto plazo, no solo permite mitigar sustancialmente los impactos de las sequías en la agricultura, sino que ahora los agricultores lo consideran como un medio útil y básico. instrumento en su caja de herramientas de gestión de riesgos. Los desafíos políticos para Australia en el área de la regulación del agua en la agricultura están más en las áreas de cómo ajustar el sistema existente y los problemas de solidez relacionados con el cambio climático. Si bien el ejemplo australiano ilustra las posibles ganancias de eficiencia que surgen del comercio de agua, especialmente para gestionar la escasez de agua en circunstancias de sequía, la elección de un instrumento siempre debe considerar la gama completa de costos y beneficios.   \n",
       "2                                                                                                                                                                                                                                                                                                                                                                                                                                                                                                  Los procesos de descentralización, emprendidos para una serie de actividades que antes realizaba el gobierno central, llevaron a modificaciones importantes en la forma en que se administraba y operaba el sector del agua. Las únicas excepciones a esta tendencia fueron Azerbaiyán, Bielorrusia y Turkmenistán, donde la gestión del sector del agua ha permanecido fuertemente centralizada. En Azerbaiyán, por ejemplo, la empresa nacional AZERSU JSC suministra agua al 65 % de la población, con un 10 % proporcionado por pequeños operadores privados y un 25 % por los propios hogares.   \n",
       "3                                                                                                                                                                                                                                                                                                                                                                   Esto puede tener consecuencias sustanciales para la calidad del agua, especialmente en el río Mississippi y el norte del Golfo de México (De la Torre Ugarte et al., Si se requieren aportes de nutrientes para las plantaciones de madera, la infiltración y la escorrentía de nitrógeno también pueden representar un riesgo para las aguas subterráneas). (Lattimore et al., otra conclusión importante es que la ubicación de la producción y el tipo de producción de labranza, el sistema de rotación de cultivos y otras prácticas de gestión agrícola utilizadas en la producción de materias primas para la producción de bioenergía también influirán en gran medida en la calidad del agua (De la Torre Ugarte et al. ,   \n",
       "4                                                                                                                                                                                                                                                                                                                                                                                                    La función de beneficio también incorpora parámetros que afectan a todos los usuarios, como los precios de insumos y productos y el clima.7 Por ejemplo, en un año seco, se espera que el beneficio de aplicar cualquier cantidad de agua a un cultivo sea mayor que en un año seco. año húmedo. La optimización óptima requeriría una valoración explícita de todos los posibles servicios ambientales asociados con el recurso de agua subterránea, tanto ahora como en el futuro. En cambio, la sociedad decide el nivel de servicios hidrológicos que es deseable y el problema económico es lograr ese nivel utilizando una solución que maximice los beneficios para los usuarios del agua.   \n",
       "...                                                                                                                                                                                                                                                                                                                                                                                                                                                                                                                                                                                                                                                                                                                                                                                                                                                                                                                                                                                                                                                                                                ...   \n",
       "2995  \"Forjando una Convención para los Crímenes contra la Humanidad\" incluye el texto de la Convención Internacional Propuesta para la Prevención y el Castigo de los Crímenes contra la Humanidad, un relato del desarrollo histórico de la Convención Propuesta y 15 artículos académicos de destacados expertos en derecho penal internacional. Los documentos se presentaron y discutieron inicialmente en una conferencia celebrada en la Facultad de Derecho de la Universidad de Washington los días 13 y 14 de abril de 2009. Su enfoque abarca desde debates técnicos sobre cuestiones jurídicas específicas hasta análisis de codificaciones y definiciones anteriores de crímenes de lesa humanidad en la Roma Estatuto de la Corte Penal Internacional (CPI) y en las leyes estatutarias de los tribunales ad hoc. En general, este es un trabajo sobresaliente y estimulante que será una referencia esencial para académicos, estudiosos del derecho, profesionales, defensores de los derechos humanos y quienes se dedican al estudio y la promoción del derecho penal internacional.   \n",
       "2996                                                                                                                    En 2016, Daragh Murray publicó su libro Obligaciones de derechos humanos de los grupos armados no estatales (Hart 2016). A diferencia de muchas otras contribuciones sobre este tema ampliamente discutido, Murray intenta brindar al lector una visión general completa del marco legal que permite a los grupos armados adquirir estatus legal internacional, y preferiblemente fuera del marco de un conflicto armado. Encamina al lector por el camino de la personalidad jurídica internacional, que conduce al reconocimiento de los grupos armados como destinatarios del derecho. El intento de Murray es valiente, interesante e innovador, pero tiene sus defectos. Estos incluyen su confianza en el derecho penal internacional como fuente para definir los grupos armados y su insistencia en salirse del derecho internacional humanitario. No obstante, su aporte es fundamental para quienes desean incluir aún más grupos armados en el plano internacional.   \n",
       "2997                                                                                                                                                                                                                                                                                                                     En este libro, el autor argumenta que el activismo judicial dirigido a la protección de los derechos humanos y la dignidad y el derecho al debido proceso es un elemento esencial del estado de derecho democrático en una democracia constitucional en lugar de ser una “extralimitación judicial”. Dicho de otra manera, aquí se sostiene que la protección de los derechos humanos, especialmente de los vulnerables y marginados, a través de la toma de decisiones judiciales en una democracia constitucional no equivale a que los jueces “hagan leyes” (en oposición a interpretar la ley). Más bien representa a los tribunales interpretando y explicando lo que la constitución ordena que el derecho estatutario y consuetudinario es o debe ser si aún no lo es.   \n",
       "2998                                                                 * Facultad de Derecho, Universidad de Manchester. 1 SW v Secretary of State for the Home Department (Adjudicatorâ€™s questions) Somalia [2005] UKIAT00037, apartado 20. El Tribunal de ApelaciÃ³n de InmigraciÃ³n, el tribunal judicial independiente del Reino Unido responsable de resolver los recursos contra las decisiones iniciales de asilo de la DirecciÃ³n de InmigraciÃ³n y Nacionalidad, pasÃ³ a denominarse Tribunal de Asilo e InmigraciÃ³n en abril de 2005. Véase además R. Thomas, \"Evaluating Tribunal Adjudication: Administrative Justice and Asylum Appeals\", Legal Studies 25/3 (2005) pp. 462-498. La mayor parte de las resoluciones del Tribunal, aunque no todas, a las que se hace referencia a continuación pueden consultarse en su sitio web . 2 C. Blake, â€oeJudging Asylum and Immigration Claims: The Human Rights Act and the Refugee Convention\", Public Money & Management 21/3 (2001) pp. 25, 27. Evaluación de la credibilidad de las solicitudes de asilo: EU and UK Approaches Examined    \n",
       "2999                                                                                                                                                                                                                                                                                                                                                                                                                                                        Este caso 1 constituye el primer pronunciamiento de la Corte Internacional de Justicia (CIJ) sobre la obligación de extraditar o juzgar ( aut dedere aut judicare ) en derecho internacional. Es el segundo caso contencioso en el que la CIJ considera que el país demandado ha incumplido las obligaciones que le incumben en virtud de un convenio de derechos humanos. La CIJ amplió el corpus de normas que ha reconocido formalmente como normas imperativas ( jus cogens ) y también reforzó el principio de que los ex jefes de Estado están sujetos a la jurisdicción universal por violaciones graves del derecho internacional.   \n",
       "\n",
       "      sdg  document_lengths  \\\n",
       "0       6               103   \n",
       "1       6               142   \n",
       "2       6                89   \n",
       "3       6               116   \n",
       "4       6               111   \n",
       "...   ...               ...   \n",
       "2995   16               159   \n",
       "2996   16               140   \n",
       "2997   16               122   \n",
       "2998   16               151   \n",
       "2999   16               102   \n",
       "\n",
       "                                                                                                                                                                                                                                                                                                                                                                                                                                                                                                                                                                                                                                                                                                                                                                                                                                                                                                                                            words  \n",
       "0                                                                                                                                                                                                                                                                                                                                                                                                                                                                                                           importante destacar ano sequia espera disminuyan aportes aumente demanda agua cultivos vegetacion provocara reduccion caudal rio estan conectados hidrologicamente acuifero asi menor disponibilidad agua ecosistemas dependientes agua subterraneas externalidades espaciales pueden incluir agotamiento cursos agua descenso nivel freatico local ejemplo bombeo continuo pozo b provocara agotamiento cursos agua reduccion caudal  \n",
       "1                                                                                                                                                                                                                                                                           gran cantidad literatura australia area sugiere fuertemente comercio agua especialmente mercados corto plazo solo permite mitigar sustancialmente impactos sequias agricultura sino ahora agricultores consideran medio util basico instrumento caja herramientas gestion riesgos desafios politico australia area regulacion agua agricultura estan ma area ajustar sistema existente problemas solidez relacionados cambio climatico si bien ejemplo australiano ilustra posibles ganancias eficiencia surgen comercio agua especialmente gestionar escasez agua circunstancias sequia eleccion instrumento siempre debe considerar gama completa costos beneficios  \n",
       "2                                                                                                                                                                                                                                                                                                                                                                                                                                                                                           procesos descentralizacion emprendidos serie actividades realizaba gobierno central llevaron modificaciones importantes forma administraba operaba sector agua unicas excepciones tendencia azerbaiyan bielorrusia turkmenistan gestion sector agua permanecido fuertemente centralizada azerbaiyan ejemplo empresa nacional azersu jsc suministra agua sixtyfive poblacion ten proporcionado pequenos operadores privados twentyfive propios hogares  \n",
       "3                                                                                                                                                                                                                                                                                                                                                                                                                     puede tener consecuencias sustanciales calidad agua especialmente rio mississippi norte golfo mexico torre ugarte et si requieren aportes nutrientes plantaciones madera infiltracion escorrentia nitrogeno tambien pueden representar riesgo agua subterraneas lattimore et conclusion importante ubicacion produccion tipo produccion labranza sistema rotacion cultivos practicas gestion agricola utilizadas produccion materias prima produccion bioenergia tambien influiran gran medida calidad agua torre ugarte et  \n",
       "4                                                                                                                                                                                                                                                                                                                                                                                                                                                     funcion beneficio tambien incorpora parametros afectan usuarios precios insumos productos clima7 ejemplo ano seco espera beneficio aplicar cualquier cantidad agua cultivo mayor ano seco ano humedo optimizacion optimum requeriria valoracion explicita posibles servicios ambientales asociados recurso agua subterranea ahora futuro cambio sociedad decide nivel servicios hidrologicos deseable problema economico lograr nivel utilizando solucion maximice beneficios usuarios agua  \n",
       "...                                                                                                                                                                                                                                                                                                                                                                                                                                                                                                                                                                                                                                                                                                                                                                                                                                                                                                                                           ...  \n",
       "2995                                                                                        forjando convencion crimenes humanidad incluye texto convencion internacional propuesta prevencion castigo crimenes humanidad relato desarrollo historico convencion propuesta fifteen articulos academicos destacados expertos derecho penal internacional documentos presentaron discutieron inicialmente conferencia celebrada facultad derecho universidad washington dia thirteen fourteen abril two thousand and nine enfoque abarca debate tecnicos cuestiones juridicas especificas analisis codificaciones definiciones anteriores crimenes lesa humanidad rom estatuto corte penal internacional cpi leyes estatutarias tribunales ad hoc general trabajo sobresaliente estimulante serum referencia esencial academicos estudiosos derecho profesionales defensores derechos humanos dedican estudio promocion derecho penal internacional  \n",
       "2996                                                                                                                                                             two thousand and sixteen daragh murray publico libro obligaciones derechos humanos grupos armados estatales hart two thousand and sixteen diferencia muchas contribuciones tema ampliamente discutido murray intenta brindar lector vision general completa marco legal permite grupos armados adquirir estatus legal internacional preferiblemente marco conflicto armado encamina lector camino personalidad juridica internacional conduce reconocimiento grupos armados destinatarios derecho intento murray valiente interesante innovador defectos incluyen confianza derecho penal internacional fuente definir grupos armados insistencia salirse derecho internacional humanitario obstante aporte fundamental desean incluir aun ma grupos armados plano internacional  \n",
       "2997                                                                                                                                                                                                                                                                                                                                                                                 libro autor argumenta activismo judicial dirigido proteccion derechos humanos dignidad derecho debido proceso elemento esencial derecho democratico democracia constitucional lugar ser extralimitacion judicial dicho manera aqui sostiene proteccion derechos humanos especialmente vulnerables marginados trave toma decisiones judiciales democracia constitucional equivale jueces hagan leyes oposicion interpretar ley ma bien representa tribunales interpretando explicando constitucion ordena derecho estatutario consuetudinario debe ser si aun  \n",
       "2998  facultad derecho universidad manchester one sw v secretary of state for the home department adjudicatoras question somalia two thousand and five ukiat00037 apartado twenty tribunal apelacia3n inmigracia3n tribunal judicial independiente reino unido responsable resolver recursos decisiones iniciales asilo direccia3n inmigracia3n nacionalidad pasa3 denominarse tribunal asilo inmigracia3n abril two thousand and five vease ademas r thomas evaluating tribunal adjudication administrative justice and asylum appeal legal study 253 two thousand and five pp 462498 mayor parte resoluciones tribunal aunque toda hace referencia continuacion pueden consultarse sitio web two c blake aoejudging asylum and immigration claim the human right act and the refugee convention public money management 213 two thousand and one pp twentyfive twentyseven evaluacion credibilidad solicitude asilo eu and uk approach examined  \n",
       "2999                                                                                                                                                                                                                                                                                                                                                                                                                                                                    caso one constituye primer pronunciamiento corte internacional justicia cij obligacion extraditar juzgar aut dedere aut judicare derecho internacional segundo caso contencioso cij considera pais demandado incumplido obligaciones incumben virtud convenio derechos humanos cij amplio corpus norma reconocido formalmente norma imperativas jus cogens tambien reforzo principio ex jefes estan sujetos jurisdiccion universal violaciones graf derecho internacional  \n",
       "\n",
       "[3000 rows x 4 columns]"
      ]
     },
     "execution_count": 117,
     "metadata": {},
     "output_type": "execute_result"
    }
   ],
   "source": [
    "df['words'] = df['words'].apply(lambda x: ' '.join(map(str, x)))\n",
    "df"
   ]
  },
  {
   "cell_type": "markdown",
   "metadata": {},
   "source": [
    "## 3. Construccion modelos"
   ]
  },
  {
   "cell_type": "code",
   "execution_count": 118,
   "metadata": {},
   "outputs": [],
   "source": [
    "X_train, X_test, y_train, y_test = train_test_split(df[\"words\"], df[\"sdg\"], test_size=0.3, stratify=df[\"sdg\"], random_state=1)"
   ]
  },
  {
   "cell_type": "code",
   "execution_count": 119,
   "metadata": {},
   "outputs": [
    {
     "data": {
      "text/plain": [
       "((2100,), (900,))"
      ]
     },
     "execution_count": 119,
     "metadata": {},
     "output_type": "execute_result"
    }
   ],
   "source": [
    "X_train.shape, X_test.shape"
   ]
  },
  {
   "cell_type": "markdown",
   "metadata": {},
   "source": [
    "A core problem then is to construct a numerical representation of words. Vectorization is the process of converting a word to a vector of numbers that embodies the information contained in the word. Depending on the vectorization technique, this vector may have additional properties that may allow comparison with other words.\n",
    "\n",
    "For our model we'll try three different ways to vectorize the words. The simplest approach for vectorizing is to use counts of words. The second approach is more sophisticated, with its origins in information retrieval, and is called TF-IDF. The third approach is relatively new, having been published in 2013, and uses RNNs to generate embeddings or word vectors. "
   ]
  },
  {
   "cell_type": "markdown",
   "metadata": {},
   "source": [
    "### Count-based vectorization\n",
    "\n",
    " Each unique word appearing in the corpus is assigned a column in the vocabulary. Each document, which would correspond to individual messages in the spam example, is assigned a row. The counts of the words appearing in that document are entered in the relevant cell corresponding to the document and the word. We end up with a n x m matrix."
   ]
  },
  {
   "cell_type": "code",
   "execution_count": 120,
   "metadata": {},
   "outputs": [],
   "source": [
    "bow = CountVectorizer(analyzer='word', stop_words=stop_words, lowercase=True)"
   ]
  },
  {
   "cell_type": "code",
   "execution_count": 121,
   "metadata": {},
   "outputs": [],
   "source": [
    "X_bow = bow.fit_transform(X_train)#X_train[\"words\"])"
   ]
  },
  {
   "cell_type": "code",
   "execution_count": 122,
   "metadata": {},
   "outputs": [
    {
     "name": "stdout",
     "output_type": "stream",
     "text": [
      "Vocabulary size: 17539\n"
     ]
    }
   ],
   "source": [
    "print(\"Vocabulary size:\", len(bow.vocabulary_))"
   ]
  },
  {
   "cell_type": "code",
   "execution_count": 123,
   "metadata": {},
   "outputs": [],
   "source": [
    "bow_model = RandomForestClassifier(random_state=2)"
   ]
  },
  {
   "cell_type": "code",
   "execution_count": 124,
   "metadata": {},
   "outputs": [
    {
     "data": {
      "text/html": [
       "<style>#sk-container-id-5 {color: black;}#sk-container-id-5 pre{padding: 0;}#sk-container-id-5 div.sk-toggleable {background-color: white;}#sk-container-id-5 label.sk-toggleable__label {cursor: pointer;display: block;width: 100%;margin-bottom: 0;padding: 0.3em;box-sizing: border-box;text-align: center;}#sk-container-id-5 label.sk-toggleable__label-arrow:before {content: \"▸\";float: left;margin-right: 0.25em;color: #696969;}#sk-container-id-5 label.sk-toggleable__label-arrow:hover:before {color: black;}#sk-container-id-5 div.sk-estimator:hover label.sk-toggleable__label-arrow:before {color: black;}#sk-container-id-5 div.sk-toggleable__content {max-height: 0;max-width: 0;overflow: hidden;text-align: left;background-color: #f0f8ff;}#sk-container-id-5 div.sk-toggleable__content pre {margin: 0.2em;color: black;border-radius: 0.25em;background-color: #f0f8ff;}#sk-container-id-5 input.sk-toggleable__control:checked~div.sk-toggleable__content {max-height: 200px;max-width: 100%;overflow: auto;}#sk-container-id-5 input.sk-toggleable__control:checked~label.sk-toggleable__label-arrow:before {content: \"▾\";}#sk-container-id-5 div.sk-estimator input.sk-toggleable__control:checked~label.sk-toggleable__label {background-color: #d4ebff;}#sk-container-id-5 div.sk-label input.sk-toggleable__control:checked~label.sk-toggleable__label {background-color: #d4ebff;}#sk-container-id-5 input.sk-hidden--visually {border: 0;clip: rect(1px 1px 1px 1px);clip: rect(1px, 1px, 1px, 1px);height: 1px;margin: -1px;overflow: hidden;padding: 0;position: absolute;width: 1px;}#sk-container-id-5 div.sk-estimator {font-family: monospace;background-color: #f0f8ff;border: 1px dotted black;border-radius: 0.25em;box-sizing: border-box;margin-bottom: 0.5em;}#sk-container-id-5 div.sk-estimator:hover {background-color: #d4ebff;}#sk-container-id-5 div.sk-parallel-item::after {content: \"\";width: 100%;border-bottom: 1px solid gray;flex-grow: 1;}#sk-container-id-5 div.sk-label:hover label.sk-toggleable__label {background-color: #d4ebff;}#sk-container-id-5 div.sk-serial::before {content: \"\";position: absolute;border-left: 1px solid gray;box-sizing: border-box;top: 0;bottom: 0;left: 50%;z-index: 0;}#sk-container-id-5 div.sk-serial {display: flex;flex-direction: column;align-items: center;background-color: white;padding-right: 0.2em;padding-left: 0.2em;position: relative;}#sk-container-id-5 div.sk-item {position: relative;z-index: 1;}#sk-container-id-5 div.sk-parallel {display: flex;align-items: stretch;justify-content: center;background-color: white;position: relative;}#sk-container-id-5 div.sk-item::before, #sk-container-id-5 div.sk-parallel-item::before {content: \"\";position: absolute;border-left: 1px solid gray;box-sizing: border-box;top: 0;bottom: 0;left: 50%;z-index: -1;}#sk-container-id-5 div.sk-parallel-item {display: flex;flex-direction: column;z-index: 1;position: relative;background-color: white;}#sk-container-id-5 div.sk-parallel-item:first-child::after {align-self: flex-end;width: 50%;}#sk-container-id-5 div.sk-parallel-item:last-child::after {align-self: flex-start;width: 50%;}#sk-container-id-5 div.sk-parallel-item:only-child::after {width: 0;}#sk-container-id-5 div.sk-dashed-wrapped {border: 1px dashed gray;margin: 0 0.4em 0.5em 0.4em;box-sizing: border-box;padding-bottom: 0.4em;background-color: white;}#sk-container-id-5 div.sk-label label {font-family: monospace;font-weight: bold;display: inline-block;line-height: 1.2em;}#sk-container-id-5 div.sk-label-container {text-align: center;}#sk-container-id-5 div.sk-container {/* jupyter's `normalize.less` sets `[hidden] { display: none; }` but bootstrap.min.css set `[hidden] { display: none !important; }` so we also need the `!important` here to be able to override the default hidden behavior on the sphinx rendered scikit-learn.org. See: https://github.com/scikit-learn/scikit-learn/issues/21755 */display: inline-block !important;position: relative;}#sk-container-id-5 div.sk-text-repr-fallback {display: none;}</style><div id=\"sk-container-id-5\" class=\"sk-top-container\"><div class=\"sk-text-repr-fallback\"><pre>RandomForestClassifier(random_state=2)</pre><b>In a Jupyter environment, please rerun this cell to show the HTML representation or trust the notebook. <br />On GitHub, the HTML representation is unable to render, please try loading this page with nbviewer.org.</b></div><div class=\"sk-container\" hidden><div class=\"sk-item\"><div class=\"sk-estimator sk-toggleable\"><input class=\"sk-toggleable__control sk-hidden--visually\" id=\"sk-estimator-id-5\" type=\"checkbox\" checked><label for=\"sk-estimator-id-5\" class=\"sk-toggleable__label sk-toggleable__label-arrow\">RandomForestClassifier</label><div class=\"sk-toggleable__content\"><pre>RandomForestClassifier(random_state=2)</pre></div></div></div></div></div>"
      ],
      "text/plain": [
       "RandomForestClassifier(random_state=2)"
      ]
     },
     "execution_count": 124,
     "metadata": {},
     "output_type": "execute_result"
    }
   ],
   "source": [
    "bow_model.fit(X_bow, y_train)"
   ]
  },
  {
   "cell_type": "code",
   "execution_count": 125,
   "metadata": {},
   "outputs": [
    {
     "data": {
      "text/plain": [
       "<Axes: >"
      ]
     },
     "execution_count": 125,
     "metadata": {},
     "output_type": "execute_result"
    },
    {
     "data": {
      "image/png": "[encoded data removed]",
      "text/plain": [
       "<Figure size 1080x720 with 1 Axes>"
      ]
     },
     "metadata": {},
     "output_type": "display_data"
    }
   ],
   "source": [
    "pd.Series(bow_model.feature_importances_, index=bow.vocabulary_).sort_values().tail(20).plot.barh(figsize=(15, 10))"
   ]
  },
  {
   "cell_type": "code",
   "execution_count": 126,
   "metadata": {},
   "outputs": [
    {
     "name": "stdout",
     "output_type": "stream",
     "text": [
      "Number of trees: 100\n",
      "Trees depth (mean): 96.21\n"
     ]
    }
   ],
   "source": [
    "bow_estimators = bow_model.estimators_\n",
    "print(\"Number of trees:\", len(bow_estimators))\n",
    "print(\"Trees depth (mean):\", np.mean([tree.get_depth() for tree in bow_estimators]))"
   ]
  },
  {
   "cell_type": "code",
   "execution_count": 127,
   "metadata": {},
   "outputs": [],
   "source": [
    "y_train_bow_predict = bow_model.predict(X_bow)\n",
    "y_test_bow_predict = bow_model.predict(bow.transform(X_test))"
   ]
  },
  {
   "cell_type": "code",
   "execution_count": 128,
   "metadata": {},
   "outputs": [
    {
     "data": {
      "text/plain": [
       "<sklearn.metrics._plot.confusion_matrix.ConfusionMatrixDisplay at 0x2b07ba1f070>"
      ]
     },
     "execution_count": 128,
     "metadata": {},
     "output_type": "execute_result"
    },
    {
     "data": {
      "image/png": "[encoded data removed]",
      "text/plain": [
       "<Figure size 432x288 with 2 Axes>"
      ]
     },
     "metadata": {},
     "output_type": "display_data"
    }
   ],
   "source": [
    "ConfusionMatrixDisplay.from_predictions(y_train, y_train_bow_predict)"
   ]
  },
  {
   "cell_type": "code",
   "execution_count": 129,
   "metadata": {},
   "outputs": [
    {
     "data": {
      "text/plain": [
       "<sklearn.metrics._plot.confusion_matrix.ConfusionMatrixDisplay at 0x2b00bac2eb0>"
      ]
     },
     "execution_count": 129,
     "metadata": {},
     "output_type": "execute_result"
    },
    {
     "data": {
      "image/png": "[encoded data removed]",
      "text/plain": [
       "<Figure size 432x288 with 2 Axes>"
      ]
     },
     "metadata": {},
     "output_type": "display_data"
    }
   ],
   "source": [
    "ConfusionMatrixDisplay.from_predictions(y_test, y_test_bow_predict)"
   ]
  },
  {
   "cell_type": "markdown",
   "metadata": {},
   "source": [
    "The precision score is a measure of a model's ability to correctly identify positive predictions. It is calculated as the ratio of true positives to the sum of true positives and false positives. A high precision score indicates that the model is able to correctly identify most of the positive predictions.\n",
    "\n",
    "The recall score is a measure of a model's ability to correctly identify positive samples. It is calculated as the ratio of true positives to the sum of true positives and false negatives. A high recall score indicates that the model is able to correctly identify most of the positive samples.\n",
    "\n",
    "The `average` argument specifies the type of averaging performed on the data. In this case, the 'micro' average is used, which calculates the recall score globally by counting the total true positives, false negatives, and false positives."
   ]
  },
  {
   "cell_type": "code",
   "execution_count": 130,
   "metadata": {},
   "outputs": [
    {
     "name": "stdout",
     "output_type": "stream",
     "text": [
      "Precision Score :  0.9811111111111112\n",
      "Recall Score :  0.9811111111111112\n"
     ]
    },
    {
     "name": "stderr",
     "output_type": "stream",
     "text": [
      "C:\\Users\\juanm\\AppData\\Roaming\\Python\\Python39\\site-packages\\sklearn\\metrics\\_classification.py:1521: UserWarning: Note that pos_label (set to 'positive') is ignored when average != 'binary' (got 'micro'). You may use labels=[pos_label] to specify a single positive class.\n",
      "  warnings.warn(\n",
      "C:\\Users\\juanm\\AppData\\Roaming\\Python\\Python39\\site-packages\\sklearn\\metrics\\_classification.py:1521: UserWarning: Note that pos_label (set to 'positive') is ignored when average != 'binary' (got 'micro'). You may use labels=[pos_label] to specify a single positive class.\n",
      "  warnings.warn(\n"
     ]
    }
   ],
   "source": [
    "print(\"Precision Score : \",precision_score(y_test, y_test_bow_predict, \n",
    "                                           pos_label='positive',\n",
    "                                           average='micro'))\n",
    "print(\"Recall Score : \",recall_score(y_test, y_test_bow_predict, \n",
    "                                           pos_label='positive',\n",
    "                                           average='micro'))"
   ]
  },
  {
   "cell_type": "markdown",
   "metadata": {},
   "source": [
    "## Segundo modelo"
   ]
  },
  {
   "cell_type": "code",
   "execution_count": 131,
   "metadata": {},
   "outputs": [],
   "source": [
    "tfidf = TfidfVectorizer(tokenizer=word_tokenize, stop_words=stop_words, lowercase=True)"
   ]
  },
  {
   "cell_type": "code",
   "execution_count": 132,
   "metadata": {},
   "outputs": [
    {
     "name": "stderr",
     "output_type": "stream",
     "text": [
      "C:\\Users\\juanm\\AppData\\Roaming\\Python\\Python39\\site-packages\\sklearn\\feature_extraction\\text.py:525: UserWarning: The parameter 'token_pattern' will not be used since 'tokenizer' is not None'\n",
      "  warnings.warn(\n"
     ]
    }
   ],
   "source": [
    "X_tfid = tfidf.fit_transform(X_train)"
   ]
  },
  {
   "cell_type": "code",
   "execution_count": 133,
   "metadata": {},
   "outputs": [],
   "source": [
    "tf_idf_model = RandomForestClassifier(random_state=3)"
   ]
  },
  {
   "cell_type": "code",
   "execution_count": 134,
   "metadata": {},
   "outputs": [
    {
     "data": {
      "text/html": [
       "<style>#sk-container-id-6 {color: black;}#sk-container-id-6 pre{padding: 0;}#sk-container-id-6 div.sk-toggleable {background-color: white;}#sk-container-id-6 label.sk-toggleable__label {cursor: pointer;display: block;width: 100%;margin-bottom: 0;padding: 0.3em;box-sizing: border-box;text-align: center;}#sk-container-id-6 label.sk-toggleable__label-arrow:before {content: \"▸\";float: left;margin-right: 0.25em;color: #696969;}#sk-container-id-6 label.sk-toggleable__label-arrow:hover:before {color: black;}#sk-container-id-6 div.sk-estimator:hover label.sk-toggleable__label-arrow:before {color: black;}#sk-container-id-6 div.sk-toggleable__content {max-height: 0;max-width: 0;overflow: hidden;text-align: left;background-color: #f0f8ff;}#sk-container-id-6 div.sk-toggleable__content pre {margin: 0.2em;color: black;border-radius: 0.25em;background-color: #f0f8ff;}#sk-container-id-6 input.sk-toggleable__control:checked~div.sk-toggleable__content {max-height: 200px;max-width: 100%;overflow: auto;}#sk-container-id-6 input.sk-toggleable__control:checked~label.sk-toggleable__label-arrow:before {content: \"▾\";}#sk-container-id-6 div.sk-estimator input.sk-toggleable__control:checked~label.sk-toggleable__label {background-color: #d4ebff;}#sk-container-id-6 div.sk-label input.sk-toggleable__control:checked~label.sk-toggleable__label {background-color: #d4ebff;}#sk-container-id-6 input.sk-hidden--visually {border: 0;clip: rect(1px 1px 1px 1px);clip: rect(1px, 1px, 1px, 1px);height: 1px;margin: -1px;overflow: hidden;padding: 0;position: absolute;width: 1px;}#sk-container-id-6 div.sk-estimator {font-family: monospace;background-color: #f0f8ff;border: 1px dotted black;border-radius: 0.25em;box-sizing: border-box;margin-bottom: 0.5em;}#sk-container-id-6 div.sk-estimator:hover {background-color: #d4ebff;}#sk-container-id-6 div.sk-parallel-item::after {content: \"\";width: 100%;border-bottom: 1px solid gray;flex-grow: 1;}#sk-container-id-6 div.sk-label:hover label.sk-toggleable__label {background-color: #d4ebff;}#sk-container-id-6 div.sk-serial::before {content: \"\";position: absolute;border-left: 1px solid gray;box-sizing: border-box;top: 0;bottom: 0;left: 50%;z-index: 0;}#sk-container-id-6 div.sk-serial {display: flex;flex-direction: column;align-items: center;background-color: white;padding-right: 0.2em;padding-left: 0.2em;position: relative;}#sk-container-id-6 div.sk-item {position: relative;z-index: 1;}#sk-container-id-6 div.sk-parallel {display: flex;align-items: stretch;justify-content: center;background-color: white;position: relative;}#sk-container-id-6 div.sk-item::before, #sk-container-id-6 div.sk-parallel-item::before {content: \"\";position: absolute;border-left: 1px solid gray;box-sizing: border-box;top: 0;bottom: 0;left: 50%;z-index: -1;}#sk-container-id-6 div.sk-parallel-item {display: flex;flex-direction: column;z-index: 1;position: relative;background-color: white;}#sk-container-id-6 div.sk-parallel-item:first-child::after {align-self: flex-end;width: 50%;}#sk-container-id-6 div.sk-parallel-item:last-child::after {align-self: flex-start;width: 50%;}#sk-container-id-6 div.sk-parallel-item:only-child::after {width: 0;}#sk-container-id-6 div.sk-dashed-wrapped {border: 1px dashed gray;margin: 0 0.4em 0.5em 0.4em;box-sizing: border-box;padding-bottom: 0.4em;background-color: white;}#sk-container-id-6 div.sk-label label {font-family: monospace;font-weight: bold;display: inline-block;line-height: 1.2em;}#sk-container-id-6 div.sk-label-container {text-align: center;}#sk-container-id-6 div.sk-container {/* jupyter's `normalize.less` sets `[hidden] { display: none; }` but bootstrap.min.css set `[hidden] { display: none !important; }` so we also need the `!important` here to be able to override the default hidden behavior on the sphinx rendered scikit-learn.org. See: https://github.com/scikit-learn/scikit-learn/issues/21755 */display: inline-block !important;position: relative;}#sk-container-id-6 div.sk-text-repr-fallback {display: none;}</style><div id=\"sk-container-id-6\" class=\"sk-top-container\"><div class=\"sk-text-repr-fallback\"><pre>RandomForestClassifier(random_state=3)</pre><b>In a Jupyter environment, please rerun this cell to show the HTML representation or trust the notebook. <br />On GitHub, the HTML representation is unable to render, please try loading this page with nbviewer.org.</b></div><div class=\"sk-container\" hidden><div class=\"sk-item\"><div class=\"sk-estimator sk-toggleable\"><input class=\"sk-toggleable__control sk-hidden--visually\" id=\"sk-estimator-id-6\" type=\"checkbox\" checked><label for=\"sk-estimator-id-6\" class=\"sk-toggleable__label sk-toggleable__label-arrow\">RandomForestClassifier</label><div class=\"sk-toggleable__content\"><pre>RandomForestClassifier(random_state=3)</pre></div></div></div></div></div>"
      ],
      "text/plain": [
       "RandomForestClassifier(random_state=3)"
      ]
     },
     "execution_count": 134,
     "metadata": {},
     "output_type": "execute_result"
    }
   ],
   "source": [
    "tf_idf_model.fit(X_tfid, y_train)"
   ]
  },
  {
   "cell_type": "code",
   "execution_count": 135,
   "metadata": {},
   "outputs": [
    {
     "data": {
      "text/plain": [
       "<Axes: >"
      ]
     },
     "execution_count": 135,
     "metadata": {},
     "output_type": "execute_result"
    },
    {
     "data": {
      "image/png": "[encoded data removed]",
      "text/plain": [
       "<Figure size 1080x720 with 1 Axes>"
      ]
     },
     "metadata": {},
     "output_type": "display_data"
    }
   ],
   "source": [
    "pd.Series(tf_idf_model.feature_importances_, index=tfidf.vocabulary_).sort_values().tail(20).plot.barh(figsize=(15, 10))"
   ]
  },
  {
   "cell_type": "code",
   "execution_count": 136,
   "metadata": {},
   "outputs": [],
   "source": [
    "y_train_tfidf_predict = tf_idf_model.predict(X_tfid)\n",
    "y_test_tfidf_predict = tf_idf_model.predict(tfidf.transform(X_test))"
   ]
  },
  {
   "cell_type": "code",
   "execution_count": 137,
   "metadata": {},
   "outputs": [
    {
     "name": "stdout",
     "output_type": "stream",
     "text": [
      "Precision Score :  0.98\n",
      "Recall Score :  0.98\n"
     ]
    },
    {
     "name": "stderr",
     "output_type": "stream",
     "text": [
      "C:\\Users\\juanm\\AppData\\Roaming\\Python\\Python39\\site-packages\\sklearn\\metrics\\_classification.py:1521: UserWarning: Note that pos_label (set to 'positive') is ignored when average != 'binary' (got 'micro'). You may use labels=[pos_label] to specify a single positive class.\n",
      "  warnings.warn(\n",
      "C:\\Users\\juanm\\AppData\\Roaming\\Python\\Python39\\site-packages\\sklearn\\metrics\\_classification.py:1521: UserWarning: Note that pos_label (set to 'positive') is ignored when average != 'binary' (got 'micro'). You may use labels=[pos_label] to specify a single positive class.\n",
      "  warnings.warn(\n"
     ]
    }
   ],
   "source": [
    "print(\"Precision Score : \",precision_score(y_test, y_test_tfidf_predict, \n",
    "                                           pos_label='positive',\n",
    "                                           average='micro'))\n",
    "print(\"Recall Score : \",recall_score(y_test, y_test_tfidf_predict, \n",
    "                                           pos_label='positive',\n",
    "                                           average='micro'))"
   ]
  }
 ],
 "metadata": {
  "kernelspec": {
   "display_name": "Python 3",
   "language": "python",
   "name": "python3"
  },
  "language_info": {
   "codemirror_mode": {
    "name": "ipython",
    "version": 3
   },
   "file_extension": ".py",
   "mimetype": "text/x-python",
   "name": "python",
   "nbconvert_exporter": "python",
   "pygments_lexer": "ipython3",
   "version": "3.9.0"
  }
 },
 "nbformat": 4,
 "nbformat_minor": 2
}
